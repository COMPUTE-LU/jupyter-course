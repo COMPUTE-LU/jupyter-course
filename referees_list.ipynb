{
 "cells": [
  {
   "cell_type": "code",
   "execution_count": 2,
   "metadata": {},
   "outputs": [],
   "source": [
    "import numpy as np\n",
    "import pandas as pd\n",
    "import random as rd"
   ]
  },
  {
   "cell_type": "code",
   "execution_count": 3,
   "metadata": {},
   "outputs": [],
   "source": [
    "r = rd.Random(10)"
   ]
  },
  {
   "cell_type": "code",
   "execution_count": 4,
   "metadata": {},
   "outputs": [],
   "source": [
    "students_str = \"\"\"Klas\n",
    "Mads\n",
    "Camille\n",
    "Timmi\n",
    "Rachele\n",
    "Karolina\n",
    "Majda\n",
    "Lili\n",
    "Eva\n",
    "Nathan\n",
    "Albertas\n",
    "Nicholai\n",
    "Alexander\n",
    "Pablo\n",
    "Vasilii\n",
    "Jovana\"\"\"\n",
    "students = students_str.split('\\n')"
   ]
  },
  {
   "cell_type": "code",
   "execution_count": 5,
   "metadata": {},
   "outputs": [
    {
     "name": "stdout",
     "output_type": "stream",
     "text": [
      "16\n"
     ]
    }
   ],
   "source": [
    "print(len(students))\n",
    "df = pd.DataFrame(data=np.zeros((len(students),len(students))),index=students,columns=students)\n",
    "for stu1 in students:\n",
    "    while ( df[stu1].sum() != 2 ):\n",
    "        stu2 = r.choice(students)\n",
    "        if ( df.xs(stu2).sum() < 2 and df[stu1].sum() < 2 ):\n",
    "            if ( df.xs(stu2)[stu1] == 0 and df.xs(stu1)[stu2] == 0 ):\n",
    "                df.xs(stu2)[stu1] = 1"
   ]
  },
  {
   "cell_type": "code",
   "execution_count": 6,
   "metadata": {},
   "outputs": [
    {
     "data": {
      "text/html": [
       "<div>\n",
       "<style scoped>\n",
       "    .dataframe tbody tr th:only-of-type {\n",
       "        vertical-align: middle;\n",
       "    }\n",
       "\n",
       "    .dataframe tbody tr th {\n",
       "        vertical-align: top;\n",
       "    }\n",
       "\n",
       "    .dataframe thead th {\n",
       "        text-align: right;\n",
       "    }\n",
       "</style>\n",
       "<table border=\"1\" class=\"dataframe\">\n",
       "  <thead>\n",
       "    <tr style=\"text-align: right;\">\n",
       "      <th></th>\n",
       "      <th>project to review # 1</th>\n",
       "      <th>project to review # 2</th>\n",
       "    </tr>\n",
       "  </thead>\n",
       "  <tbody>\n",
       "    <tr>\n",
       "      <th>Klas</th>\n",
       "      <td>Pablo</td>\n",
       "      <td>Mads</td>\n",
       "    </tr>\n",
       "    <tr>\n",
       "      <th>Mads</th>\n",
       "      <td>Jovana</td>\n",
       "      <td>Majda</td>\n",
       "    </tr>\n",
       "    <tr>\n",
       "      <th>Camille</th>\n",
       "      <td>Jovana</td>\n",
       "      <td>Vasilii</td>\n",
       "    </tr>\n",
       "    <tr>\n",
       "      <th>Timmi</th>\n",
       "      <td>Eva</td>\n",
       "      <td>Karolina</td>\n",
       "    </tr>\n",
       "    <tr>\n",
       "      <th>Rachele</th>\n",
       "      <td>Albertas</td>\n",
       "      <td>Mads</td>\n",
       "    </tr>\n",
       "    <tr>\n",
       "      <th>Karolina</th>\n",
       "      <td>Lili</td>\n",
       "      <td>Camille</td>\n",
       "    </tr>\n",
       "    <tr>\n",
       "      <th>Majda</th>\n",
       "      <td>Pablo</td>\n",
       "      <td>Nicholai</td>\n",
       "    </tr>\n",
       "    <tr>\n",
       "      <th>Lili</th>\n",
       "      <td>Nicholai</td>\n",
       "      <td>Rachele</td>\n",
       "    </tr>\n",
       "    <tr>\n",
       "      <th>Eva</th>\n",
       "      <td>Alexander</td>\n",
       "      <td>Nathan</td>\n",
       "    </tr>\n",
       "    <tr>\n",
       "      <th>Nathan</th>\n",
       "      <td>Vasilii</td>\n",
       "      <td>Karolina</td>\n",
       "    </tr>\n",
       "    <tr>\n",
       "      <th>Albertas</th>\n",
       "      <td>Nathan</td>\n",
       "      <td>Lili</td>\n",
       "    </tr>\n",
       "    <tr>\n",
       "      <th>Nicholai</th>\n",
       "      <td>Alexander</td>\n",
       "      <td>Klas</td>\n",
       "    </tr>\n",
       "    <tr>\n",
       "      <th>Alexander</th>\n",
       "      <td>Majda</td>\n",
       "      <td>Rachele</td>\n",
       "    </tr>\n",
       "    <tr>\n",
       "      <th>Pablo</th>\n",
       "      <td>Albertas</td>\n",
       "      <td>Camille</td>\n",
       "    </tr>\n",
       "    <tr>\n",
       "      <th>Vasilii</th>\n",
       "      <td>Eva</td>\n",
       "      <td>Timmi</td>\n",
       "    </tr>\n",
       "    <tr>\n",
       "      <th>Jovana</th>\n",
       "      <td>Timmi</td>\n",
       "      <td>Klas</td>\n",
       "    </tr>\n",
       "  </tbody>\n",
       "</table>\n",
       "</div>"
      ],
      "text/plain": [
       "          project to review # 1 project to review # 2\n",
       "Klas                      Pablo                  Mads\n",
       "Mads                     Jovana                 Majda\n",
       "Camille                  Jovana               Vasilii\n",
       "Timmi                       Eva              Karolina\n",
       "Rachele                Albertas                  Mads\n",
       "Karolina                   Lili               Camille\n",
       "Majda                     Pablo              Nicholai\n",
       "Lili                   Nicholai               Rachele\n",
       "Eva                   Alexander                Nathan\n",
       "Nathan                  Vasilii              Karolina\n",
       "Albertas                 Nathan                  Lili\n",
       "Nicholai              Alexander                  Klas\n",
       "Alexander                 Majda               Rachele\n",
       "Pablo                  Albertas               Camille\n",
       "Vasilii                     Eva                 Timmi\n",
       "Jovana                    Timmi                  Klas"
      ]
     },
     "execution_count": 6,
     "metadata": {},
     "output_type": "execute_result"
    }
   ],
   "source": [
    "data = {}\n",
    "for col in df.columns:\n",
    "    data[col.split('@')[0]] = { 'project to review # 1': df[col].sort_values(ascending=False).index[0].split('@')[0], \n",
    "                 'project to review # 2': df[col].sort_values(ascending=False).index[1].split('@')[0] }\n",
    "dataframe = pd.DataFrame(data)\n",
    "dataframe.T"
   ]
  },
  {
   "cell_type": "code",
   "execution_count": null,
   "metadata": {},
   "outputs": [],
   "source": [
    "print(dataframe.T.to_html())"
   ]
  },
  {
   "cell_type": "code",
   "execution_count": null,
   "metadata": {},
   "outputs": [],
   "source": [
    "df.sum(axis=1)"
   ]
  },
  {
   "cell_type": "code",
   "execution_count": null,
   "metadata": {},
   "outputs": [],
   "source": [
    "df.sum(axis=0)"
   ]
  }
 ],
 "metadata": {
  "kernelspec": {
   "display_name": "Python 3",
   "language": "python",
   "name": "python3"
  },
  "language_info": {
   "codemirror_mode": {
    "name": "ipython",
    "version": 3
   },
   "file_extension": ".py",
   "mimetype": "text/x-python",
   "name": "python",
   "nbconvert_exporter": "python",
   "pygments_lexer": "ipython3",
   "version": "3.7.1"
  }
 },
 "nbformat": 4,
 "nbformat_minor": 2
}
