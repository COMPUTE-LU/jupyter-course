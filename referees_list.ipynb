{
 "cells": [
  {
   "cell_type": "code",
   "execution_count": 6,
   "metadata": {},
   "outputs": [],
   "source": [
    "import numpy as np\n",
    "import pandas as pd\n",
    "import random as rd"
   ]
  },
  {
   "cell_type": "code",
   "execution_count": 7,
   "metadata": {},
   "outputs": [],
   "source": [
    "r = rd.Random(81)"
   ]
  },
  {
   "cell_type": "code",
   "execution_count": 8,
   "metadata": {},
   "outputs": [],
   "source": [
    "students_str = \"\"\"klas.lucander@nateko.lu.se\n",
    "mads.jeppesen@biochemistry.lu.se\n",
    "camille.garcia@biochemistry.lu.se\n",
    "timmi@astro.lu.se\n",
    "rachele@maths.lth.se\n",
    "karolina.pantazatou@nateko.lu.se\n",
    "majda.misini_ignjatovic@teokem.lu.se\n",
    "lili.cao@teokem.lu.se\n",
    "eva.hansen@hep.lu.se\n",
    "nathan.simpson@hep.lu.se\n",
    "albertas.dvirnas@thep.lu.se\n",
    "nicholai.mauritzson@nuclear.lu.se\n",
    "Alexander.Backis@esss.se\n",
    "Pablo.Costas.Franco@esss.se\n",
    "vasilii.goriachkin@matstat.lu.se\n",
    "jovana.colvin@sljus.lu.se\"\"\"\n",
    "students = students_str.split('\\n')"
   ]
  },
  {
   "cell_type": "code",
   "execution_count": 9,
   "metadata": {},
   "outputs": [
    {
     "name": "stdout",
     "output_type": "stream",
     "text": [
      "16\n"
     ]
    }
   ],
   "source": [
    "print(len(students))\n",
    "df = pd.DataFrame(data=np.zeros((len(students),len(students))),index=students,columns=students)\n",
    "for stu1 in students:\n",
    "    while ( df[stu1].sum() != 2 ):\n",
    "        stu2 = r.choice(students)\n",
    "        if ( stu1.split('@')[1] != stu2.split('@')[1] ):\n",
    "            if ( df.xs(stu2).sum() < 2 and df[stu1].sum() < 2 ):\n",
    "                if ( df.xs(stu2)[stu1] == 0 and df.xs(stu1)[stu2] == 0 ):\n",
    "                    df.xs(stu2)[stu1] = 1"
   ]
  },
  {
   "cell_type": "code",
   "execution_count": 10,
   "metadata": {},
   "outputs": [
    {
     "data": {
      "text/html": [
       "<div>\n",
       "<style scoped>\n",
       "    .dataframe tbody tr th:only-of-type {\n",
       "        vertical-align: middle;\n",
       "    }\n",
       "\n",
       "    .dataframe tbody tr th {\n",
       "        vertical-align: top;\n",
       "    }\n",
       "\n",
       "    .dataframe thead th {\n",
       "        text-align: right;\n",
       "    }\n",
       "</style>\n",
       "<table border=\"1\" class=\"dataframe\">\n",
       "  <thead>\n",
       "    <tr style=\"text-align: right;\">\n",
       "      <th></th>\n",
       "      <th>project to review # 1</th>\n",
       "      <th>project to review # 2</th>\n",
       "    </tr>\n",
       "  </thead>\n",
       "  <tbody>\n",
       "    <tr>\n",
       "      <th>klas.lucander</th>\n",
       "      <td>vasilii.goriachkin</td>\n",
       "      <td>albertas.dvirnas</td>\n",
       "    </tr>\n",
       "    <tr>\n",
       "      <th>mads.jeppesen</th>\n",
       "      <td>jovana.colvin</td>\n",
       "      <td>Alexander.Backis</td>\n",
       "    </tr>\n",
       "    <tr>\n",
       "      <th>camille.garcia</th>\n",
       "      <td>karolina.pantazatou</td>\n",
       "      <td>klas.lucander</td>\n",
       "    </tr>\n",
       "    <tr>\n",
       "      <th>timmi</th>\n",
       "      <td>vasilii.goriachkin</td>\n",
       "      <td>rachele</td>\n",
       "    </tr>\n",
       "    <tr>\n",
       "      <th>rachele</th>\n",
       "      <td>albertas.dvirnas</td>\n",
       "      <td>klas.lucander</td>\n",
       "    </tr>\n",
       "    <tr>\n",
       "      <th>karolina.pantazatou</th>\n",
       "      <td>nicholai.mauritzson</td>\n",
       "      <td>nathan.simpson</td>\n",
       "    </tr>\n",
       "    <tr>\n",
       "      <th>majda.misini_ignjatovic</th>\n",
       "      <td>nathan.simpson</td>\n",
       "      <td>rachele</td>\n",
       "    </tr>\n",
       "    <tr>\n",
       "      <th>lili.cao</th>\n",
       "      <td>karolina.pantazatou</td>\n",
       "      <td>camille.garcia</td>\n",
       "    </tr>\n",
       "    <tr>\n",
       "      <th>eva.hansen</th>\n",
       "      <td>Alexander.Backis</td>\n",
       "      <td>lili.cao</td>\n",
       "    </tr>\n",
       "    <tr>\n",
       "      <th>nathan.simpson</th>\n",
       "      <td>Pablo.Costas.Franco</td>\n",
       "      <td>lili.cao</td>\n",
       "    </tr>\n",
       "    <tr>\n",
       "      <th>albertas.dvirnas</th>\n",
       "      <td>nicholai.mauritzson</td>\n",
       "      <td>eva.hansen</td>\n",
       "    </tr>\n",
       "    <tr>\n",
       "      <th>nicholai.mauritzson</th>\n",
       "      <td>timmi</td>\n",
       "      <td>mads.jeppesen</td>\n",
       "    </tr>\n",
       "    <tr>\n",
       "      <th>Alexander.Backis</th>\n",
       "      <td>majda.misini_ignjatovic</td>\n",
       "      <td>timmi</td>\n",
       "    </tr>\n",
       "    <tr>\n",
       "      <th>Pablo.Costas.Franco</th>\n",
       "      <td>majda.misini_ignjatovic</td>\n",
       "      <td>mads.jeppesen</td>\n",
       "    </tr>\n",
       "    <tr>\n",
       "      <th>vasilii.goriachkin</th>\n",
       "      <td>jovana.colvin</td>\n",
       "      <td>eva.hansen</td>\n",
       "    </tr>\n",
       "    <tr>\n",
       "      <th>jovana.colvin</th>\n",
       "      <td>Pablo.Costas.Franco</td>\n",
       "      <td>camille.garcia</td>\n",
       "    </tr>\n",
       "  </tbody>\n",
       "</table>\n",
       "</div>"
      ],
      "text/plain": [
       "                           project to review # 1 project to review # 2\n",
       "klas.lucander                 vasilii.goriachkin      albertas.dvirnas\n",
       "mads.jeppesen                      jovana.colvin      Alexander.Backis\n",
       "camille.garcia               karolina.pantazatou         klas.lucander\n",
       "timmi                         vasilii.goriachkin               rachele\n",
       "rachele                         albertas.dvirnas         klas.lucander\n",
       "karolina.pantazatou          nicholai.mauritzson        nathan.simpson\n",
       "majda.misini_ignjatovic           nathan.simpson               rachele\n",
       "lili.cao                     karolina.pantazatou        camille.garcia\n",
       "eva.hansen                      Alexander.Backis              lili.cao\n",
       "nathan.simpson               Pablo.Costas.Franco              lili.cao\n",
       "albertas.dvirnas             nicholai.mauritzson            eva.hansen\n",
       "nicholai.mauritzson                        timmi         mads.jeppesen\n",
       "Alexander.Backis         majda.misini_ignjatovic                 timmi\n",
       "Pablo.Costas.Franco      majda.misini_ignjatovic         mads.jeppesen\n",
       "vasilii.goriachkin                 jovana.colvin            eva.hansen\n",
       "jovana.colvin                Pablo.Costas.Franco        camille.garcia"
      ]
     },
     "execution_count": 10,
     "metadata": {},
     "output_type": "execute_result"
    }
   ],
   "source": [
    "data = {}\n",
    "for col in df.columns:\n",
    "    data[col.split('@')[0]] = { 'project to review # 1': df[col].sort_values(ascending=False).index[0].split('@')[0], \n",
    "                 'project to review # 2': df[col].sort_values(ascending=False).index[1].split('@')[0] }\n",
    "dataframe = pd.DataFrame(data)\n",
    "dataframe.T"
   ]
  },
  {
   "cell_type": "code",
   "execution_count": 11,
   "metadata": {},
   "outputs": [
    {
     "name": "stdout",
     "output_type": "stream",
     "text": [
      "<table border=\"1\" class=\"dataframe\">\n",
      "  <thead>\n",
      "    <tr style=\"text-align: right;\">\n",
      "      <th></th>\n",
      "      <th>project to review # 1</th>\n",
      "      <th>project to review # 2</th>\n",
      "    </tr>\n",
      "  </thead>\n",
      "  <tbody>\n",
      "    <tr>\n",
      "      <th>klas.lucander</th>\n",
      "      <td>vasilii.goriachkin</td>\n",
      "      <td>albertas.dvirnas</td>\n",
      "    </tr>\n",
      "    <tr>\n",
      "      <th>mads.jeppesen</th>\n",
      "      <td>jovana.colvin</td>\n",
      "      <td>Alexander.Backis</td>\n",
      "    </tr>\n",
      "    <tr>\n",
      "      <th>camille.garcia</th>\n",
      "      <td>karolina.pantazatou</td>\n",
      "      <td>klas.lucander</td>\n",
      "    </tr>\n",
      "    <tr>\n",
      "      <th>timmi</th>\n",
      "      <td>vasilii.goriachkin</td>\n",
      "      <td>rachele</td>\n",
      "    </tr>\n",
      "    <tr>\n",
      "      <th>rachele</th>\n",
      "      <td>albertas.dvirnas</td>\n",
      "      <td>klas.lucander</td>\n",
      "    </tr>\n",
      "    <tr>\n",
      "      <th>karolina.pantazatou</th>\n",
      "      <td>nicholai.mauritzson</td>\n",
      "      <td>nathan.simpson</td>\n",
      "    </tr>\n",
      "    <tr>\n",
      "      <th>majda.misini_ignjatovic</th>\n",
      "      <td>nathan.simpson</td>\n",
      "      <td>rachele</td>\n",
      "    </tr>\n",
      "    <tr>\n",
      "      <th>lili.cao</th>\n",
      "      <td>karolina.pantazatou</td>\n",
      "      <td>camille.garcia</td>\n",
      "    </tr>\n",
      "    <tr>\n",
      "      <th>eva.hansen</th>\n",
      "      <td>Alexander.Backis</td>\n",
      "      <td>lili.cao</td>\n",
      "    </tr>\n",
      "    <tr>\n",
      "      <th>nathan.simpson</th>\n",
      "      <td>Pablo.Costas.Franco</td>\n",
      "      <td>lili.cao</td>\n",
      "    </tr>\n",
      "    <tr>\n",
      "      <th>albertas.dvirnas</th>\n",
      "      <td>nicholai.mauritzson</td>\n",
      "      <td>eva.hansen</td>\n",
      "    </tr>\n",
      "    <tr>\n",
      "      <th>nicholai.mauritzson</th>\n",
      "      <td>timmi</td>\n",
      "      <td>mads.jeppesen</td>\n",
      "    </tr>\n",
      "    <tr>\n",
      "      <th>Alexander.Backis</th>\n",
      "      <td>majda.misini_ignjatovic</td>\n",
      "      <td>timmi</td>\n",
      "    </tr>\n",
      "    <tr>\n",
      "      <th>Pablo.Costas.Franco</th>\n",
      "      <td>majda.misini_ignjatovic</td>\n",
      "      <td>mads.jeppesen</td>\n",
      "    </tr>\n",
      "    <tr>\n",
      "      <th>vasilii.goriachkin</th>\n",
      "      <td>jovana.colvin</td>\n",
      "      <td>eva.hansen</td>\n",
      "    </tr>\n",
      "    <tr>\n",
      "      <th>jovana.colvin</th>\n",
      "      <td>Pablo.Costas.Franco</td>\n",
      "      <td>camille.garcia</td>\n",
      "    </tr>\n",
      "  </tbody>\n",
      "</table>\n"
     ]
    }
   ],
   "source": [
    "print(dataframe.T.to_html())"
   ]
  },
  {
   "cell_type": "code",
   "execution_count": 12,
   "metadata": {},
   "outputs": [
    {
     "data": {
      "text/plain": [
       "klas.lucander@nateko.lu.se              2.0\n",
       "mads.jeppesen@biochemistry.lu.se        2.0\n",
       "camille.garcia@biochemistry.lu.se       2.0\n",
       "timmi@astro.lu.se                       2.0\n",
       "rachele@maths.lth.se                    2.0\n",
       "karolina.pantazatou@nateko.lu.se        2.0\n",
       "majda.misini_ignjatovic@teokem.lu.se    2.0\n",
       "lili.cao@teokem.lu.se                   2.0\n",
       "eva.hansen@hep.lu.se                    2.0\n",
       "nathan.simpson@hep.lu.se                2.0\n",
       "albertas.dvirnas@thep.lu.se             2.0\n",
       "nicholai.mauritzson@nuclear.lu.se       2.0\n",
       "Alexander.Backis@esss.se                2.0\n",
       "Pablo.Costas.Franco@esss.se             2.0\n",
       "vasilii.goriachkin@matstat.lu.se        2.0\n",
       "jovana.colvin@sljus.lu.se               2.0\n",
       "dtype: float64"
      ]
     },
     "execution_count": 12,
     "metadata": {},
     "output_type": "execute_result"
    }
   ],
   "source": [
    "df.sum(axis=1)"
   ]
  },
  {
   "cell_type": "code",
   "execution_count": 13,
   "metadata": {},
   "outputs": [
    {
     "data": {
      "text/plain": [
       "klas.lucander@nateko.lu.se              2.0\n",
       "mads.jeppesen@biochemistry.lu.se        2.0\n",
       "camille.garcia@biochemistry.lu.se       2.0\n",
       "timmi@astro.lu.se                       2.0\n",
       "rachele@maths.lth.se                    2.0\n",
       "karolina.pantazatou@nateko.lu.se        2.0\n",
       "majda.misini_ignjatovic@teokem.lu.se    2.0\n",
       "lili.cao@teokem.lu.se                   2.0\n",
       "eva.hansen@hep.lu.se                    2.0\n",
       "nathan.simpson@hep.lu.se                2.0\n",
       "albertas.dvirnas@thep.lu.se             2.0\n",
       "nicholai.mauritzson@nuclear.lu.se       2.0\n",
       "Alexander.Backis@esss.se                2.0\n",
       "Pablo.Costas.Franco@esss.se             2.0\n",
       "vasilii.goriachkin@matstat.lu.se        2.0\n",
       "jovana.colvin@sljus.lu.se               2.0\n",
       "dtype: float64"
      ]
     },
     "execution_count": 13,
     "metadata": {},
     "output_type": "execute_result"
    }
   ],
   "source": [
    "df.sum(axis=0)"
   ]
  },
  {
   "cell_type": "code",
   "execution_count": 26,
   "metadata": {},
   "outputs": [
    {
     "name": "stdout",
     "output_type": "stream",
     "text": [
      "<bound method DataFrame.to_csv of                     project to review # 1 project to review # 2\n",
      "adrian.gustafson            vidar.aspelin        samuel.wiqvist\n",
      "anton.roth                 marco.polimeni     zakiyeh.yousefian\n",
      "bjorn.linse              adrian.gustafson     zakiyeh.yousefian\n",
      "carl.akerlindh             daniel.nilsson         ellen.rieloff\n",
      "daniel.nilsson           adrian.gustafson        samuel.wiqvist\n",
      "ellen.rieloff              daniel.nilsson               mikkola\n",
      "harsh.shah                    junhao.dong         vidar.aspelin\n",
      "hongduo.lu                      sahlholdt                najmeh\n",
      "iryna                 stefan.hervo_hansen           junhao.dong\n",
      "junhao.dong                carl.akerlindh               mikkola\n",
      "marco.polimeni                      iryna             sahlholdt\n",
      "mikkola                    carl.akerlindh            hongduo.lu\n",
      "najmeh                         anton.roth         ellen.rieloff\n",
      "sahlholdt                      anton.roth                najmeh\n",
      "samuel.wiqvist        stefan.hervo_hansen            hongduo.lu\n",
      "smita.chakraborty                   iryna        marco.polimeni\n",
      "stefan.hervo_hansen           bjorn.linse            harsh.shah\n",
      "vidar.aspelin           smita.chakraborty           bjorn.linse\n",
      "zakiyeh.yousefian       smita.chakraborty            harsh.shah>\n"
     ]
    }
   ],
   "source": [
    "print(dataframe.T.to_csv)"
   ]
  }
 ],
 "metadata": {
  "kernelspec": {
   "display_name": "Python 3",
   "language": "python",
   "name": "python3"
  },
  "language_info": {
   "codemirror_mode": {
    "name": "ipython",
    "version": 3
   },
   "file_extension": ".py",
   "mimetype": "text/x-python",
   "name": "python",
   "nbconvert_exporter": "python",
   "pygments_lexer": "ipython3",
   "version": "3.7.1"
  }
 },
 "nbformat": 4,
 "nbformat_minor": 2
}
