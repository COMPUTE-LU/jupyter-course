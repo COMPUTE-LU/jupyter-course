{
 "cells": [
  {
   "cell_type": "markdown",
   "metadata": {
    "slideshow": {
     "slide_type": "slide"
    }
   },
   "source": [
    "## Storage and Manipulation of Numerical Arrays using NumPy\n",
    "<img src=\"http://www.numpy.org/_static/numpy_logo.png\" width=\"150\" align=\"left\"/>"
   ]
  },
  {
   "cell_type": "code",
   "execution_count": null,
   "metadata": {
    "collapsed": true,
    "slideshow": {
     "slide_type": "fragment"
    }
   },
   "outputs": [],
   "source": [
    "import numpy as np # np is a commonly used shorthand"
   ]
  },
  {
   "cell_type": "markdown",
   "metadata": {
    "slideshow": {
     "slide_type": "fragment"
    }
   },
   "source": [
    "### (and simple visualization with Matplotlib)"
   ]
  },
  {
   "cell_type": "code",
   "execution_count": null,
   "metadata": {
    "collapsed": true,
    "slideshow": {
     "slide_type": "fragment"
    }
   },
   "outputs": [],
   "source": [
    "import matplotlib.pyplot as plt # standard plotlyb import using the alias plt"
   ]
  },
  {
   "cell_type": "markdown",
   "metadata": {
    "slideshow": {
     "slide_type": "slide"
    }
   },
   "source": [
    "#### In Python,  `list` is the built-in flexible container"
   ]
  },
  {
   "cell_type": "code",
   "execution_count": null,
   "metadata": {
    "collapsed": true,
    "slideshow": {
     "slide_type": "fragment"
    }
   },
   "outputs": [],
   "source": [
    "my_list = [1, 1.0, 'a string', True] # a list of items of different type"
   ]
  },
  {
   "cell_type": "markdown",
   "metadata": {
    "slideshow": {
     "slide_type": "fragment"
    }
   },
   "source": [
    "Here is a list containing the types of the items in my_list"
   ]
  },
  {
   "cell_type": "code",
   "execution_count": null,
   "metadata": {
    "slideshow": {
     "slide_type": "fragment"
    }
   },
   "outputs": [],
   "source": [
    "my_list_types = [type(i) for i in my_list]\n",
    "print(my_list_types)\n",
    "list_from_range = [i for i in range(4)]\n",
    "print(list_from_range)"
   ]
  },
  {
   "cell_type": "markdown",
   "metadata": {
    "slideshow": {
     "slide_type": "slide"
    }
   },
   "source": [
    "#### Here is how to retrieve some properties of a list"
   ]
  },
  {
   "cell_type": "code",
   "execution_count": null,
   "metadata": {
    "slideshow": {
     "slide_type": "fragment"
    }
   },
   "outputs": [],
   "source": [
    "list_of_int = list(range(11))\n",
    "print( 'size\\t', 'type of container\\t\\t', 'type of items')\n",
    "print( len(list_of_int), '\\t', type(list_of_int), '\\t\\t', type(list_of_int[0]) ) "
   ]
  },
  {
   "cell_type": "markdown",
   "metadata": {
    "slideshow": {
     "slide_type": "slide"
    }
   },
   "source": [
    "#### If the `list` contains items of the same type, it is more efficient to use a fixed-type array: a NumPy array can be created from a list\n",
    "`NumPy` arrays are collections of items of the same type which can be efficiently saved/loaded, stored, and manipulated."
   ]
  },
  {
   "cell_type": "code",
   "execution_count": null,
   "metadata": {
    "slideshow": {
     "slide_type": "fragment"
    }
   },
   "outputs": [],
   "source": [
    "print( 'size\\t', 'type of container\\t\\t', 'type of items')\n",
    "array_of_int = np.array(list_of_int)\n",
    "print( array_of_int.size, '\\t', type(array_of_int), '\\t', type(list_of_int[0]) )"
   ]
  },
  {
   "cell_type": "markdown",
   "metadata": {
    "slideshow": {
     "slide_type": "slide"
    }
   },
   "source": [
    "#### The type of the items in a NumPy array can be converted using `astype`"
   ]
  },
  {
   "cell_type": "code",
   "execution_count": null,
   "metadata": {
    "slideshow": {
     "slide_type": "fragment"
    }
   },
   "outputs": [],
   "source": [
    "print('Array of integers:\\n',array_of_int)\n",
    "array_of_str = array_of_int.astype(str) # from integer to string\n",
    "print('Array of strings of integers:\\n',array_of_str)\n",
    "array_of_float = array_of_int.astype(float) # from integer to float\n",
    "print('Array of floating-point numbers:\\n',array_of_float)\n",
    "array_of_str = array_of_float.astype(str) # from float to string\n",
    "print('Array of strings of numbers with one trailing zero:\\n',array_of_str)"
   ]
  },
  {
   "cell_type": "markdown",
   "metadata": {
    "slideshow": {
     "slide_type": "slide"
    }
   },
   "source": [
    "#### Number formatting\n",
    "To convert numerical arrays into arrays of formatted strings, we can use [`format`](https://pyformat.info/) (useful to customize ticks or legend labels in plots)"
   ]
  },
  {
   "cell_type": "code",
   "execution_count": null,
   "metadata": {
    "slideshow": {
     "slide_type": "fragment"
    }
   },
   "outputs": [],
   "source": [
    "array_of_str = np.array(['{:1.4f}'.format(i) for i in array_of_float])\n",
    "print('Array of strings of numbers with four trailing zero:\\n',array_of_str)\n",
    "array_of_str = np.array(['{:1.0e}'.format(i) for i in array_of_float])\n",
    "print('Array of strings of numbers in exponent notation:\\n',array_of_str)"
   ]
  },
  {
   "cell_type": "markdown",
   "metadata": {
    "slideshow": {
     "slide_type": "slide"
    }
   },
   "source": [
    "#### Multidimensional arrays can be created from lists of ranges"
   ]
  },
  {
   "cell_type": "code",
   "execution_count": null,
   "metadata": {
    "slideshow": {
     "slide_type": "fragment"
    }
   },
   "outputs": [],
   "source": [
    "array = np.array( [ range(i,i+4) for i in range(5) ] ) \n",
    "print( array )"
   ]
  },
  {
   "cell_type": "markdown",
   "metadata": {
    "slideshow": {
     "slide_type": "slide"
    }
   },
   "source": [
    "#### Create arrays using `empty`, `zeros`, `ones`"
   ]
  },
  {
   "cell_type": "code",
   "execution_count": null,
   "metadata": {
    "slideshow": {
     "slide_type": "fragment"
    }
   },
   "outputs": [],
   "source": [
    "# uninitialized array of shape 2x2, dtype is float64 by default\n",
    "array = np.empty(shape=(2,2))\n",
    "print('empty:\\n',array)\n",
    "# float array of shape 2x3 filled with zeros\n",
    "array = np.zeros(shape=(2,3),dtype=float)\n",
    "print('zeros:\\n',array)\n",
    "# integer array of shape 3x10 filled with ones\n",
    "array = np.ones(shape=(3,10),dtype=int)\n",
    "print('ones:\\n',array)"
   ]
  },
  {
   "cell_type": "markdown",
   "metadata": {
    "slideshow": {
     "slide_type": "slide"
    }
   },
   "source": [
    "#### Create arrays using  `arange`, `linspace`"
   ]
  },
  {
   "cell_type": "code",
   "execution_count": null,
   "metadata": {
    "slideshow": {
     "slide_type": "fragment"
    }
   },
   "outputs": [],
   "source": [
    "# linear sequence from 0 to 10, stepping by 0.3\n",
    "array = np.arange(start=0,stop=10,step=.3)\n",
    "print('arange:\\n',array)\n",
    "# 5 values evenly spaced between 0 and 10\n",
    "array = np.linspace(start=0,stop=10,num=5)\n",
    "print('linspace:\\n',array)"
   ]
  },
  {
   "cell_type": "markdown",
   "metadata": {
    "slideshow": {
     "slide_type": "slide"
    },
    "solution2": "hidden",
    "solution2_first": true
   },
   "source": [
    "#### Task:\n",
    "1. create a linear sequence of integers from 0 to 7 stepping by 1 with `arange` and `linspace`\n",
    "2. create a linear sequence of floating-point numbers from 0 to 7 stepping by 0.25 with `arange` and `linspace`"
   ]
  },
  {
   "cell_type": "code",
   "execution_count": null,
   "metadata": {
    "slideshow": {
     "slide_type": "fragment"
    },
    "solution2": "hidden"
   },
   "outputs": [],
   "source": [
    "print('using arange:\\n',np.arange(0,8,1)) # type inferred\n",
    "print('using linspace:\\n',np.linspace(0,7,7+1,dtype=int))\n",
    "print('using arange:\\n',np.arange(0,7.1,.25))\n",
    "print('using linspace:\\n',np.linspace(0,7,7*4+1,dtype=float))"
   ]
  },
  {
   "cell_type": "markdown",
   "metadata": {
    "slideshow": {
     "slide_type": "slide"
    }
   },
   "source": [
    "#### Array attributes: `size`, `shape`, `ndim`, `dtype`"
   ]
  },
  {
   "cell_type": "code",
   "execution_count": null,
   "metadata": {
    "slideshow": {
     "slide_type": "fragment"
    }
   },
   "outputs": [],
   "source": [
    "array = np.ones(shape=(2,3,4),dtype='complex64')\n",
    "print(array[0,1,0])\n",
    "print('size:',array.size)\n",
    "print('shape:',array.shape)\n",
    "print('ndim:',array.ndim)\n",
    "print('dtype:',array.dtype)"
   ]
  },
  {
   "cell_type": "markdown",
   "metadata": {
    "slideshow": {
     "slide_type": "slide"
    }
   },
   "source": [
    "#### Reshaping of Arrays"
   ]
  },
  {
   "cell_type": "code",
   "execution_count": null,
   "metadata": {
    "slideshow": {
     "slide_type": "fragment"
    }
   },
   "outputs": [],
   "source": [
    "print( 'shape: \\t\\t size:' )\n",
    "print( array.shape, '\\t', array.size )\n",
    "array = array.reshape( (6, 4) )\n",
    "print( 'shape: \\t\\t size:' )\n",
    "print( array.shape, '\\t\\t', array.size )"
   ]
  },
  {
   "cell_type": "markdown",
   "metadata": {
    "slideshow": {
     "slide_type": "slide"
    }
   },
   "source": [
    "A 1D array can be turned into a 2D array using the `newaxis` keyword"
   ]
  },
  {
   "cell_type": "code",
   "execution_count": null,
   "metadata": {
    "slideshow": {
     "slide_type": "fragment"
    }
   },
   "outputs": [],
   "source": [
    "x1 = np.linspace(0,4,5) # 5 items (row vector)\n",
    "print('1D array - shape:',x1.shape,'ndim:',x1.ndim)\n",
    "x2_row = x1[np.newaxis,:] # 1 row x 5 columns (row vector)\n",
    "print('2D array (row vector) - shape:',x2_row.shape,'ndim:',x2_row.ndim)\n",
    "x2_col = x1[:,np.newaxis] # 5 rows x 1 column (column vector)\n",
    "print('2D array (column vector) - shape:',x2_col.shape,'ndim:',x2_col.ndim)"
   ]
  },
  {
   "cell_type": "markdown",
   "metadata": {
    "slideshow": {
     "slide_type": "slide"
    }
   },
   "source": [
    "#### Unidimensional Array Indexing"
   ]
  },
  {
   "cell_type": "code",
   "execution_count": null,
   "metadata": {
    "slideshow": {
     "slide_type": "fragment"
    }
   },
   "outputs": [],
   "source": [
    "x1 = np.linspace(start=0,stop=10,num=11,dtype=int)\n",
    "print(x1,'\\n')\n",
    "print('first value:',x1[0])\n",
    "print('second value:',x1[1])\n",
    "print('last value:',x1[-1])\n",
    "print('second last value:',x1[-2])"
   ]
  },
  {
   "cell_type": "markdown",
   "metadata": {
    "slideshow": {
     "slide_type": "slide"
    }
   },
   "source": [
    "#### Unidimensional Array Slicing "
   ]
  },
  {
   "cell_type": "code",
   "execution_count": null,
   "metadata": {
    "slideshow": {
     "slide_type": "fragment"
    }
   },
   "outputs": [],
   "source": [
    "print('Elements after index 5:\\n',x1[5:]) # 1st field: start\n",
    "print('First five values:\\n',x1[:5]) # 2nd field: stop\n",
    "print('Last five values:\\n',x1[-5:])\n",
    "print('Every Other values:\\n',x1[::2]) # 3rd field: skip or/and reverse\n",
    "print('Reversed:\\n',x1[::-1])\n",
    "print('Reversed Every Other:\\n',x1[::-2])"
   ]
  },
  {
   "cell_type": "markdown",
   "metadata": {
    "slideshow": {
     "slide_type": "slide"
    },
    "solution2": "hidden",
    "solution2_first": true
   },
   "source": [
    "#### Task\n",
    "Generate the array [9 7 5 3] from `np.linspace(start=0,stop=10,num=11)` and convert it to string with 2 trailing zeros."
   ]
  },
  {
   "cell_type": "code",
   "execution_count": null,
   "metadata": {
    "slideshow": {
     "slide_type": "fragment"
    },
    "solution2": "hidden"
   },
   "outputs": [],
   "source": [
    "array = np.linspace(start=0,stop=10,num=11,dtype=int)[-2:2:-2]\n",
    "array = np.array(['{:1.2f}'.format(i) for i in array])\n",
    "print(array)"
   ]
  },
  {
   "cell_type": "markdown",
   "metadata": {
    "slideshow": {
     "slide_type": "slide"
    }
   },
   "source": [
    "#### Multidimensional Array Indexing"
   ]
  },
  {
   "cell_type": "code",
   "execution_count": null,
   "metadata": {
    "slideshow": {
     "slide_type": "fragment"
    }
   },
   "outputs": [],
   "source": [
    "x2 = np.array([range(i,i+4) for i in x1[:4]])\n",
    "print(x2)\n",
    "print('size:',x2.size,', shape:',x2.shape)\n",
    "print('ndim:',x2.ndim,', dtype:',x2.dtype)\n",
    "print('(0,0) value:',x2[0,0])\n",
    "print('(2,3) value:',x2[-2,-1])"
   ]
  },
  {
   "cell_type": "markdown",
   "metadata": {
    "slideshow": {
     "slide_type": "slide"
    }
   },
   "source": [
    "#### Multidimensional Array Slicing"
   ]
  },
  {
   "cell_type": "code",
   "execution_count": null,
   "metadata": {
    "slideshow": {
     "slide_type": "fragment"
    }
   },
   "outputs": [],
   "source": [
    "print('First Row:\\n',x2[0,:])\n",
    "print('Second Column:\\n',x2[:,2])\n",
    "print('Every Other Row:\\n',x2[::2,:])"
   ]
  },
  {
   "cell_type": "markdown",
   "metadata": {
    "slideshow": {
     "slide_type": "slide"
    }
   },
   "source": [
    "#### Multidimensional Array Slicing"
   ]
  },
  {
   "cell_type": "code",
   "execution_count": null,
   "metadata": {
    "slideshow": {
     "slide_type": "fragment"
    }
   },
   "outputs": [],
   "source": [
    "print('Reversed Row:\\n',x2[::-1])\n",
    "print('Reversed Column:\\n',x2[:,::-1])"
   ]
  },
  {
   "cell_type": "markdown",
   "metadata": {
    "slideshow": {
     "slide_type": "slide"
    },
    "solution2": "hidden",
    "solution2_first": true
   },
   "source": [
    "#### Task\n",
    "What does `x2[1]` correspond to?"
   ]
  },
  {
   "cell_type": "code",
   "execution_count": null,
   "metadata": {
    "collapsed": true,
    "slideshow": {
     "slide_type": "fragment"
    },
    "solution2": "hidden"
   },
   "outputs": [],
   "source": [
    "print('Second Row:',x2[1],'=',x2[1,:])"
   ]
  },
  {
   "cell_type": "markdown",
   "metadata": {
    "slideshow": {
     "slide_type": "slide"
    }
   },
   "source": [
    "#### Comparison Operators and Masking"
   ]
  },
  {
   "cell_type": "code",
   "execution_count": null,
   "metadata": {
    "slideshow": {
     "slide_type": "fragment"
    }
   },
   "outputs": [],
   "source": [
    "x = np.arange(11)\n",
    "print(x)\n",
    "print(x>5) # this is a boolean array\n",
    "print(x[x>5])"
   ]
  },
  {
   "cell_type": "markdown",
   "metadata": {
    "slideshow": {
     "slide_type": "slide"
    },
    "solution2": "hidden",
    "solution2_first": true
   },
   "source": [
    "#### Task: Modifying Values – one by one or by fancy indexing\n",
    "Generate a 3x3 zero matrix and turn it into a 3x3 identity matrix"
   ]
  },
  {
   "cell_type": "code",
   "execution_count": null,
   "metadata": {
    "collapsed": true,
    "slideshow": {
     "slide_type": "fragment"
    },
    "solution2": "hidden"
   },
   "outputs": [],
   "source": [
    "array = np.zeros(shape=(3,3),dtype=bool)\n",
    "# one by one\n",
    "array[0,0] = 1\n",
    "array[1,1] = 1\n",
    "array[2,2] = 1\n",
    "# or using fancy indexing\n",
    "array = np.zeros(shape=(3,3),dtype=bool)\n",
    "array[[0,1,2],[0,1,2]] = 1 # or array[range(3),range(3)] \n",
    "# using np.add.at(array,indeces,1)\n",
    "np.add.at( array, [range(3),range(3)], 1 ) # sum\n",
    "print(array)"
   ]
  },
  {
   "cell_type": "markdown",
   "metadata": {
    "slideshow": {
     "slide_type": "slide"
    }
   },
   "source": [
    "#### Concatenating and Splitting: `hstack`, `vstack`, `split`"
   ]
  },
  {
   "cell_type": "code",
   "execution_count": null,
   "metadata": {
    "slideshow": {
     "slide_type": "fragment"
    }
   },
   "outputs": [],
   "source": [
    "x = np.array(range(7))\n",
    "print( 'Array:\\n', x )\n",
    "print( 'Concatenate Horizontally:\\n', np.hstack((x,x,x)) )\n",
    "print( 'Concatenate Vertically:\\n', np.vstack((x,x,x)) )\n",
    "x = np.hstack((x,x,x))\n",
    "x1, x2, x3 = np.split(x,[6,12])\n",
    "print( 'Split 1D array:' )\n",
    "print( 'part 1:', x1 )\n",
    "print( 'part 2:', x2 )\n",
    "print( 'part 3:', x3 )"
   ]
  },
  {
   "cell_type": "markdown",
   "metadata": {
    "slideshow": {
     "slide_type": "slide"
    }
   },
   "source": [
    "#### `np.append`: how to initialize an array in a for loop"
   ]
  },
  {
   "cell_type": "code",
   "execution_count": null,
   "metadata": {
    "slideshow": {
     "slide_type": "fragment"
    }
   },
   "outputs": [],
   "source": [
    "a = np.empty(0)\n",
    "print(a.size)\n",
    "for i in range(3):\n",
    "    a = np.append(a, range(3))\n",
    "print(a,a.size)"
   ]
  },
  {
   "cell_type": "markdown",
   "metadata": {
    "slideshow": {
     "slide_type": "slide"
    }
   },
   "source": [
    "#### Splitting: `hsplit`, `vsplit`"
   ]
  },
  {
   "cell_type": "code",
   "execution_count": null,
   "metadata": {
    "slideshow": {
     "slide_type": "fragment"
    }
   },
   "outputs": [],
   "source": [
    "x = np.vstack(( np.zeros(4),np.ones(4),np.array(range(4)),np.array(range(4,8)) ) )\n",
    "print( '4x4 array:\\n', x) \n",
    "left, right = np.hsplit(x, [2])\n",
    "print( 'Split Horizontally: left, right = np.hsplit(x, [2]) \\nleft:\\n', left, '\\nright:\\n', right )"
   ]
  },
  {
   "cell_type": "code",
   "execution_count": null,
   "metadata": {},
   "outputs": [],
   "source": [
    "array = np.random.rand(3,5)\n",
    "print(array)\n",
    "one, two, three, four, five = np.hsplit(array,[1,2,3,4])\n",
    "print(one.T, two.T, three.T, four.T, five.T)"
   ]
  },
  {
   "cell_type": "markdown",
   "metadata": {
    "slideshow": {
     "slide_type": "slide"
    },
    "solution2": "hidden",
    "solution2_first": true
   },
   "source": [
    "#### Task: \n",
    "Generate a 3x5 array of random numbers in the range [0,1) using `np.random.rand()` and split the 2D array into 5 1D arrays of shape(3,1)."
   ]
  },
  {
   "cell_type": "code",
   "execution_count": null,
   "metadata": {
    "collapsed": true,
    "slideshow": {
     "slide_type": "fragment"
    },
    "solution2": "hidden"
   },
   "outputs": [],
   "source": [
    "array2d = np.random.rand(3,5)\n",
    "print(array2d)\n",
    "a,b,c,d,e = np.hsplit(array2d,[1,2,3,4])\n",
    "for array1d in [a,b,c,d]:\n",
    "    print(array1d.T) # we print the transpose, i.e. the row vectors"
   ]
  },
  {
   "cell_type": "markdown",
   "metadata": {
    "slideshow": {
     "slide_type": "slide"
    }
   },
   "source": [
    "Looping over arrays to operate on each element is very slow<br>\n",
    "For faster execution, vectorized operations are implemented as Numpy's universal functions (ufuncs), e.g.:\n",
    "\n",
    "|        operator       | equivalent ufunc |\n",
    "|:---------------------:|:----------------:|\n",
    "|           +           |     `np.add`     |\n",
    "|           -           |   `np.subtract`  |\n",
    "|           *           |   `np.multiply`  |\n",
    "|           /           |   `np.divide`  |\n",
    "|           **          |    `np.power`    |\n",
    "|           %           |     `np.mod`     |\n",
    "\n",
    "* trigonometric functions: `np.cos`, `np.sin`, `np.tan`, `np.arcsin`, etc.\n",
    "* exponential functions: `np.exp`, `np.expm1`\n",
    "* logarithmic functions: `np.log`, `np.log10`, `np.logp1`\n",
    "* link to [whole list](https://docs.scipy.org/doc/numpy-1.13.0/reference/ufuncs.html)"
   ]
  },
  {
   "cell_type": "markdown",
   "metadata": {
    "slideshow": {
     "slide_type": "slide"
    },
    "solution2": "hidden",
    "solution2_first": true
   },
   "source": [
    "#### Task: what results from multiplying the `list` [1 2 3 4] by 3? Is it the same as for the corresponding `NumPy` array?"
   ]
  },
  {
   "cell_type": "code",
   "execution_count": null,
   "metadata": {
    "slideshow": {
     "slide_type": "fragment"
    },
    "solution2": "hidden"
   },
   "outputs": [],
   "source": [
    "l = [1, 2, 3, 4]\n",
    "a = np.array(l)\n",
    "print(l*3)\n",
    "print(a*3)"
   ]
  },
  {
   "cell_type": "markdown",
   "metadata": {
    "slideshow": {
     "slide_type": "fragment"
    },
    "solution2": "hidden"
   },
   "source": [
    "Multiplying a `list` $l$ by an integer $n$ corresponds to generating a new `list` by repeating $l$ $n$ times.<br>\n",
    "`np.tile()` does the same with `NumPy` arrays."
   ]
  },
  {
   "cell_type": "code",
   "execution_count": null,
   "metadata": {
    "slideshow": {
     "slide_type": "fragment"
    },
    "solution2": "hidden"
   },
   "outputs": [],
   "source": [
    "print(np.tile(a, 3))"
   ]
  },
  {
   "cell_type": "markdown",
   "metadata": {
    "slideshow": {
     "slide_type": "slide"
    }
   },
   "source": [
    "### Useful Numpy functions"
   ]
  },
  {
   "cell_type": "markdown",
   "metadata": {
    "slideshow": {
     "slide_type": "fragment"
    }
   },
   "source": [
    "|  function  |     description    |\n",
    "|:----------:|:------------------:|\n",
    "|   np.sum   | sum over all items |\n",
    "|   np.prod  | multiply all items |\n",
    "|  np.cumsum |   cumulative sum   |\n",
    "| np.cumprod | cumulative product |\n",
    "|   np.mean  |        mean        |\n",
    "|   np.std   | standard deviation |\n",
    "|   np.min   |   minimum values   |\n",
    "|   np.max   |    maximum value   |\n",
    "|np.gradient |     gradient       |\n",
    "|  np.trapz  |     integral       |"
   ]
  },
  {
   "cell_type": "code",
   "execution_count": null,
   "metadata": {
    "slideshow": {
     "slide_type": "fragment"
    }
   },
   "outputs": [],
   "source": [
    "x1 = np.arange(0,11,1)\n",
    "print('sum:',np.sum(x1),'or',x1.sum())\n",
    "print('mean:',np.mean(x1),'or',x1.mean())\n",
    "print('standard deviation:',np.std(x1),'or',x1.std())\n",
    "print('max:',np.max(x1),'or',x1.max())\n",
    "print('min:',np.min(x1),'or',x1.min())"
   ]
  },
  {
   "cell_type": "markdown",
   "metadata": {
    "slideshow": {
     "slide_type": "slide"
    },
    "solution2": "hidden",
    "solution2_first": true
   },
   "source": [
    "#### Task: Find the mean value of the cosine function between 0 and $\\pi/3$"
   ]
  },
  {
   "cell_type": "code",
   "execution_count": null,
   "metadata": {
    "slideshow": {
     "slide_type": "fragment"
    },
    "solution2": "hidden"
   },
   "outputs": [],
   "source": [
    "print( np.cos( np.linspace( 0, np.pi/3., 100000 ) ).mean() )"
   ]
  },
  {
   "cell_type": "markdown",
   "metadata": {
    "slideshow": {
     "slide_type": "slide"
    },
    "solution2": "hidden",
    "solution2_first": true
   },
   "source": [
    "####  Task: show that $\\sum_1^{10^7} \\frac{1}{n^2} \\approx \\frac{\\pi^2}{6}$ "
   ]
  },
  {
   "cell_type": "code",
   "execution_count": null,
   "metadata": {
    "slideshow": {
     "slide_type": "fragment"
    }
   },
   "outputs": [],
   "source": [
    "x = np.arange(1,1e7,1.)\n",
    "np.power(x, 2, out=x)\n",
    "print( np.divide(1, x).sum(), np.pi**2/6)"
   ]
  },
  {
   "cell_type": "code",
   "execution_count": null,
   "metadata": {
    "slideshow": {
     "slide_type": "fragment"
    },
    "solution2": "hidden"
   },
   "outputs": [],
   "source": [
    "x = np.arange(1,1e7,1.)\n",
    "np.power(x, 2, out=x)\n",
    "print( np.divide(1, x).sum(), np.pi**2/6)"
   ]
  },
  {
   "cell_type": "markdown",
   "metadata": {
    "slideshow": {
     "slide_type": "fragment"
    },
    "solution2": "hidden"
   },
   "source": [
    "when dealing with large arrays, it is convenient to specify the array where the result of the calculation will be stored, as opposed to creating a temporary array and later copying it into x:"
   ]
  },
  {
   "cell_type": "code",
   "execution_count": null,
   "metadata": {
    "collapsed": true,
    "slideshow": {
     "slide_type": "fragment"
    },
    "solution2": "hidden"
   },
   "outputs": [],
   "source": [
    "x = np.arange(1,1e7,1.)\n",
    "x = np.power(x, 2)"
   ]
  },
  {
   "cell_type": "markdown",
   "metadata": {
    "slideshow": {
     "slide_type": "slide"
    },
    "solution2": "hidden",
    "solution2_first": true
   },
   "source": [
    "#### Task: What happens when we add a 1D array to a 2D array? Find the shapes of x1+x2_row and x1+x2_col:\n",
    "`x1 = np.linspace(0,4,5)` # 5 items (row vector)<br>\n",
    "`x2_row = x1[np.newaxis,:]` # 1 row x 5 columns (row vector)<br>\n",
    "`x2_col = x1[:,np.newaxis]` # 5 rows x 1 column (column vector)"
   ]
  },
  {
   "cell_type": "code",
   "execution_count": null,
   "metadata": {
    "slideshow": {
     "slide_type": "fragment"
    },
    "solution2": "hidden"
   },
   "outputs": [],
   "source": [
    "x1 = np.linspace(0,4,5); x2_row = x1[np.newaxis,:]; x2_col = x1[:,np.newaxis]\n",
    "print('adding two row vectors - shape:', (x1+x2_row).shape )\n",
    "print('adding a column vector to a row vector - shape:', (x1+x2_col).shape )"
   ]
  },
  {
   "cell_type": "markdown",
   "metadata": {
    "slideshow": {
     "slide_type": "slide"
    }
   },
   "source": [
    "### Broadcasting: "
   ]
  },
  {
   "cell_type": "code",
   "execution_count": null,
   "metadata": {
    "slideshow": {
     "slide_type": "fragment"
    }
   },
   "outputs": [],
   "source": [
    "print('we added together arrays of shape (5,) and (5,1) and obtained:\\n',x1+x2_col ) "
   ]
  },
  {
   "cell_type": "code",
   "execution_count": null,
   "metadata": {
    "scrolled": true,
    "slideshow": {
     "slide_type": "slide"
    }
   },
   "outputs": [],
   "source": [
    "x1 = np.linspace(0,4,5)\n",
    "print( 'x1 row vector:\\n', x1 )\n",
    "x2_col = x1[:,np.newaxis] # 5 rows x 1 column (column vector)\n",
    "print( 'x2_col column vector:\\n', x2_col )\n",
    "print( 'x1 stretched vertically:\\n', np.vstack( (x1,x1,x1,x1,x1)) )\n",
    "print( 'x2_col stretched horizontally:\\n', np.hstack( (x2_col,x2_col,x2_col,x2_col,x2_col)) )"
   ]
  },
  {
   "cell_type": "markdown",
   "metadata": {
    "slideshow": {
     "slide_type": "slide"
    },
    "solution2": "hidden",
    "solution2_first": true
   },
   "source": [
    "#### Task\n",
    "Compute the [outer product](https://en.wikipedia.org/wiki/Outer_product) between the row vector [1 2 3 4] and the column vector [7 8 9 10]"
   ]
  },
  {
   "cell_type": "code",
   "execution_count": null,
   "metadata": {
    "slideshow": {
     "slide_type": "fragment"
    },
    "solution2": "hidden"
   },
   "outputs": [],
   "source": [
    "row = np.arange(1,5,1)\n",
    "column = np.arange(7,11,1)\n",
    "print(row.shape, column.shape, column[:,np.newaxis].shape)\n",
    "row * column[:,np.newaxis] # or np.outer(row,column)"
   ]
  },
  {
   "cell_type": "markdown",
   "metadata": {
    "slideshow": {
     "slide_type": "slide"
    }
   },
   "source": [
    "#### Simple Plot with `Matplotlib`\n",
    "`Matplotlib` is a library for data visualization based on `NumPy` arrays. In the beginning of this notebook, we imported the `plt` interface which has a syntax similar to MATLAB.<br>\n",
    "The `plt` interface deals with two objects: `Figure` (the whole image or canvas) and `Axes` (the graph or subplot). The current figure and axes can be accessed using `plt.gcf()` and `plt.gca()`, respectively.<br> \n",
    "In a notebook, graphics can be embedded as interactive or static plots using the the `%matplotlib` magic command:\n",
    "```python\n",
    "%matplotlib notebook # interactive mode\n",
    "%matplotlib inline   # static mode\n",
    "```\n",
    "Here we visualize two 1D arrays in static mode using `plt.plot(x-array, y-array)`. "
   ]
  },
  {
   "cell_type": "code",
   "execution_count": null,
   "metadata": {
    "slideshow": {
     "slide_type": "slide"
    }
   },
   "outputs": [],
   "source": [
    "%matplotlib inline\n",
    "x = np.arange(0,4*np.pi,.1)\n",
    "plt.plot(x,np.cos(x),color='r',linewidth=3,label='cosine')\n",
    "plt.plot(x,np.sin(x),color='b',linewidth=3,label='sine')\n",
    "plt.xlabel('$x$ / rad')\n",
    "plt.ylabel('$f(x)$')\n",
    "plt.legend(frameon=False) # shows the legend\n",
    "plt.show() # interact with the operating system and graphics backend"
   ]
  },
  {
   "cell_type": "markdown",
   "metadata": {
    "slideshow": {
     "slide_type": "slide"
    }
   },
   "source": [
    "#### Visualize 2D arrays as images with `Matplotlib`'s `imshow()`  \n",
    "* we generate an empty $z$-array of shape (2001,2001)\n",
    "* we generate the $x$-vector with values from -1000 to 1000 with spacing 1 (1D `NumPy` array)\n",
    "* the $y$-vector is the column vector of x\n",
    "* we assign $x^2 + y^2$ to the z array (broadcasting)\n",
    "* all items with values $\\leq 1000^2$ are set to 1 (masking)\n",
    "* all other values are set to 0 (masking)\n",
    "* we plot the resulting 2D array using `imshow()`"
   ]
  },
  {
   "cell_type": "markdown",
   "metadata": {
    "collapsed": true,
    "slideshow": {
     "slide_type": "slide"
    }
   },
   "source": [
    "#### Visualize 2D arrays as images with `Matplotlib`'s `imshow()`  "
   ]
  },
  {
   "cell_type": "code",
   "execution_count": null,
   "metadata": {
    "slideshow": {
     "slide_type": "fragment"
    }
   },
   "outputs": [],
   "source": [
    "radius = 1000\n",
    "z = np.empty((radius*2+1,radius*2+1)) # uninitialized array of size 2001x2001\n",
    "x = np.linspace(-radius,radius,radius*2+1,dtype=int) # x \n",
    "y = x[:,np.newaxis] # y is the column vector of x\n",
    "np.add( x**2, y**2, out=z ) # we use broadcasting to create 2001x2001 array by adding a column to a row\n",
    "z[z<=radius**2] = 1; z[z>radius**2] = 0 # masking\n",
    "plt.imshow(z,extent=[-radius,radius,-radius,radius]) # we plot the array\n",
    "plt.colorbar(label='z') # we plot the colorbar\n",
    "plt.xlabel('x'); plt.ylabel('y')\n",
    "plt.show()"
   ]
  },
  {
   "cell_type": "markdown",
   "metadata": {
    "slideshow": {
     "slide_type": "slide"
    }
   },
   "source": [
    "#### Colors can be easily changed by specifying the [`cmap` parameter](https://matplotlib.org/users/colormaps.html)"
   ]
  },
  {
   "cell_type": "code",
   "execution_count": null,
   "metadata": {
    "scrolled": true,
    "slideshow": {
     "slide_type": "fragment"
    }
   },
   "outputs": [],
   "source": [
    "plt.imshow(z, extent=[-radius,radius,-radius,radius], cmap=plt.cm.binary_r)\n",
    "plt.colorbar(label='z'); plt.xlabel('x'); plt.ylabel('y')\n",
    "circle = plt.Circle((0, 0), radius, color='r', lw=4, ls='--', fill=False) # direct way to plot a circle\n",
    "ax = plt.gca(); ax.add_artist(circle); plt.show() # adding the circle to the axes object"
   ]
  },
  {
   "cell_type": "markdown",
   "metadata": {
    "slideshow": {
     "slide_type": "slide"
    },
    "solution2": "hidden",
    "solution2_first": true
   },
   "source": [
    "### Task: compute and plot the function $z=xy\\exp[-(x^2+y^2)]$ on a square grid 100x100 with side lengths ranging from -2 to 2"
   ]
  },
  {
   "cell_type": "code",
   "execution_count": null,
   "metadata": {
    "slideshow": {
     "slide_type": "fragment"
    },
    "solution2": "hidden"
   },
   "outputs": [],
   "source": [
    "%matplotlib inline\n",
    "x = np.linspace(-2, 2, 100)\n",
    "z = np.add( x**2, x[:,np.newaxis]**2) \n",
    "np.exp( -z, out=z )\n",
    "np.multiply( x*x[:,np.newaxis], z, out=z )\n",
    "plt.imshow(z, extent=[-2,2,2,-2])\n",
    "plt.colorbar(label='z'); plt.xlabel('x'); plt.ylabel('y'); plt.show()"
   ]
  },
  {
   "cell_type": "markdown",
   "metadata": {
    "slideshow": {
     "slide_type": "slide"
    }
   },
   "source": [
    "`plt.imshow()` interprets the 2D array as an image. Therefore, by default the origin is in the $upper$ left corner.<br>\n",
    "When we plot a 2D array, we have to specify that we want the origin in the $lower$ left corner (origin='lower')."
   ]
  },
  {
   "cell_type": "code",
   "execution_count": null,
   "metadata": {
    "scrolled": true,
    "slideshow": {
     "slide_type": "fragment"
    }
   },
   "outputs": [],
   "source": [
    "#%matplotlib inline\n",
    "plt.imshow(z, extent=[-2,2,-2,2], origin='lower')\n",
    "plt.colorbar(label='z'); plt.xlabel('x'); plt.ylabel('y'); plt.show()"
   ]
  },
  {
   "cell_type": "markdown",
   "metadata": {
    "slideshow": {
     "slide_type": "slide"
    }
   },
   "source": [
    "Alternative: build 2D array from 1D array using `np.meshgrid()`."
   ]
  },
  {
   "cell_type": "code",
   "execution_count": null,
   "metadata": {
    "slideshow": {
     "slide_type": "fragment"
    }
   },
   "outputs": [],
   "source": [
    "def f(x,y): # define function f of arguments x and y\n",
    "    return x*y*np.exp( -(x**2 + y**2) ) # return statement\n",
    "x = np.linspace(-2, 2, 100)\n",
    "y = np.linspace(-2, 2, 100)\n",
    "X, Y = np.meshgrid(x, y) # returns the coordinates of a matrix from two vectors\n",
    "Z = f(X,Y)\n",
    "plt.imshow(Z,extent=[-2,2,-2,2],origin='lower')\n",
    "plt.colorbar(label='z'); plt.xlabel('x'); plt.ylabel('y'); plt.show()"
   ]
  },
  {
   "cell_type": "markdown",
   "metadata": {
    "slideshow": {
     "slide_type": "slide"
    }
   },
   "source": [
    "Alternative: visualize data with a filled countour plot."
   ]
  },
  {
   "cell_type": "code",
   "execution_count": null,
   "metadata": {
    "slideshow": {
     "slide_type": "fragment"
    }
   },
   "outputs": [],
   "source": [
    "plt.contourf(X,Y,Z,100,cmap=plt.cm.Blues_r) # 30 equally spaced intervals\n",
    "plt.colorbar(label='z'); plt.xlabel('x'); plt.ylabel('y'); plt.show()"
   ]
  },
  {
   "cell_type": "markdown",
   "metadata": {
    "slideshow": {
     "slide_type": "slide"
    }
   },
   "source": [
    "#### Loading/Saving Numpy arrays from text files"
   ]
  },
  {
   "cell_type": "code",
   "execution_count": null,
   "metadata": {
    "slideshow": {
     "slide_type": "fragment"
    }
   },
   "outputs": [],
   "source": [
    "!head -n 3 data/sthlm_2d.csv # maximum temperatures in Stockholm from 1859 to 2016 – http://bolin.su.se/\n",
    "!sed -n 4730,4733p data/sthlm_2d.csv"
   ]
  },
  {
   "cell_type": "code",
   "execution_count": null,
   "metadata": {
    "collapsed": true,
    "slideshow": {
     "slide_type": "fragment"
    }
   },
   "outputs": [],
   "source": [
    "sthlm_2d = np.loadtxt('data/sthlm_2d.csv',skiprows=1) # load the tab-separated values file skipping the header  \n",
    "sthlm_2d = sthlm_2d[~np.isnan(sthlm_2d[:,1])] # remove rows containing NaNs\n",
    "year = sthlm_2d[:,0] # first column\n",
    "tmax = sthlm_2d[:,1] # second column"
   ]
  },
  {
   "cell_type": "markdown",
   "metadata": {
    "slideshow": {
     "slide_type": "slide"
    },
    "solution2": "hidden",
    "solution2_first": true
   },
   "source": [
    "#### Task: show how NaNs are removed by `sthlm_2d[ ~np.isnan( sthlm_2d[:,1] ) ]`\n",
    "Generate an array `x=np.arange(0,6,1.)`, assign `np.nan` to an item, and print `np.isnan(x)` as well as `~np.isnan(x)`"
   ]
  },
  {
   "cell_type": "code",
   "execution_count": null,
   "metadata": {
    "slideshow": {
     "slide_type": "fragment"
    },
    "solution2": "hidden"
   },
   "outputs": [],
   "source": [
    "x = np.arange(0,6,1.)\n",
    "x[2] = np.nan\n",
    "print(np.isnan(x),~np.isnan(x))"
   ]
  },
  {
   "cell_type": "markdown",
   "metadata": {
    "slideshow": {
     "slide_type": "slide"
    }
   },
   "source": [
    "#### Histogram using `np.histogram()` and `plt.plot()`"
   ]
  },
  {
   "cell_type": "code",
   "execution_count": null,
   "metadata": {
    "slideshow": {
     "slide_type": "fragment"
    }
   },
   "outputs": [],
   "source": [
    "tmax_bins = np.arange(tmax.min(), tmax.max()+1, 1)\n",
    "for y_b in range(1876,2016,40): # we loop over intervals of 20 years spaced by 40 years\n",
    "    y_e = y_b + 20 # we generate histograms from time spans of 20 years\n",
    "    i = (year>=y_b) & (year<y_e) # boolean array to be used as a mask\n",
    "    histo, xedges = np.histogram(tmax[i], bins=tmax_bins, normed=False)\n",
    "    # xedges contains bin edges including the rightmost => \n",
    "    X = xedges[:-1]+(xedges[1]-xedges[0])/2.\n",
    "    plt.plot( X, histo, lw=2, label=str(y_b)+'–'+str(y_e))\n",
    "plt.legend(loc='upper left',frameon=False)\n",
    "plt.xlabel(r'T$_{max}$ ($^\\circ$C)'); plt.ylabel('Counts'); plt.show()"
   ]
  },
  {
   "cell_type": "markdown",
   "metadata": {
    "slideshow": {
     "slide_type": "slide"
    }
   },
   "source": [
    "#### Histogram using `plt.hist()`"
   ]
  },
  {
   "cell_type": "code",
   "execution_count": null,
   "metadata": {
    "slideshow": {
     "slide_type": "fragment"
    }
   },
   "outputs": [],
   "source": [
    "for y_b in range(1876,2016,40):\n",
    "    y_e = y_b + 20\n",
    "    i = (year>=y_b) & (year<y_e)\n",
    "    plt.hist(tmax[i], tmax_bins, lw=2, histtype='step',label=str(y_b)+'–'+str(y_e),normed=True)\n",
    "plt.legend(loc='upper left',frameon=False)\n",
    "plt.xlabel(r'T$_{max}$ ($^\\circ$C)'); plt.ylabel('Counts')\n",
    "plt.show()"
   ]
  },
  {
   "cell_type": "markdown",
   "metadata": {
    "slideshow": {
     "slide_type": "slide"
    }
   },
   "source": [
    "#### 2D Histogram using `np.histogram2d()` and `plt.plot()`"
   ]
  },
  {
   "cell_type": "code",
   "execution_count": null,
   "metadata": {
    "slideshow": {
     "slide_type": "fragment"
    }
   },
   "outputs": [],
   "source": [
    "year_bins = np.arange(1876,2017,10) # we bin the years in intervals of 10\n",
    "histo2d, xedges, yedges = np.histogram2d(tmax,year,bins=[tmax_bins,year_bins])\n",
    "X = xedges[:-1]+(xedges[1]-xedges[0])/2.\n",
    "Y = yedges[:-1]+(yedges[1]-yedges[0])/2.\n",
    "plt.imshow(histo2d,extent=[Y.min(),Y.max(),X.min(),X.max()],\n",
    "           cmap=plt.cm.coolwarm,origin='lower',aspect=1.5)\n",
    "plt.colorbar(label='Counts',shrink=.82); plt.ylabel(r'T$_{max}$ ($^\\circ$C)'); plt.xlabel('Years'); plt.show()"
   ]
  },
  {
   "cell_type": "markdown",
   "metadata": {
    "slideshow": {
     "slide_type": "slide"
    },
    "solution2": "hidden",
    "solution2_first": true
   },
   "source": [
    "#### Task: plot the same 2D Histogram using `plt.hist2d()`"
   ]
  },
  {
   "cell_type": "code",
   "execution_count": null,
   "metadata": {
    "slideshow": {
     "slide_type": "fragment"
    },
    "solution2": "hidden"
   },
   "outputs": [],
   "source": [
    "plt.hist2d(year,tmax,bins=[year_bins,tmax_bins],cmap=plt.cm.coolwarm)\n",
    "plt.colorbar(label='Counts') \n",
    "plt.ylabel('T$_{max}$ ($^\\circ$C)') \n",
    "plt.xlabel('Years')\n",
    "plt.show()"
   ]
  }
 ],
 "metadata": {
  "kernelspec": {
   "display_name": "Python 3",
   "language": "python",
   "name": "python3"
  },
  "language_info": {
   "codemirror_mode": {
    "name": "ipython",
    "version": 3
   },
   "file_extension": ".py",
   "mimetype": "text/x-python",
   "name": "python",
   "nbconvert_exporter": "python",
   "pygments_lexer": "ipython3",
   "version": "3.6.1"
  }
 },
 "nbformat": 4,
 "nbformat_minor": 2
}
