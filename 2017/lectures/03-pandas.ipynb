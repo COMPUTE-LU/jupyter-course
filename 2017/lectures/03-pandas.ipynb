{
 "cells": [
  {
   "cell_type": "markdown",
   "metadata": {
    "slideshow": {
     "slide_type": "slide"
    }
   },
   "source": [
    "## Data manipulation with Pandas\n",
    "<img src=\"https://pandas.pydata.org/_static/pandas_logo.png\" width=\"400\" align=\"left\"/>"
   ]
  },
  {
   "cell_type": "markdown",
   "metadata": {
    "slideshow": {
     "slide_type": "fragment"
    }
   },
   "source": [
    "Here are the standard ways to import Numpy, Pandas, and Pyplot"
   ]
  },
  {
   "cell_type": "code",
   "execution_count": null,
   "metadata": {
    "collapsed": true,
    "slideshow": {
     "slide_type": "fragment"
    }
   },
   "outputs": [],
   "source": [
    "import numpy as np\n",
    "import pandas as pd\n",
    "import matplotlib.pyplot as plt"
   ]
  },
  {
   "cell_type": "markdown",
   "metadata": {
    "slideshow": {
     "slide_type": "slide"
    },
    "solution2": "hidden",
    "solution2_first": true
   },
   "source": [
    "#### Task: use `conda` to install the packages `seaborn`, `openpyxl`, and `requests` within the LUcompute environment"
   ]
  },
  {
   "cell_type": "markdown",
   "metadata": {
    "slideshow": {
     "slide_type": "fragment"
    },
    "solution2": "hidden"
   },
   "source": [
    "Run the following in a terminal (or anaconda prompt):\n",
    "```bash\n",
    "conda install seaborn=0.8\n",
    "conda install openpyxl=2.4\n",
    "conda install requests=2.18 \n",
    "```"
   ]
  },
  {
   "cell_type": "markdown",
   "metadata": {
    "slideshow": {
     "slide_type": "slide"
    }
   },
   "source": [
    "Here we import [Seaborn](https://seaborn.pydata.org/index.html)"
   ]
  },
  {
   "cell_type": "code",
   "execution_count": null,
   "metadata": {
    "collapsed": true,
    "slideshow": {
     "slide_type": "fragment"
    }
   },
   "outputs": [],
   "source": [
    "import seaborn as sns\n",
    "sns.set() # seaborn overwrites matplotlib's defaults"
   ]
  },
  {
   "cell_type": "code",
   "execution_count": null,
   "metadata": {
    "collapsed": true,
    "slideshow": {
     "slide_type": "skip"
    }
   },
   "outputs": [],
   "source": [
    "plt.rcParams.update({'font.size': 14, 'figure.figsize': [8, 4]})\n",
    "import warnings\n",
    "warnings.filterwarnings('ignore')"
   ]
  },
  {
   "cell_type": "markdown",
   "metadata": {
    "slideshow": {
     "slide_type": "slide"
    }
   },
   "source": [
    "The Pandas library provides: \n",
    "* an implementation of a `DataFrame` that is a multidimensional array with row and column labels;\n",
    "* implementations of data operations that are typical of spreadsheet programs (e.g. Excel).\n",
    "\n",
    "Pandas data structures are:\n",
    "* `Series`\n",
    "* `DataFrame`\n",
    "* `Index`"
   ]
  },
  {
   "cell_type": "markdown",
   "metadata": {
    "slideshow": {
     "slide_type": "slide"
    }
   },
   "source": [
    "A Pandas `Series` is a 1D array where each value is associated with an explicitly defined index"
   ]
  },
  {
   "cell_type": "code",
   "execution_count": null,
   "metadata": {
    "slideshow": {
     "slide_type": "fragment"
    }
   },
   "outputs": [],
   "source": [
    "data = pd.Series(np.linspace(7,10,4),index=['a','e','i','o'])\n",
    "data"
   ]
  },
  {
   "cell_type": "code",
   "execution_count": null,
   "metadata": {
    "slideshow": {
     "slide_type": "fragment"
    }
   },
   "outputs": [],
   "source": [
    "data.values"
   ]
  },
  {
   "cell_type": "code",
   "execution_count": null,
   "metadata": {
    "slideshow": {
     "slide_type": "fragment"
    }
   },
   "outputs": [],
   "source": [
    "data.index"
   ]
  },
  {
   "cell_type": "markdown",
   "metadata": {
    "slideshow": {
     "slide_type": "slide"
    }
   },
   "source": [
    "Analogy with Python dictionary: we are mapping keys to values"
   ]
  },
  {
   "cell_type": "code",
   "execution_count": null,
   "metadata": {
    "slideshow": {
     "slide_type": "fragment"
    }
   },
   "outputs": [],
   "source": [
    "data['a']"
   ]
  },
  {
   "cell_type": "markdown",
   "metadata": {
    "slideshow": {
     "slide_type": "fragment"
    }
   },
   "source": [
    "Pandas structures can be thought of as advanced dictionaries (`json` structure).<br>\n",
    "Here is a dictionary (`dict`) where we associate some European countries to the emission (in kilograms per capita) of carbon dioxide in 2014 (eurostat)"
   ]
  },
  {
   "cell_type": "code",
   "execution_count": null,
   "metadata": {
    "collapsed": true,
    "slideshow": {
     "slide_type": "fragment"
    }
   },
   "outputs": [],
   "source": [
    "emission_co2_dict = { 'Estonia' : 14759.47137, \n",
    "              'Luxembourg' : 14695.69977, \n",
    "              'Netherlands': 11601.47373,\n",
    "              'Sweden': 5296.85373 }"
   ]
  },
  {
   "cell_type": "markdown",
   "metadata": {
    "slideshow": {
     "slide_type": "slide"
    },
    "solution2": "hidden",
    "solution2_first": true
   },
   "source": [
    "#### Task: Show the `type` of `data['a']` and `emission_co2_dict`"
   ]
  },
  {
   "cell_type": "code",
   "execution_count": null,
   "metadata": {
    "slideshow": {
     "slide_type": "fragment"
    },
    "solution2": "hidden"
   },
   "outputs": [],
   "source": [
    "print(type(data['a']))\n",
    "print(type(emission_co2_dict))"
   ]
  },
  {
   "cell_type": "markdown",
   "metadata": {},
   "source": [
    "#### Saving the dictionary as a `json` file"
   ]
  },
  {
   "cell_type": "code",
   "execution_count": null,
   "metadata": {
    "collapsed": true
   },
   "outputs": [],
   "source": [
    "import json\n",
    "with open('data/data.json', 'w') as outfile:\n",
    "    json.dump(emission_co2_dict, outfile)"
   ]
  },
  {
   "cell_type": "markdown",
   "metadata": {
    "slideshow": {
     "slide_type": "slide"
    }
   },
   "source": [
    "A Pandas `Series` can be readily created from a dictionary"
   ]
  },
  {
   "cell_type": "code",
   "execution_count": null,
   "metadata": {
    "slideshow": {
     "slide_type": "fragment"
    }
   },
   "outputs": [],
   "source": [
    "emission_co2 = pd.Series(emission_co2_dict)\n",
    "emission_co2"
   ]
  },
  {
   "cell_type": "markdown",
   "metadata": {
    "slideshow": {
     "slide_type": "fragment"
    }
   },
   "source": [
    "Even in this case, indeces can be explicitly specified"
   ]
  },
  {
   "cell_type": "code",
   "execution_count": null,
   "metadata": {
    "slideshow": {
     "slide_type": "fragment"
    }
   },
   "outputs": [],
   "source": [
    "pd.Series(emission_co2_dict,index=['Sweden','Netherlands'])"
   ]
  },
  {
   "cell_type": "markdown",
   "metadata": {
    "slideshow": {
     "slide_type": "slide"
    }
   },
   "source": [
    "A `DataFrame` consists of a sequence of `Series` with common indeces.<br>\n",
    "Here we create a `DataFrame` containing values of emissions (in kilograms per capita) of CO$_2$ and N$_2$O in some European countries in 2014 (eurostat)."
   ]
  },
  {
   "cell_type": "code",
   "execution_count": null,
   "metadata": {
    "slideshow": {
     "slide_type": "fragment"
    }
   },
   "outputs": [],
   "source": [
    "emission_n20_dict = { 'Estonia' : 2.10151, \n",
    "              'Luxembourg' : 1.60177, \n",
    "              'Netherlands': 1.58958,\n",
    "              'Sweden': 1.73669, \n",
    "              'Italy': 1.73669 }\n",
    "\n",
    "emissions = pd.DataFrame({'CO$_2$':emission_co2_dict,'N$_2$O':emission_n20_dict})\n",
    "emissions"
   ]
  },
  {
   "cell_type": "markdown",
   "metadata": {
    "slideshow": {
     "slide_type": "slide"
    }
   },
   "source": [
    "A `DataFrame` can be indexed using `loc` (with keys) or `iloc` (with row number)"
   ]
  },
  {
   "cell_type": "code",
   "execution_count": null,
   "metadata": {
    "slideshow": {
     "slide_type": "fragment"
    }
   },
   "outputs": [],
   "source": [
    "emissions.loc['Estonia':'Netherlands']"
   ]
  },
  {
   "cell_type": "code",
   "execution_count": null,
   "metadata": {
    "slideshow": {
     "slide_type": "fragment"
    }
   },
   "outputs": [],
   "source": [
    "emissions.iloc[0:3] # similar to numpy slicing"
   ]
  },
  {
   "cell_type": "code",
   "execution_count": null,
   "metadata": {
    "slideshow": {
     "slide_type": "fragment"
    }
   },
   "outputs": [],
   "source": [
    "emissions['CO$_2$']"
   ]
  },
  {
   "cell_type": "markdown",
   "metadata": {
    "slideshow": {
     "slide_type": "slide"
    }
   },
   "source": [
    "If the column name is a string and is not a method of the `DataFrame`, we can get the column as `DataFrame.column_name`<br>\n",
    "We create an additional column where CO$_2$ emissions are expressed in tonnes"
   ]
  },
  {
   "cell_type": "code",
   "execution_count": null,
   "metadata": {
    "slideshow": {
     "slide_type": "fragment"
    }
   },
   "outputs": [],
   "source": [
    "emissions['tonnes_co2'] = [19401989, np.nan, 175497,195658947,51358876]\n",
    "emissions.tonnes_co2"
   ]
  },
  {
   "cell_type": "code",
   "execution_count": null,
   "metadata": {
    "slideshow": {
     "slide_type": "fragment"
    }
   },
   "outputs": [],
   "source": [
    "emissions[emissions['CO$_2$']<1e4] # similar to masking numpy arrays"
   ]
  },
  {
   "cell_type": "markdown",
   "metadata": {
    "slideshow": {
     "slide_type": "slide"
    }
   },
   "source": [
    "We compute the number of inhabitants from the 1st and 3rd column"
   ]
  },
  {
   "cell_type": "code",
   "execution_count": null,
   "metadata": {
    "slideshow": {
     "slide_type": "fragment"
    }
   },
   "outputs": [],
   "source": [
    "emissions['population'] = emissions.tonnes_co2 / emissions['CO$_2$'] * 1e3\n",
    "emissions"
   ]
  },
  {
   "cell_type": "markdown",
   "metadata": {
    "slideshow": {
     "slide_type": "slide"
    }
   },
   "source": [
    "### Case Study: Individual Temperature Observations from [Bolin Centre Database](http://bolin.su.se/data/stockholm)"
   ]
  },
  {
   "cell_type": "code",
   "execution_count": null,
   "metadata": {
    "collapsed": true,
    "slideshow": {
     "slide_type": "fragment"
    }
   },
   "outputs": [],
   "source": [
    "url = 'http://bolin.su.se/data/stockholm/files/stockholm-historical-weather-observations-ver-1.0.2016/temperature/daily/raw/stockholm_daily_temp_obs_1859_1960_t1t2t3txtn.txt'\n",
    "temp1859_1960 = pd.read_table(url,header=None,engine='python',delim_whitespace=True,\n",
    "                     names=['year','month','day','morning','noon','evening','tmax','tmin'])\n",
    "url = 'http://bolin.su.se/data/stockholm/files/stockholm-historical-weather-observations-ver-1.0.2016/temperature/daily/raw/stockholm_daily_temp_obs_1961_2012_t1t2t3txtntm.txt'\n",
    "temp1961_2012 = pd.read_table(url,header=None,engine='python',delim_whitespace=True,\n",
    "                     names=['year','month','day','morning','noon','evening','tmax','tmin','estimated diurnal mean'])\n",
    "url = 'http://bolin.su.se/data/stockholm/files/stockholm-historical-weather-observations-ver-1.0.2016/temperature/daily/raw/stockholm_daily_temp_obs_2013_2016_t1t2t3txtntm.txt'\n",
    "temp2013_2016 = pd.read_table(url,header=None,engine='python',delim_whitespace=True,\n",
    "                     names=['year','month','day','morning','noon','evening','tmax','tmin','estimated diurnal mean'])"
   ]
  },
  {
   "cell_type": "markdown",
   "metadata": {
    "slideshow": {
     "slide_type": "slide"
    }
   },
   "source": [
    "Now we can turn the dates into indeces and keep the temperatures as columns"
   ]
  },
  {
   "cell_type": "code",
   "execution_count": null,
   "metadata": {
    "slideshow": {
     "slide_type": "fragment"
    }
   },
   "outputs": [],
   "source": [
    "temp1859_1960.set_index(['year','month','day'],inplace=True)\n",
    "temp1961_2012.set_index(['year','month','day'],inplace=True)\n",
    "temp2013_2016.set_index(['year','month','day'],inplace=True)"
   ]
  },
  {
   "cell_type": "markdown",
   "metadata": {
    "slideshow": {
     "slide_type": "fragment"
    }
   },
   "source": [
    "`Dataframes` are concatenated into a single `Dataframe`"
   ]
  },
  {
   "cell_type": "code",
   "execution_count": null,
   "metadata": {
    "slideshow": {
     "slide_type": "fragment"
    }
   },
   "outputs": [],
   "source": [
    "temp = pd.concat([temp1859_1960,temp1961_2012,temp2013_2016])\n",
    "temp[:3]"
   ]
  },
  {
   "cell_type": "markdown",
   "metadata": {
    "slideshow": {
     "slide_type": "slide"
    }
   },
   "source": [
    "Save tab-separated value file"
   ]
  },
  {
   "cell_type": "code",
   "execution_count": null,
   "metadata": {
    "slideshow": {
     "slide_type": "fragment"
    }
   },
   "outputs": [],
   "source": [
    "# reset_index() turns the indeces into columns\n",
    "sthlm_2d = temp.reset_index()\n",
    "sthlm_2d = sthlm_2d[['year','tmax']]\n",
    "# we save as tab-separated values all tmax for all years\n",
    "sthlm_2d.to_csv('data/sthlm_2d.csv', sep='\\t',index=False,na_rep=np.nan)\n",
    "!head -n 5 data/sthlm_2d.csv"
   ]
  },
  {
   "cell_type": "markdown",
   "metadata": {
    "slideshow": {
     "slide_type": "slide"
    }
   },
   "source": [
    "#### Seaborn allows you to plot `DataFrames` directly"
   ]
  },
  {
   "cell_type": "code",
   "execution_count": null,
   "metadata": {
    "slideshow": {
     "slide_type": "fragment"
    }
   },
   "outputs": [],
   "source": [
    "# here we plot the joint distributions between tmax and tmin \n",
    "ax = sns.jointplot('tmin','tmax',data=temp.reset_index(),kind='hex')\n",
    "ax.set_axis_labels(xlabel='$T_{min}$ ($^{\\circ}C$)', ylabel='$T_{max}$ ($^{\\circ}C$)')\n",
    "plt.show()"
   ]
  },
  {
   "cell_type": "markdown",
   "metadata": {
    "slideshow": {
     "slide_type": "slide"
    }
   },
   "source": [
    "`GroupBy` and `mean()` allow us to group by an index (year) and calculate the mean of records from a column (tmax).<br>\n",
    "This is a simple way to extraxt a `Series` averaging over sets of values in the `DataFrame`.<br>\n",
    "We smoothen the curve using a LOWESS function (Locally Weighted Scatterplot Smoothing)."
   ]
  },
  {
   "cell_type": "code",
   "execution_count": null,
   "metadata": {
    "collapsed": true,
    "slideshow": {
     "slide_type": "fragment"
    }
   },
   "outputs": [],
   "source": [
    "import statsmodels.api as sm\n",
    "lowess = sm.nonparametric.lowess"
   ]
  },
  {
   "cell_type": "code",
   "execution_count": null,
   "metadata": {
    "slideshow": {
     "slide_type": "slide"
    }
   },
   "outputs": [],
   "source": [
    "tmax_year_mean = temp.groupby('year')['tmax'].mean()\n",
    "plt.plot(tmax_year_mean.index,tmax_year_mean.values,label='Mean $T_{max}$',lw=2,color='grey')\n",
    "mean_lowess_STHLM = lowess(tmax_year_mean.values,tmax_year_mean.index,frac=0.5)\n",
    "plt.plot(mean_lowess_STHLM[:,0],mean_lowess_STHLM[:,1],label='Mean $T_{max}$ with LOWESS',lw=4,color='k')\n",
    "plt.legend(frameon=False)\n",
    "plt.xlabel('Year'); plt.ylabel('Mean of $T_{max}$ ($^\\circ$C)')\n",
    "plt.title('Stockholm - yearly mean temperature'); plt.ylim(7,13); plt.show()"
   ]
  },
  {
   "cell_type": "markdown",
   "metadata": {
    "slideshow": {
     "slide_type": "slide"
    },
    "solution2": "hidden",
    "solution2_first": true
   },
   "source": [
    "#### Task: use `GroupBy`,  `mean()`, and `std()` to group by year and calculate the mean and standard deviation of the mean of morning, noon, and evening temperatures. Plot the data with `Matplotlib`.<br>"
   ]
  },
  {
   "cell_type": "code",
   "execution_count": null,
   "metadata": {
    "slideshow": {
     "slide_type": "fragment"
    },
    "solution2": "hidden"
   },
   "outputs": [],
   "source": [
    "for i,c in zip(['morning','noon','evening'],plt.rcParams['axes.prop_cycle'].by_key()['color']):\n",
    "    mean = temp.groupby('year')[i].mean()\n",
    "    std = temp.groupby('year')[i].std()/np.sqrt(temp.groupby('year')[i].count())\n",
    "    plt.errorbar(mean.index,mean.values,std.values,label=i,lw=0,marker='o',color=c,\n",
    "                ms=3, elinewidth=1., capsize=3, capthick=1.)\n",
    "    lowess_mean = lowess(mean.values,mean.index,frac=0.5)\n",
    "    plt.plot(lowess_mean[:,0],lowess_mean[:,1],label=i+' LOWESS',lw=4,color=c)\n",
    "plt.legend(frameon=False, ncol=2)\n",
    "plt.xlabel('Year'); \n",
    "plt.ylabel(r'$\\langle T \\rangle$ ($^\\circ$C)'); \n",
    "plt.ylim(2,15); \n",
    "plt.show()"
   ]
  },
  {
   "cell_type": "markdown",
   "metadata": {
    "slideshow": {
     "slide_type": "slide"
    }
   },
   "source": [
    "To compute the monthly $T_{max}$, use either `GroupBy` and the `aggregate()` method, or use the convenient `pivot_table` method which groups entries into 2D tables."
   ]
  },
  {
   "cell_type": "code",
   "execution_count": null,
   "metadata": {
    "slideshow": {
     "slide_type": "fragment"
    }
   },
   "outputs": [],
   "source": [
    "temp.groupby(['year','month'])['tmax'].aggregate('max').unstack()[:3]"
   ]
  },
  {
   "cell_type": "code",
   "execution_count": null,
   "metadata": {
    "slideshow": {
     "slide_type": "fragment"
    }
   },
   "outputs": [],
   "source": [
    "temp.pivot_table('tmax',index='year',columns='month',aggfunc='max')[:3]"
   ]
  },
  {
   "cell_type": "markdown",
   "metadata": {
    "slideshow": {
     "slide_type": "slide"
    }
   },
   "source": [
    "### Case Study: Data on Waste Generation from [eurostat](http://ec.europa.eu/eurostat/data/database)\n",
    "<img src=\"figs/eurostat.png\" width=\"1000\" />"
   ]
  },
  {
   "cell_type": "markdown",
   "metadata": {
    "slideshow": {
     "slide_type": "slide"
    }
   },
   "source": [
    "In this case study, we are going to analyze a data set on waste generated by EU countries categorized by economic activity, waste category, and hazard.<br>\n",
    "The data set contains more than one million entries.<br>\n",
    "We are going to load, parse, save, explore, and plot the data that has been downloaded from the European Commission website as a tab-separated values file. "
   ]
  },
  {
   "cell_type": "code",
   "execution_count": null,
   "metadata": {
    "slideshow": {
     "slide_type": "slide"
    }
   },
   "outputs": [],
   "source": [
    "!head -n 2 data/env_wasgen.tsv"
   ]
  },
  {
   "cell_type": "markdown",
   "metadata": {
    "slideshow": {
     "slide_type": "fragment"
    }
   },
   "source": [
    "Both comma- and tab-separated column names in the header"
   ]
  },
  {
   "cell_type": "code",
   "execution_count": null,
   "metadata": {
    "collapsed": true,
    "slideshow": {
     "slide_type": "fragment"
    }
   },
   "outputs": [],
   "source": [
    "df = pd.read_table('data/env_wasgen.tsv',header=0,sep=',|\\t',engine='python')"
   ]
  },
  {
   "cell_type": "code",
   "execution_count": null,
   "metadata": {
    "slideshow": {
     "slide_type": "fragment"
    }
   },
   "outputs": [],
   "source": [
    "df.columns.values"
   ]
  },
  {
   "cell_type": "markdown",
   "metadata": {
    "slideshow": {
     "slide_type": "slide"
    }
   },
   "source": [
    "We can also rename the column labels"
   ]
  },
  {
   "cell_type": "code",
   "execution_count": null,
   "metadata": {
    "collapsed": true,
    "slideshow": {
     "slide_type": "fragment"
    }
   },
   "outputs": [],
   "source": [
    "df = pd.read_table('data/env_wasgen.tsv',header=0,sep=',|\\t',engine='python',\n",
    "                  names=['unit','hazard','nace_r2','waste','country','2014','2012','2010','2008','2006','2004'])"
   ]
  },
  {
   "cell_type": "code",
   "execution_count": null,
   "metadata": {
    "slideshow": {
     "slide_type": "fragment"
    }
   },
   "outputs": [],
   "source": [
    "df.columns.values"
   ]
  },
  {
   "cell_type": "code",
   "execution_count": null,
   "metadata": {},
   "outputs": [],
   "source": [
    "df.shape"
   ]
  },
  {
   "cell_type": "markdown",
   "metadata": {
    "slideshow": {
     "slide_type": "slide"
    }
   },
   "source": [
    "NACE is the statistical classification of economic activities in the European Community<br>\n",
    "* TOTAL_HH is all NACE activities plus households\n",
    "* EP_HH is households\n",
    "* A is agriculture, forestry and fishing \n",
    "* B is mining and quarrying\n",
    "* C is manufacturing\n",
    "* F\tis construction"
   ]
  },
  {
   "cell_type": "markdown",
   "metadata": {
    "slideshow": {
     "slide_type": "slide"
    }
   },
   "source": [
    "Waste Categories"
   ]
  },
  {
   "cell_type": "code",
   "execution_count": null,
   "metadata": {
    "slideshow": {
     "slide_type": "fragment"
    }
   },
   "outputs": [],
   "source": [
    "df.waste.unique()"
   ]
  },
  {
   "cell_type": "markdown",
   "metadata": {
    "slideshow": {
     "slide_type": "slide"
    }
   },
   "source": [
    "* W06 is metal waste\n",
    "* W07 is glass, paper, cardboard, plastic, rubber, wood, textile, and equipment (except waste containing PCB)\n",
    "* W10 is mixed ordinary wastes which includes\n",
    "    * W101 Household and similar wastes\n",
    "    * W102 Mixed and undifferentiated materials\n",
    "\t* W103 Sorting residues\n",
    "* W124 is combustion waste\n",
    "* W128_13 is mineral wastes from waste treatment and stabilised wastes\n",
    "* TOT_X_MIN is waste excluding major mineral wastes"
   ]
  },
  {
   "cell_type": "markdown",
   "metadata": {
    "slideshow": {
     "slide_type": "slide"
    }
   },
   "source": [
    "We rename some categories accordingly."
   ]
  },
  {
   "cell_type": "code",
   "execution_count": null,
   "metadata": {
    "collapsed": true,
    "slideshow": {
     "slide_type": "fragment"
    }
   },
   "outputs": [],
   "source": [
    "df.loc[df.waste=='TOTAL','waste']='Total'\n",
    "df.loc[df.waste=='W06_07A','waste']='Recyclable'\n",
    "df.loc[df.waste=='W10','waste']='Mixed' \n",
    "df.loc[df.waste=='W12-13','waste']='Mineral'"
   ]
  },
  {
   "cell_type": "code",
   "execution_count": null,
   "metadata": {
    "slideshow": {
     "slide_type": "fragment"
    }
   },
   "outputs": [],
   "source": [
    "df.loc[14:19]"
   ]
  },
  {
   "cell_type": "code",
   "execution_count": null,
   "metadata": {
    "slideshow": {
     "slide_type": "slide"
    }
   },
   "outputs": [],
   "source": [
    "type(df['2014'].values[0]) # values were read as string "
   ]
  },
  {
   "cell_type": "markdown",
   "metadata": {
    "slideshow": {
     "slide_type": "fragment"
    }
   },
   "source": [
    "* The type of the values is $string$: to analyze the data (_e.g._ sorting, plotting) we need to convert them into numbers<br>\n",
    "* Some values are missing (:) or followed by a letter (_e.g._ $e$ stands for estimated, $u$ stands for low reliability).<br>\n",
    "* Forcing the conversion of all strings into numerical values (`float`), turns values followed by a letter into `NaN`s.<br>\n",
    "* We trim non-digit values using `map()`, a `lambda` function, and `strip()`.<br>\n",
    "* We use pd.to_numeric to convert."
   ]
  },
  {
   "cell_type": "code",
   "execution_count": null,
   "metadata": {
    "slideshow": {
     "slide_type": "slide"
    }
   },
   "outputs": [],
   "source": [
    "for col in df.columns:\n",
    "    if col[0] == '2': # check the the column name starts with 2, i.e. it's a year\n",
    "        df[col] = df[col].map(lambda x: x.rstrip('bcdefinprsuz')) # remove trailing char from each value of the column\n",
    "        df[col] = pd.to_numeric(df[col], errors='coerce')\n",
    "print(df['2014'].values)\n",
    "type(df['2014'].values[0])"
   ]
  },
  {
   "cell_type": "markdown",
   "metadata": {
    "slideshow": {
     "slide_type": "slide"
    },
    "solution2": "hidden",
    "solution2_first": true
   },
   "source": [
    "#### Task: Create a `Series` from the dictionary { 'EE' : '14759.4713a', 'LU' : '195.677c', 'NL': '111.437b', 'SE': '596.8ba' } and use `map()` and `rstrip` as above to remove the characters 'abc'"
   ]
  },
  {
   "cell_type": "code",
   "execution_count": null,
   "metadata": {
    "slideshow": {
     "slide_type": "fragment"
    },
    "solution2": "hidden"
   },
   "outputs": [],
   "source": [
    "series = pd.Series( { 'EE' : '1459.4713a', 'LU' : '195.677c', 'NL': '111.437b', 'SE': '596.8ba' } )\n",
    "def strip_abc(item):\n",
    "    return item.rstrip('abc')\n",
    "series = series.map(strip_abc)\n",
    "series"
   ]
  },
  {
   "cell_type": "markdown",
   "metadata": {
    "slideshow": {
     "slide_type": "fragment"
    },
    "solution2": "hidden"
   },
   "source": [
    "We defined the function `strip` that takes a string and uses `strip` to remove any a, b, or c character from each item of the `list` named $l$.<br>\n",
    "Instead, we can use a `lambda function`."
   ]
  },
  {
   "cell_type": "code",
   "execution_count": null,
   "metadata": {
    "slideshow": {
     "slide_type": "fragment"
    },
    "solution2": "hidden"
   },
   "outputs": [],
   "source": [
    "print( list( map(lambda item: item.strip('abc'),series) ) )"
   ]
  },
  {
   "cell_type": "markdown",
   "metadata": {
    "slideshow": {
     "slide_type": "slide"
    }
   },
   "source": [
    "#### Hazardous waste in Sweden\n",
    "We can now select data based on waste category, hazard, source (economic activity), country, and unit (tons or kilograms per capita)."
   ]
  },
  {
   "cell_type": "code",
   "execution_count": null,
   "metadata": {
    "collapsed": true,
    "slideshow": {
     "slide_type": "fragment"
    }
   },
   "outputs": [],
   "source": [
    "df.loc[(df.hazard == 'HAZ') & (df.unit == 'KG_HAB')\n",
    "        & (df.nace_r2=='TOTAL_HH') & (df.country == 'SE')][:5]"
   ]
  },
  {
   "cell_type": "markdown",
   "metadata": {
    "slideshow": {
     "slide_type": "slide"
    }
   },
   "source": [
    "### MultiIndex Creation"
   ]
  },
  {
   "cell_type": "markdown",
   "metadata": {
    "slideshow": {
     "slide_type": "fragment"
    }
   },
   "source": [
    "The first 5 columns of this multi-dimensional data are used to store the keys. Pandas provides $hierarchical$ $indexing$ to represent this data as a 2D `DataFrame`."
   ]
  },
  {
   "cell_type": "code",
   "execution_count": null,
   "metadata": {
    "collapsed": true,
    "slideshow": {
     "slide_type": "fragment"
    }
   },
   "outputs": [],
   "source": [
    "df_mi = df.set_index(['unit','hazard','nace_r2','waste','country'])"
   ]
  },
  {
   "cell_type": "code",
   "execution_count": null,
   "metadata": {
    "slideshow": {
     "slide_type": "fragment"
    }
   },
   "outputs": [],
   "source": [
    "df_mi.index.names"
   ]
  },
  {
   "cell_type": "code",
   "execution_count": null,
   "metadata": {
    "slideshow": {
     "slide_type": "fragment"
    }
   },
   "outputs": [],
   "source": [
    "df_mi.columns"
   ]
  },
  {
   "cell_type": "markdown",
   "metadata": {
    "slideshow": {
     "slide_type": "slide"
    }
   },
   "source": [
    "Alternative MultiIndex Creation:"
   ]
  },
  {
   "cell_type": "code",
   "execution_count": null,
   "metadata": {
    "collapsed": true,
    "slideshow": {
     "slide_type": "fragment"
    }
   },
   "outputs": [],
   "source": [
    "index = pd.MultiIndex.from_arrays([df.unit,df.hazard,df.nace_r2,df.waste,df.country],\n",
    "                                  names=['unit','hazard','nace_r2','waste','country'])"
   ]
  },
  {
   "cell_type": "code",
   "execution_count": null,
   "metadata": {
    "collapsed": true,
    "slideshow": {
     "slide_type": "fragment"
    }
   },
   "outputs": [],
   "source": [
    "df_mi = pd.DataFrame(df.iloc[:,5:11].values,index=index,columns=['2014','2012','2010','2008','2006','2004'])"
   ]
  },
  {
   "cell_type": "code",
   "execution_count": null,
   "metadata": {
    "slideshow": {
     "slide_type": "slide"
    }
   },
   "outputs": [],
   "source": [
    "df_mi[::1000][:4]"
   ]
  },
  {
   "cell_type": "markdown",
   "metadata": {
    "slideshow": {
     "slide_type": "slide"
    },
    "solution2": "hidden",
    "solution2_first": true
   },
   "source": [
    "#### Task: what percentage of the total non-hazardous waste was generated by agricolture in your country in 2014?"
   ]
  },
  {
   "cell_type": "code",
   "execution_count": null,
   "metadata": {
    "slideshow": {
     "slide_type": "fragment"
    },
    "solution2": "hidden"
   },
   "outputs": [],
   "source": [
    "tot_se = df_mi.loc['KG_HAB','NHAZ','TOTAL_HH','Total','SE']['2014']\n",
    "agriculture_se = df_mi.loc['KG_HAB','NHAZ','B','Total','SE']['2014']\n",
    "print('Waste from agriculture in Sweden in 2014: {:1.1f}%'.format(agriculture_se/tot_se*100))"
   ]
  },
  {
   "cell_type": "markdown",
   "metadata": {
    "slideshow": {
     "slide_type": "slide"
    }
   },
   "source": [
    "### Ranking countries by waste generated in 2014\n",
    "Here we select one household waste category and rank the countries by waste generation in 2014."
   ]
  },
  {
   "cell_type": "code",
   "execution_count": null,
   "metadata": {
    "collapsed": true,
    "slideshow": {
     "slide_type": "fragment"
    }
   },
   "outputs": [],
   "source": [
    "df_tot = df_mi.loc['KG_HAB','NHAZ','EP_HH','Total'].sort_values(by='2014',ascending=False)\n",
    "df_rec = df_mi.loc['KG_HAB','NHAZ','EP_HH','Recyclable'].sort_values(by='2014',ascending=False)\n",
    "df_mix = df_mi.loc['KG_HAB','NHAZ','EP_HH','Mixed'].sort_values(by='2014',ascending=False)"
   ]
  },
  {
   "cell_type": "markdown",
   "metadata": {
    "slideshow": {
     "slide_type": "slide"
    }
   },
   "source": [
    "`DataFrames` can be conveniently saved as Excel files."
   ]
  },
  {
   "cell_type": "code",
   "execution_count": null,
   "metadata": {
    "slideshow": {
     "slide_type": "fragment"
    }
   },
   "outputs": [],
   "source": [
    "output = pd.ExcelWriter('data/waste.xlsx')\n",
    "df_tot.to_excel(output,'Sheet1',index=False)\n",
    "df_rec.to_excel(output,'Sheet2',index=False)\n",
    "df_mix.to_excel(output,'Sheet3',index=False)\n",
    "output.save()\n",
    "df_tot[:5]"
   ]
  },
  {
   "cell_type": "markdown",
   "metadata": {
    "slideshow": {
     "slide_type": "slide"
    }
   },
   "source": [
    "### Comparison between Sweden and EU average"
   ]
  },
  {
   "cell_type": "markdown",
   "metadata": {
    "slideshow": {
     "slide_type": "fragment"
    }
   },
   "source": [
    "#### Total waste from household and all NACE Rev. 2 activities "
   ]
  },
  {
   "cell_type": "code",
   "execution_count": null,
   "metadata": {
    "slideshow": {
     "slide_type": "fragment"
    }
   },
   "outputs": [],
   "source": [
    "df_mi.loc['KG_HAB','NHAZ','TOTAL_HH','Total'].loc[('EU28','SE'),:]"
   ]
  },
  {
   "cell_type": "markdown",
   "metadata": {
    "slideshow": {
     "slide_type": "slide"
    },
    "solution2": "hidden",
    "solution2_first": true
   },
   "source": [
    "#### Task: compare the total waste from mining (NACE Rev.2 B) in 2014 in your country to the EU average"
   ]
  },
  {
   "cell_type": "code",
   "execution_count": null,
   "metadata": {
    "slideshow": {
     "slide_type": "fragment"
    },
    "solution2": "hidden"
   },
   "outputs": [],
   "source": [
    "df_mi.loc['KG_HAB','NHAZ','B','Total'].loc[('EU28','SE'),:]['2014']"
   ]
  },
  {
   "cell_type": "markdown",
   "metadata": {
    "slideshow": {
     "slide_type": "slide"
    }
   },
   "source": [
    "#### Cross-Section of a `DataFrame` [focusing on a subcategory (waste type) for all supercategories (activities)]: Which activities generated most of the recyclable wastes in Sweden in 2014"
   ]
  },
  {
   "cell_type": "code",
   "execution_count": null,
   "metadata": {
    "collapsed": true,
    "slideshow": {
     "slide_type": "fragment"
    }
   },
   "outputs": [],
   "source": [
    "df_mi.loc['KG_HAB','HAZ_NHAZ'][['2014']].xs(('Recyclable','SE'),\n",
    "                                     level=['waste','country']).sort_values(by='2014',ascending=False)[:3]"
   ]
  },
  {
   "cell_type": "markdown",
   "metadata": {
    "slideshow": {
     "slide_type": "slide"
    }
   },
   "source": [
    "#### Plotting the yearly progress in Swedish, Finnish, and British mining waste generation compared to the EU average"
   ]
  },
  {
   "cell_type": "code",
   "execution_count": null,
   "metadata": {
    "slideshow": {
     "slide_type": "fragment"
    }
   },
   "outputs": [],
   "source": [
    "for country, c in zip(['SE','EU28','FI','UK'],['r','b','g','y']):\n",
    "    years = df_mi.loc['KG_HAB','NHAZ','B','Total'].loc[country]\n",
    "    plt.plot(years.index.astype(int),years.values,color=c)\n",
    "    plt.plot(years.index.astype(int),years.values,label=country,color=c,marker='X',lw=0,ms=10)\n",
    "plt.legend(frameon=False,ncol=2,labelspacing=1.5)\n",
    "plt.yscale('log'); plt.ylabel('kilograms per capita'); plt.xlabel('year'); plt.show()"
   ]
  },
  {
   "cell_type": "markdown",
   "metadata": {
    "slideshow": {
     "slide_type": "slide"
    },
    "solution2": "hidden",
    "solution2_first": true
   },
   "source": [
    "##### Task: Plot the yearly progress in Swedish household recyclable and mixed waste generation compared to the EU average"
   ]
  },
  {
   "cell_type": "code",
   "execution_count": null,
   "metadata": {
    "slideshow": {
     "slide_type": "fragment"
    },
    "solution2": "hidden"
   },
   "outputs": [],
   "source": [
    "for country in ['SE','EU28']:\n",
    "    for waste, c in zip(['Mixed','Recyclable'],['r','b']):\n",
    "        years = df_mi.loc['KG_HAB','NHAZ','EP_HH',waste].loc[country]\n",
    "        ls = '--' if (country == 'EU28') else '-'\n",
    "        m = 'o' if (country == 'EU28') else 's'\n",
    "        plt.plot(years.index.astype(int),years.values,color=c,ls=ls)\n",
    "        plt.plot(years.index.astype(int),years.values,label=waste+', '+country,color=c,marker=m,lw=0,ms=10)\n",
    "plt.legend(frameon=False,ncol=2,labelspacing=1.5)\n",
    "plt.ylabel('kilograms per capita'); plt.xlabel('year'); plt.show()"
   ]
  },
  {
   "cell_type": "markdown",
   "metadata": {
    "slideshow": {
     "slide_type": "slide"
    },
    "solution2": "hidden",
    "solution2_first": true
   },
   "source": [
    "Now we want to create a stacked bar plot showing the total, recyclable, and mixed household waste for each country ranked in ascending order with respect to the total household waste in 2014.<br>\n",
    "The `DataFrames` `df_mix`, `df_tot`, and `df_rec` were sorted based on the respective 2014 values. Now we want to sort them based on the 2014 values of `df_tot`."
   ]
  },
  {
   "cell_type": "code",
   "execution_count": null,
   "metadata": {
    "collapsed": true,
    "slideshow": {
     "slide_type": "fragment"
    },
    "solution2": "hidden"
   },
   "outputs": [],
   "source": [
    "df_mix = df_mix.reindex(df_tot.index)\n",
    "df_rec = df_rec.reindex(df_tot.index)"
   ]
  },
  {
   "cell_type": "code",
   "execution_count": null,
   "metadata": {
    "slideshow": {
     "slide_type": "slide"
    }
   },
   "outputs": [],
   "source": [
    "ind = range(df_mix['2014'].values.size) # the x locations for the groups\n",
    "width = 0.35 # the width of the bars: can also be len(x) sequence\n",
    "plt.bar(ind, df_tot['2014'].values, width, label='Total')\n",
    "plt.bar(ind, df_rec['2014'].values, width, label='Recyclable')\n",
    "plt.bar(ind, df_mix['2014'].values, width, bottom=df_rec['2014'].values, label='Mixed ordinary')\n",
    "plt.ylabel('kilograms per capita'); plt.title('Household wastes in 2014')\n",
    "plt.xticks(ind, df_tot.index, rotation=45); plt.xlim(-.5,18.5)\n",
    "plt.legend(loc='upper right',frameon=False); plt.show()"
   ]
  },
  {
   "cell_type": "markdown",
   "metadata": {
    "slideshow": {
     "slide_type": "slide"
    },
    "solution2": "hidden",
    "solution2_first": true
   },
   "source": [
    "#### Task: create a bar plot showing the mineral waste generated by each country from mining (NACE Rev.2 B) and construction (NACE Rev.2 F) ranked in ascending order with respect to the sum mining+construction (select data from 2014)"
   ]
  },
  {
   "cell_type": "code",
   "execution_count": null,
   "metadata": {
    "collapsed": true,
    "slideshow": {
     "slide_type": "fragment"
    },
    "solution2": "hidden"
   },
   "outputs": [],
   "source": [
    "df_mining = df_mi.loc['KG_HAB','HAZ_NHAZ','B','Mineral']\n",
    "df_constr = df_mi.loc['KG_HAB','HAZ_NHAZ','F','Mineral']\n",
    "df_sum = df_mining + df_constr\n",
    "df_sum = df_sum.sort_values(by='2014',ascending=False)\n",
    "df_mining = df_mining.reindex(df_sum.index)\n",
    "df_constr = df_constr.reindex(df_sum.index)\n",
    "ind = range(df_constr['2014'].values.size)\n",
    "plt.bar(ind, df_mining['2014'].values, width, label='Mining and quarrying')\n",
    "plt.bar(ind, df_constr['2014'].values, width, \n",
    "             bottom=df_mining['2014'].values, label='Construction and deconstruction')\n",
    "plt.ylabel('kilograms per capita'); plt.title('Mineral and solidified wastes in 2014')\n",
    "plt.xticks(ind, df_mining.index, rotation=45); plt.xlim(-.5,18.5)\n",
    "plt.legend(loc='upper right',frameon=False); "
   ]
  },
  {
   "cell_type": "code",
   "execution_count": null,
   "metadata": {
    "collapsed": true,
    "slideshow": {
     "slide_type": "slide"
    }
   },
   "outputs": [],
   "source": [
    "plt.show()"
   ]
  },
  {
   "cell_type": "markdown",
   "metadata": {
    "slideshow": {
     "slide_type": "skip"
    }
   },
   "source": [
    "### Supplemental Case Study: Data on Waste Treatment from [eurostat](http://ec.europa.eu/eurostat/data/database)"
   ]
  },
  {
   "cell_type": "code",
   "execution_count": null,
   "metadata": {
    "collapsed": true,
    "slideshow": {
     "slide_type": "skip"
    }
   },
   "outputs": [],
   "source": [
    "!head -n 1 data/env_wastrt.tsv"
   ]
  },
  {
   "cell_type": "code",
   "execution_count": null,
   "metadata": {
    "collapsed": true,
    "slideshow": {
     "slide_type": "skip"
    }
   },
   "outputs": [],
   "source": [
    "tr = pd.read_table('data/env_wastrt.tsv',header=0,sep=',|\\t',engine='python',\n",
    "                   names=['unit','hazard','wst_oper','waste','country','2014','2012','2010','2008','2006','2004'])"
   ]
  },
  {
   "cell_type": "markdown",
   "metadata": {
    "slideshow": {
     "slide_type": "skip"
    }
   },
   "source": [
    "Here we rename some of the waste treatment operations"
   ]
  },
  {
   "cell_type": "code",
   "execution_count": null,
   "metadata": {
    "collapsed": true,
    "slideshow": {
     "slide_type": "skip"
    }
   },
   "outputs": [],
   "source": [
    "tr.loc[tr.wst_oper=='TRT','wst_oper']='Total'\n",
    "tr.loc[tr.wst_oper=='DSP_L','wst_oper']='Landfill'\n",
    "tr.loc[tr.wst_oper=='INC','wst_oper']='Incineration/Disposal' \n",
    "tr.loc[tr.wst_oper=='RCV_E','wst_oper']='Incineration/Energy recovery'\n",
    "tr.loc[tr.wst_oper=='RCV_B','wst_oper']='Backfilling'\n",
    "tr.loc[tr.wst_oper=='RCV_O','wst_oper']='Recovery'"
   ]
  },
  {
   "cell_type": "code",
   "execution_count": null,
   "metadata": {
    "collapsed": true,
    "slideshow": {
     "slide_type": "skip"
    }
   },
   "outputs": [],
   "source": [
    "tr = tr.set_index(['unit','hazard','wst_oper','waste','country'])"
   ]
  },
  {
   "cell_type": "code",
   "execution_count": null,
   "metadata": {
    "collapsed": true,
    "slideshow": {
     "slide_type": "skip"
    }
   },
   "outputs": [],
   "source": [
    "for col in tr.columns:\n",
    "    tr[col] = tr[col].map(lambda x: x.rstrip('bcdefinprsuz'))\n",
    "    tr[col] = pd.to_numeric(tr[col], errors='coerce')"
   ]
  },
  {
   "cell_type": "markdown",
   "metadata": {
    "slideshow": {
     "slide_type": "skip"
    }
   },
   "source": [
    "#### Plastic wastes treatment in the EU in 2014"
   ]
  },
  {
   "cell_type": "code",
   "execution_count": null,
   "metadata": {
    "collapsed": true,
    "slideshow": {
     "slide_type": "skip"
    }
   },
   "outputs": [],
   "source": [
    "tot = tr.loc['T','HAZ_NHAZ','Total','W074'][['2014']]\n",
    "inc = tr.loc['T','HAZ_NHAZ','Incineration/Energy recovery','W074'][['2014']]\n",
    "sorter = (inc/tot).sort_values(by='2014',ascending=False)\n",
    "tot = tot.reindex(sorter.index)\n",
    "ind = range(sorter.index.size)\n",
    "width = 0.35\n",
    "bottom = np.zeros(sorter.index.shape,dtype=float)"
   ]
  },
  {
   "cell_type": "code",
   "execution_count": null,
   "metadata": {
    "collapsed": true,
    "slideshow": {
     "slide_type": "skip"
    }
   },
   "outputs": [],
   "source": [
    "for operation in ['Recovery','Backfilling','Landfill','Incineration/Disposal','Incineration/Energy recovery']:\n",
    "    op = tr.loc['T','HAZ_NHAZ',operation,'W074'][['2014']]\n",
    "    op = op.reindex(sorter.index)\n",
    "    ratio_op = op / tot\n",
    "    plt.bar(ind[:21], ratio_op['2014'].values[:21], width, bottom=bottom[:21], label=operation)\n",
    "    bottom = np.add(ratio_op['2014'].values,bottom)\n",
    "plt.ylabel('Fraction of total plastic wastes'); plt.title('Treatment of plastic wastes in 2014')\n",
    "plt.xticks(ind, sorter.index, rotation=45); plt.xlim(1.5,20.5); plt.ylim(0,1.6)\n",
    "plt.legend(loc='upper right',frameon=False,ncol=2); plt.show()"
   ]
  },
  {
   "cell_type": "markdown",
   "metadata": {
    "slideshow": {
     "slide_type": "skip"
    }
   },
   "source": [
    "### Supplemental Case Study: Data Scraping – Temperature in Oxford"
   ]
  },
  {
   "cell_type": "markdown",
   "metadata": {
    "slideshow": {
     "slide_type": "skip"
    }
   },
   "source": [
    "It is commonly needed to gather data from a website.<br>\n",
    "Here we show how to read an HTML page."
   ]
  },
  {
   "cell_type": "code",
   "execution_count": null,
   "metadata": {
    "collapsed": true,
    "slideshow": {
     "slide_type": "skip"
    }
   },
   "outputs": [],
   "source": [
    "from lxml import html \n",
    "import requests\n",
    "from time import sleep\n",
    "import io\n",
    "url = 'https://www.metoffice.gov.uk/pub/data/weather/uk/climate/stationdata/oxforddata.txt'\n",
    "response = requests.get(url)\n",
    "sleep(3)\n",
    "parser = html.fromstring(response.text)"
   ]
  },
  {
   "cell_type": "code",
   "execution_count": null,
   "metadata": {
    "collapsed": true,
    "slideshow": {
     "slide_type": "skip"
    }
   },
   "outputs": [],
   "source": [
    "temp_oxford = pd.read_table(io.StringIO(parser.text),header=None,engine='python',delim_whitespace=True,\n",
    "                     skiprows=range(7),names=['yyyy','mm','tmax','tmin','af','rain','sun','comment'])"
   ]
  },
  {
   "cell_type": "markdown",
   "metadata": {
    "slideshow": {
     "slide_type": "skip"
    }
   },
   "source": [
    "We set $year$ and $month$ labels as indeces and remove the last four columns from the `DataFrame`"
   ]
  },
  {
   "cell_type": "code",
   "execution_count": null,
   "metadata": {
    "collapsed": true,
    "slideshow": {
     "slide_type": "skip"
    }
   },
   "outputs": [],
   "source": [
    "temp_oxford.set_index(['yyyy','mm'],inplace=True)\n",
    "temp_oxford.drop(['af','rain','sun','comment'],axis=1,inplace=True)\n",
    "temp_oxford[-8:-5]"
   ]
  },
  {
   "cell_type": "markdown",
   "metadata": {
    "slideshow": {
     "slide_type": "skip"
    }
   },
   "source": [
    "Since some values are marked with a * to indicate that they are estimates, temperatures were read as strings.<br>\n",
    "Now we convert them to numbers."
   ]
  },
  {
   "cell_type": "code",
   "execution_count": null,
   "metadata": {
    "collapsed": true,
    "slideshow": {
     "slide_type": "skip"
    }
   },
   "outputs": [],
   "source": [
    "for col in temp_oxford.columns:\n",
    "    temp_oxford[col] = temp_oxford[col].map(lambda x: x.rstrip('*'))\n",
    "    temp_oxford[col] = pd.to_numeric(temp_oxford[col], errors='coerce')"
   ]
  },
  {
   "cell_type": "markdown",
   "metadata": {
    "slideshow": {
     "slide_type": "skip"
    }
   },
   "source": [
    "### Supplemental Case Study: Date Formatting – Temperature in L'Aquila"
   ]
  },
  {
   "cell_type": "markdown",
   "metadata": {
    "slideshow": {
     "slide_type": "skip"
    }
   },
   "source": [
    "Some useful keywords in `pd.read_table()`:\n",
    "* na_vaules: sets the values to be replaced by `NaN` \n",
    "* parse_dates: we specify the column so that dates are interpreted as such instead of as $strings$\n",
    "* date_parser: we specify a labda function to parse dates according to our format"
   ]
  },
  {
   "cell_type": "code",
   "execution_count": null,
   "metadata": {
    "collapsed": true,
    "slideshow": {
     "slide_type": "skip"
    }
   },
   "outputs": [],
   "source": [
    "temp_aquila = pd.DataFrame()\n",
    "dateparse = lambda x: pd.datetime.strptime(x, '%d/%m/%Y')\n",
    "for year in range(1968,2017):\n",
    "    url = 'http://meteorema.aquila.infn.it/tempaq/dati/hist/'+str(year)+'.txt'\n",
    "    temp_year_aquila = pd.read_table(url,header=None,engine='python',delim_whitespace=True,\n",
    "                     comment='#',names=['Date','day','tmin','tmax'],na_values=-999.99,\n",
    "                     parse_dates=['Date'], date_parser=dateparse)\n",
    "    temp_aquila = temp_aquila.append(temp_year_aquila,ignore_index=True)\n",
    "temp_aquila.drop('day',axis=1,inplace=True)\n",
    "temp_aquila['year'] = temp_aquila['Date'].dt.year\n",
    "temp_aquila['month'] = temp_aquila['Date'].dt.month\n",
    "temp_aquila['day'] = temp_aquila['Date'].dt.day\n",
    "temp_aquila.drop('Date',axis=1,inplace=True)\n",
    "temp_aquila.set_index(['year','month','day'],inplace=True)\n",
    "temp_aquila.dropna()\n",
    "temp_aquila[-3:]"
   ]
  },
  {
   "cell_type": "code",
   "execution_count": null,
   "metadata": {
    "collapsed": true,
    "slideshow": {
     "slide_type": "skip"
    }
   },
   "outputs": [],
   "source": [
    "tmax_year_mean_ox = temp_oxford.groupby('yyyy')['tmax'].mean()\n",
    "mean_lowess_OXFORD = lowess(tmax_year_mean_ox.values,tmax_year_mean_ox.index,frac=0.5)\n",
    "tmax_year_mean_aq = temp_aquila.groupby('year')['tmax'].mean()\n",
    "mean_lowess_AQUILA = lowess(tmax_year_mean_aq.values,tmax_year_mean_aq.index,frac=0.5)\n",
    "plt.plot(mean_lowess_AQUILA[:,0],mean_lowess_AQUILA[:,1],label=\"Mean $T_{max}$ in L'Aquila\",lw=4,color='b')\n",
    "plt.plot(mean_lowess_OXFORD[:,0],mean_lowess_OXFORD[:,1],label='Mean $T_{max}$ in Oxford',lw=4,color='r')\n",
    "plt.plot(mean_lowess_STHLM[:,0],mean_lowess_STHLM[:,1],label='Mean $T_{max}$ in Stockholm',lw=4,color='g')\n",
    "plt.legend(frameon=False)\n",
    "plt.xlabel('Year'); plt.ylabel('Mean of $T_{max}$ ($^\\circ$C)'); plt.show()"
   ]
  }
 ],
 "metadata": {
  "kernelspec": {
   "display_name": "Python 3",
   "language": "python",
   "name": "python3"
  },
  "language_info": {
   "codemirror_mode": {
    "name": "ipython",
    "version": 3
   },
   "file_extension": ".py",
   "mimetype": "text/x-python",
   "name": "python",
   "nbconvert_exporter": "python",
   "pygments_lexer": "ipython3",
   "version": "3.6.1"
  }
 },
 "nbformat": 4,
 "nbformat_minor": 2
}
