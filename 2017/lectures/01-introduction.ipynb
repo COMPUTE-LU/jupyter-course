{
 "cells": [
  {
   "cell_type": "markdown",
   "metadata": {
    "slideshow": {
     "slide_type": "slide"
    },
    "solution": "shown"
   },
   "source": [
    "# Interactive and Reproducible Data Science\n",
    "### _A COMPUTE Course at Lund University_\n",
    "_Giulio Tesei, Catarina Doglioni, Mikael Lund_\n",
    "\n",
    "![](http://jupyter.org/assets/jupyterpreview.png)"
   ]
  },
  {
   "cell_type": "markdown",
   "metadata": {
    "slideshow": {
     "slide_type": "slide"
    }
   },
   "source": [
    "# Practical Details\n",
    "\n",
    "1. This week: Monday (ML), Thursday (GT), Friday (GT). **10:15-15:00** (lunch 12-13)\n",
    "2. Laptop w. miniconda installed; internet enabled\n",
    "3. All slides available online\n",
    "4. Project work:\n",
    "  - Deadline **December 27**.\n",
    "  - Two referees per project; written feedback on **January 3rd**\n",
    "  - Presentations on **January 5th**\n",
    "  - Full details on course homepage\n",
    "5. Time divided roughly equally between lectures and exercises."
   ]
  },
  {
   "cell_type": "markdown",
   "metadata": {
    "slideshow": {
     "slide_type": "slide"
    }
   },
   "source": [
    "# Overview of Day 1\n",
    "\n",
    "- Why Jupyter Notebooks?\n",
    "- Course overview and practical details\n",
    "- Introduction to Jupyter\n",
    "  - Navigation, cell types, markdown, magic commands\n",
    "  - Exporting, sharing, citing\n",
    "  - Mixing languages, online contents\n",
    "  - Help to help yourself"
   ]
  },
  {
   "cell_type": "markdown",
   "metadata": {
    "slideshow": {
     "slide_type": "slide"
    }
   },
   "source": [
    "# Course Focus\n",
    "\n",
    "- scientific _reproducibility_\n",
    "- _documentating_ the scientific process\n",
    "- _sharing_ specialized knowledge\n",
    "- _data exploration_ using interactive programming"
   ]
  },
  {
   "cell_type": "markdown",
   "metadata": {
    "slideshow": {
     "slide_type": "slide"
    }
   },
   "source": [
    "# Scientific Workflow\n",
    "\n",
    "<img src=\"https://camo.githubusercontent.com/4782751a54025e99f6f32adeed2ddf6e8f8db724/687474703a2f2f723464732e6861642e636f2e6e7a2f6469616772616d732f646174612d736369656e63652e706e67\" width=\"800\" />"
   ]
  },
  {
   "cell_type": "markdown",
   "metadata": {
    "slideshow": {
     "slide_type": "fragment"
    },
    "solution": "hidden"
   },
   "source": [
    "_Jupyter Notebooks encapsulates all of the above into a single, sharable document_"
   ]
  },
  {
   "cell_type": "markdown",
   "metadata": {
    "slideshow": {
     "slide_type": "slide"
    }
   },
   "source": [
    "# Examples\n",
    "\n",
    "- [Interactive notebooks: Sharing the code](http://dx.doi.org/10.1038/515151a), _Nature, 2014_\n",
    "- [Binary Black Hole Signals](http://nbviewer.jupyter.org/github/minrk/ligo-binder/blob/master/index.ipynb), _PRL_\n",
    "\n",
    "Some notebooks from Theoretical Chemistry, acting as SI for published works:\n",
    "\n",
    "- https://github.com/mlund/decaarginine\n",
    "- https://github.com/mlund/CPPM\n",
    "- https://github.com/mlund/SI-proteins_in_multivalent_electrolyte\n",
    "- https://github.com/mlund/cosan\n",
    "\n",
    "Some teaching material:\n",
    "\n",
    "- https://github.com/mlund/particletracking (image recognition; MC simulation)\n",
    "- https://github.com/mlund/chemistry-notebooks/blob/master/statistical-mechanics/statmek.ipynb (ipywidgets)"
   ]
  },
  {
   "cell_type": "markdown",
   "metadata": {
    "slideshow": {
     "slide_type": "slide"
    }
   },
   "source": [
    "# A tribute to Hans Rossling (1948-2017)\n",
    "\n",
    "## bqplot\n",
    "\n",
    "![bqplot](https://github.com/bloomberg/bqplot/raw/master/bqplot-screencast.gif)"
   ]
  },
  {
   "cell_type": "markdown",
   "metadata": {
    "slideshow": {
     "slide_type": "slide"
    }
   },
   "source": [
    "# Installation and Setup\n",
    "\n",
    "1. A complete working environment can be set up using Continuum Analytic's ANACONDA.\n",
    "   To save space, use [miniconda](https://conda.io/miniconda.html)\n",
    "2. On linux and mac. anaconda installs in user space and admin rights are not required\n",
    "3. Several _environments_ can be installed, each containing a specific set of packages.\n",
    "\n",
    "~~~ bash\n",
    "conda env create -f environment.yml\n",
    "source activate LUcompute\n",
    "jupyter nbextension enable rubberband/main\n",
    "jupyter nbextension enable exercise2/main\n",
    "~~~   "
   ]
  },
  {
   "cell_type": "code",
   "execution_count": null,
   "metadata": {},
   "outputs": [],
   "source": [
    "!head environment.yml"
   ]
  },
  {
   "cell_type": "markdown",
   "metadata": {
    "slideshow": {
     "slide_type": "slide"
    }
   },
   "source": [
    "# Task\n",
    "\n",
    "Familialise yourself with the `conda` command and learn how to\n",
    "\n",
    "- install additional packages\n",
    "- (de)activate environments\n",
    "- save an environment to an `environment.yml` file. This is relevant for your project work\n",
    "  where you need to tell others how to reproduce your environment."
   ]
  },
  {
   "cell_type": "markdown",
   "metadata": {
    "slideshow": {
     "slide_type": "slide"
    }
   },
   "source": [
    "# Opening and Basic Navigation\n",
    "\n",
    "## Start a local notebook server\n",
    "This will open a jupyter session and display it in your browser:\n",
    "~~~ bash\n",
    "source activate LUcompute\n",
    "jupyter-notebook\n",
    "~~~\n",
    "## Topics\n",
    "\n",
    "- Cell types (_code_, _markdown_)\n",
    "- Run cell: `shift`+`enter`\n",
    "- Run all cells; kernel; keyboard shortcuts\n",
    "- Saving; exporting; viewing online"
   ]
  },
  {
   "cell_type": "code",
   "execution_count": null,
   "metadata": {
    "slideshow": {
     "slide_type": "slide"
    }
   },
   "outputs": [],
   "source": [
    "# code cells use python per default (since we opened a Python notebook)\n",
    "a=2\n",
    "print('value =', a)"
   ]
  },
  {
   "cell_type": "code",
   "execution_count": null,
   "metadata": {
    "slideshow": {
     "slide_type": "fragment"
    }
   },
   "outputs": [],
   "source": [
    "%%bash\n",
    "# everything in this code cell is bash.\n",
    "# will probably not work on Windows(?)\n",
    "ls -l"
   ]
  },
  {
   "cell_type": "markdown",
   "metadata": {
    "slideshow": {
     "slide_type": "fragment"
    }
   },
   "source": [
    "## Tasks\n",
    "\n",
    "1. Modify and run the two code blocks above (python and bash)\n",
    "2. Find the keyboard shortcuts for\n",
    "   - Toggling line numbers\n",
    "   - Setting the cell to _code_\n",
    "   - Setting the cell to _markdown_\n",
    "3. Export this notebook as HTML and open it in a web-browser\n",
    "4. Go back to the Home page (usually a browser tab) and check which notebooks that are currently running"
   ]
  },
  {
   "cell_type": "markdown",
   "metadata": {
    "slideshow": {
     "slide_type": "slide"
    }
   },
   "source": [
    "# Help to help yourself\n",
    "\n",
    "- `shift`-`tab`-`tab`: access information about python functions (place cursor between brackets)\n",
    "- `tab`: tab complete functions and objects\n",
    "- `?command` or `command?`\n",
    "- The help menu has links to detailed help on Python, Markdown, Matplotlib etc.\n",
    "\n",
    "## Task\n",
    "\n",
    "Use the above different ways to explore the arguments for the `print()` function we used earlier.\n",
    "What does the `end` argument mean?"
   ]
  },
  {
   "cell_type": "code",
   "execution_count": null,
   "metadata": {
    "slideshow": {
     "slide_type": "-"
    }
   },
   "outputs": [],
   "source": [
    "print(233, end='a')"
   ]
  },
  {
   "cell_type": "markdown",
   "metadata": {
    "slideshow": {
     "slide_type": "slide"
    }
   },
   "source": [
    "# Output\n",
    "\n",
    "The result from running a code cell is shown as output directly below it. In particular, the output from the _last_ command will be printed, unless explicitly suppressed by a trailing `;`\n",
    "\n",
    "Previous output can be retrieved by:\n",
    "- `_` last output\n",
    "- `__` last last output\n",
    "- `_x` where `x` is the cell number."
   ]
  },
  {
   "cell_type": "code",
   "execution_count": null,
   "metadata": {
    "slideshow": {
     "slide_type": "-"
    }
   },
   "outputs": [],
   "source": [
    "a=3\n",
    "a"
   ]
  },
  {
   "cell_type": "code",
   "execution_count": null,
   "metadata": {
    "slideshow": {
     "slide_type": "-"
    }
   },
   "outputs": [],
   "source": [
    "b=7\n",
    "b;"
   ]
  },
  {
   "cell_type": "code",
   "execution_count": null,
   "metadata": {
    "slideshow": {
     "slide_type": "-"
    }
   },
   "outputs": [],
   "source": [
    "_"
   ]
  },
  {
   "cell_type": "markdown",
   "metadata": {
    "slideshow": {
     "slide_type": "slide"
    }
   },
   "source": [
    "# Built-in _Magic commands_\n",
    "\n",
    "- Line magic (`%`): operates on a single line and can be mixed with other languages\n",
    "- Cell magic (`%%`): operates on the whole cell\n",
    "- More info: http://ipython.readthedocs.io/en/stable/interactive/magics.html"
   ]
  },
  {
   "cell_type": "code",
   "execution_count": null,
   "metadata": {
    "slideshow": {
     "slide_type": "-"
    }
   },
   "outputs": [],
   "source": [
    "%lsmagic # lists available magic commands"
   ]
  },
  {
   "cell_type": "code",
   "execution_count": null,
   "metadata": {
    "code_folding": [],
    "slideshow": {
     "slide_type": "-"
    }
   },
   "outputs": [],
   "source": []
  },
  {
   "cell_type": "markdown",
   "metadata": {
    "slideshow": {
     "slide_type": "slide"
    }
   },
   "source": [
    "## Task: Measuring Speed\n",
    "\n",
    "Use _line magic_ to calculate the speed of the python function below"
   ]
  },
  {
   "cell_type": "code",
   "execution_count": null,
   "metadata": {
    "code_folding": [],
    "slideshow": {
     "slide_type": "-"
    },
    "solution2": "hidden",
    "solution2_first": true
   },
   "outputs": [],
   "source": [
    "from math import sqrt\n",
    "def myfunction(x):\n",
    "    for i in range(10):\n",
    "        x=x+sqrt(x)\n",
    "    return x\n",
    "\n",
    "print('f =', myfunction(5))"
   ]
  },
  {
   "cell_type": "code",
   "execution_count": null,
   "metadata": {
    "slideshow": {
     "slide_type": "fragment"
    },
    "solution2": "hidden"
   },
   "outputs": [],
   "source": [
    "%timeit myfunction(5)"
   ]
  },
  {
   "cell_type": "markdown",
   "metadata": {
    "slideshow": {
     "slide_type": "slide"
    }
   },
   "source": [
    "## Speeding up using Cython via _cell magic_\n",
    "\n",
    "We have already seen an example of cell magic, namely `%%bash` and we will now run a different language called cython which is a mix of C and python."
   ]
  },
  {
   "cell_type": "code",
   "execution_count": null,
   "metadata": {
    "slideshow": {
     "slide_type": "-"
    }
   },
   "outputs": [],
   "source": [
    "%load_ext Cython"
   ]
  },
  {
   "cell_type": "code",
   "execution_count": null,
   "metadata": {
    "slideshow": {
     "slide_type": "-"
    }
   },
   "outputs": [],
   "source": [
    "%%cython\n",
    "cdef extern from \"math.h\":\n",
    "    double sqrt(double)\n",
    "\n",
    "cpdef myfunction2(double x): # note the 'p' in 'cpdef'\n",
    "    for i in range(10):\n",
    "        x=x+sqrt(x)\n",
    "    return x"
   ]
  },
  {
   "cell_type": "code",
   "execution_count": null,
   "metadata": {
    "slideshow": {
     "slide_type": "fragment"
    }
   },
   "outputs": [],
   "source": [
    "print('f =', myfunction2(2))\n",
    "%timeit myfunction2(2)"
   ]
  },
  {
   "cell_type": "markdown",
   "metadata": {
    "slideshow": {
     "slide_type": "slide"
    }
   },
   "source": [
    "## Other Kernels\n",
    "\n",
    "- So far Python, BASH, Cython\n",
    "- R, Julia, Ruby, ROOT, Cling (C++), Matlab, Gnuplot, [fortran](https://nbviewer.jupyter.org/github/sourceryinstitute/jupyter-CAF-kernel/blob/master/index.ipynb) etc\n",
    "- More at https://github.com/jupyter/jupyter/wiki/Jupyter-kernels"
   ]
  },
  {
   "cell_type": "markdown",
   "metadata": {
    "slideshow": {
     "slide_type": "fragment"
    }
   },
   "source": [
    "## Example: Cling\n",
    "![](https://cdn-images-1.medium.com/max/1600/1*NnjISpzZtpy5TOurg0S89A.gif)"
   ]
  },
  {
   "cell_type": "markdown",
   "metadata": {
    "slideshow": {
     "slide_type": "slide"
    }
   },
   "source": [
    "# Changing Directories\n",
    "\n",
    "More ways exist:\n",
    "\n",
    "- `!cd` and corresponding `!pwd`\n",
    "- `%cd` and corresponding `%pwd`\n",
    "\n",
    "## Task\n",
    "\n",
    "There are important differences between these two approaches. Find out what they are!"
   ]
  },
  {
   "cell_type": "code",
   "execution_count": null,
   "metadata": {
    "slideshow": {
     "slide_type": "-"
    }
   },
   "outputs": [],
   "source": []
  },
  {
   "cell_type": "markdown",
   "metadata": {
    "slideshow": {
     "slide_type": "slide"
    }
   },
   "source": [
    "# Documentation using Markdown\n",
    "\n",
    "Markdown is a _lightweight_ markup language that\n",
    "\n",
    "- is intended to be as easy-to-read and easy-to-write as is feasible\n",
    "- should be publishable as-is, as plain text\n",
    "- supports equations ($f(x)=x$), [links](http://), ~~~text formatting~~~, tables, images etc.\n",
    "\n",
    "For more information see [here](https://github.com/adam-p/markdown-here/wiki/Markdown-Cheatsheet)."
   ]
  },
  {
   "cell_type": "markdown",
   "metadata": {
    "slideshow": {
     "slide_type": "slide"
    },
    "solution2": "hidden",
    "solution2_first": true
   },
   "source": [
    "## Task: Pythagoras\n",
    "\n",
    "Use a Markdown cell to explain Pythagoras theorem. Your answer should include\n",
    "\n",
    "- headers and text formatting\n",
    "- a link to an external web page\n",
    "- LaTeX math\n",
    "\n",
    "_Hint:_ images need not be local, but can be linked via a url.\n",
    "</span>"
   ]
  },
  {
   "cell_type": "markdown",
   "metadata": {
    "slideshow": {
     "slide_type": "slide"
    },
    "solution2": "hidden"
   },
   "source": [
    "### Answer\n",
    "\n",
    "#### Pythagoras Theorem\n",
    "\n",
    "For a **right triangle** with legs $a$ and $b$, and hypotenuse, $c$,\n",
    "\n",
    "$$a^2 + b^2 = c^2$$\n",
    "\n",
    "![](https://upload.wikimedia.org/wikipedia/commons/d/d2/Pythagorean.svg \"Pythagoras\")\n",
    "\n",
    "Further reading [here.](http://mathworld.wolfram.com/PythagoreanTheorem.html)"
   ]
  },
  {
   "cell_type": "markdown",
   "metadata": {
    "slideshow": {
     "slide_type": "slide"
    },
    "solution2": "hidden",
    "solution2_first": true
   },
   "source": [
    "## Task: Markdown Tables</span>\n",
    "\n",
    "1. Use a markdown cell to create a 3x1 table with column labels **Element**, **Symbol**, **Atomic number**, and a single row with **Hydrogen**, **H**, and **1**.\n",
    "2. In a _code cell_, import the `Markdown` function from `IPython` using\n",
    "   ```.py\n",
    "   from IPython.display import Markdown\n",
    "   ```\n",
    "   and explore its documentation.\n",
    "3. Redo subquestion 1 using the `Markdown` command and a [formatted Python string](https://pyformat.info)"
   ]
  },
  {
   "cell_type": "markdown",
   "metadata": {
    "slideshow": {
     "slide_type": "slide"
    },
    "solution": "shown",
    "solution2": "hidden"
   },
   "source": [
    "### Answer\n",
    "\n",
    "#### This is a table with hard-coded contents:\n",
    "Element  | Symbol   |   Number\n",
    "-------- | -------- | ----------\n",
    "Hydrogen | H        |  1"
   ]
  },
  {
   "cell_type": "code",
   "execution_count": null,
   "metadata": {
    "code_folding": [],
    "slideshow": {
     "slide_type": "-"
    },
    "solution2": "hidden"
   },
   "outputs": [],
   "source": [
    "from IPython.display import Markdown\n",
    "data = ['Hydrogen', 'H', '1'] # python list\n",
    "\n",
    "Markdown('''\n",
    "   #### This is a table filled with data from a python `list`\n",
    "   Element  | Symbol   |   Number\n",
    "   -------- | -------- | ----------\n",
    "   {d[0]}   | {d[1]}   |  {d[2]}\n",
    "\n",
    "   (triple quotes infer a _string literal_ that can span several lines)\n",
    "'''.format(d=data))"
   ]
  },
  {
   "cell_type": "markdown",
   "metadata": {
    "slideshow": {
     "slide_type": "slide"
    },
    "solution2": "hidden",
    "solution2_first": true
   },
   "source": [
    "## Task: Videos\n",
    "\n",
    "The `IPython.display` module contain many more features to insert LaTeX, images, geographical maps etc.\n",
    "Use it to insert a __youtube video__ of your choice.\n"
   ]
  },
  {
   "cell_type": "code",
   "execution_count": null,
   "metadata": {
    "scrolled": false,
    "slideshow": {
     "slide_type": "fragment"
    },
    "solution2": "hidden"
   },
   "outputs": [],
   "source": [
    "from IPython.display import YouTubeVideo\n",
    "YouTubeVideo('dxyti_wCWaE')"
   ]
  },
  {
   "cell_type": "markdown",
   "metadata": {
    "slideshow": {
     "slide_type": "slide"
    }
   },
   "source": [
    "## Task: Embedded web content\n",
    "\n",
    "Lund University Publications ([LUP](https://lup.lub.lu.se/search)) allows you to search for publications from specific LU departments or authors. They also provide the possibility to _embed_ the search result. Use `IPython.display.IFrame` to display a search of your choice."
   ]
  },
  {
   "cell_type": "code",
   "execution_count": null,
   "metadata": {
    "slideshow": {
     "slide_type": "fragment"
    }
   },
   "outputs": [],
   "source": [
    "# Here's an example showing a protein - replace with something from LUP!\n",
    "from IPython.display import IFrame\n",
    "IFrame(src=\"http://www.ncbi.nlm.nih.gov/Structure/icn3d/full.html?pdbid=4lzt\", width=800, height=400)"
   ]
  },
  {
   "cell_type": "markdown",
   "metadata": {
    "slideshow": {
     "slide_type": "slide"
    }
   },
   "source": [
    "![](https://github.com/arose/nglview/raw/master/examples/images/membrane.gif)"
   ]
  },
  {
   "cell_type": "markdown",
   "metadata": {
    "slideshow": {
     "slide_type": "slide"
    }
   },
   "source": [
    "## Remarks on Markdown\n",
    "\n",
    "Markdown can be extended with:\n",
    "\n",
    "- Table of contents\n",
    "- Bibliography (bibtex)\n",
    "- Customized layouts\n",
    "\n",
    "### Suggested reading\n",
    "\n",
    "- [Markdown Cheatsheet](https://github.com/adam-p/markdown-here/wiki/Markdown-Cheatsheet#emphasis)\n",
    "- [Making publication ready python notebooks](http://blog.juliusschulz.de/blog/ultimate-ipython-notebook)\n",
    "- [28 Jupyter Notebook tips, tricks and shortcuts](https://www.dataquest.io/blog/jupyter-notebook-tips-tricks-shortcuts/)"
   ]
  },
  {
   "cell_type": "markdown",
   "metadata": {
    "slideshow": {
     "slide_type": "slide"
    }
   },
   "source": [
    "# Sharing Notebooks\n",
    "\n",
    "## Common export options directly from the notebook:\n",
    "\n",
    "- `.ipynb` (default format)\n",
    "- HTML (convenient and compact, single file)\n",
    "- PDF, Markdown, LaTeX etc. (may require additional packages)\n",
    "- (remember the `environment.yml` file!)"
   ]
  },
  {
   "cell_type": "markdown",
   "metadata": {
    "slideshow": {
     "slide_type": "fragment"
    }
   },
   "source": [
    "## Online options\n",
    "\n",
    "- https://github.com (notice their student package!)\n",
    "- https://nbviewer.jupyter.org (view notebooks)\n",
    "- https://tmpnb.org (online, fixed environment)\n",
    "- http://mybinder.org (online, custom environments)\n",
    "- Microsoft Azure (online coding)"
   ]
  },
  {
   "cell_type": "markdown",
   "metadata": {
    "slideshow": {
     "slide_type": "slide"
    }
   },
   "source": [
    "# Long term storage\n",
    "\n",
    "- **Zenodo** (https://zenodo.org) can make a DOI from a Github repository.\n",
    "- The repository state (every release) is archived for long term storage\n",
    "- Funded by the European Commission solution"
   ]
  },
  {
   "cell_type": "code",
   "execution_count": null,
   "metadata": {},
   "outputs": [],
   "source": []
  }
 ],
 "metadata": {
  "kernelspec": {
   "display_name": "Python 3",
   "language": "python",
   "name": "python3"
  },
  "language_info": {
   "codemirror_mode": {
    "name": "ipython",
    "version": 3
   },
   "file_extension": ".py",
   "mimetype": "text/x-python",
   "name": "python",
   "nbconvert_exporter": "python",
   "pygments_lexer": "ipython3",
   "version": "3.6.3"
  },
  "toc": {
   "nav_menu": {},
   "number_sections": true,
   "sideBar": true,
   "skip_h1_title": false,
   "toc_cell": true,
   "toc_position": {},
   "toc_section_display": "block",
   "toc_window_display": false
  }
 },
 "nbformat": 4,
 "nbformat_minor": 2
}
