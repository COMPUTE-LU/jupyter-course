{
 "cells": [
  {
   "cell_type": "markdown",
   "metadata": {
    "slideshow": {
     "slide_type": "slide"
    }
   },
   "source": [
    "# Nonlinear Regression in [`SciPy`](https://docs.scipy.org/doc/scipy/reference/) and [R](https://www.r-project.org/about.html)\n",
    "\n",
    "We often need to find a function $y=f(x,\\beta)$ of variable $x$ and $p$ unknown parameters $\\beta$ which fits a given set of $n$ predictor, {$x_1,...,x_n$}, and response, {$y_1,...,y_n$}, values.<br>\n",
    "The best fit can be obtained by minimizing the residual sums of squares (RSS) with respect to $\\beta$,\n",
    "\\begin{equation}\n",
    "\\mathrm{RSS}(\\beta) = \\sum_{n=1}^{\\infty} \\left[ y_i - f(x_i,\\beta) \\right ] ^2.\n",
    "\\end{equation}\n",
    "For nonlinear functions, numerical optimization methods are needed to minimize RSS and find the best-fit parameters, $\\hat{\\beta}$.<br>\n",
    "The most common numerical optimization method for nonlinear regression is the [Gauss-Newton method](https://en.wikipedia.org/wiki/Gauss%E2%80%93Newton_algorithm).<br>\n",
    "The assumption in nonlinear regression is that the measurement errors are standard normally distributed.<br>\n",
    "A summary measure of the model fit is the residual variance which is defined as the ratio of the minimum of RSS devided by the number of degrees of freedom:\n",
    "\\begin{equation}\n",
    "\\chi_R^2 = \\frac{\\mathrm{RSS}(\\hat{\\beta})}{n-p}.\n",
    "\\end{equation}\n",
    "Sometimes, we have several curves that we want to fit with the same function $f$. These curves have some parameters in common that we want to be determined on all the available data.<br>\n",
    "In this Notebook, we show how to perform least-sqares fits in `scipy` and `R`."
   ]
  },
  {
   "cell_type": "code",
   "execution_count": 1,
   "metadata": {
    "slideshow": {
     "slide_type": "fragment"
    }
   },
   "outputs": [
    {
     "name": "stderr",
     "output_type": "stream",
     "text": [
      "/Users/giulio/miniconda3/envs/LUcompute2/lib/python3.7/importlib/_bootstrap.py:219: RuntimeWarning: numpy.dtype size changed, may indicate binary incompatibility. Expected 96, got 88\n",
      "  return f(*args, **kwds)\n",
      "/Users/giulio/miniconda3/envs/LUcompute2/lib/python3.7/importlib/_bootstrap.py:219: RuntimeWarning: numpy.dtype size changed, may indicate binary incompatibility. Expected 96, got 88\n",
      "  return f(*args, **kwds)\n"
     ]
    }
   ],
   "source": [
    "from scipy.optimize import least_squares\n",
    "from scipy.optimize import curve_fit\n",
    "import pandas as pd\n",
    "import numpy as np\n",
    "import matplotlib as mpl\n",
    "import matplotlib.pyplot as plt\n",
    "plt.rcParams.update({'figure.figsize': [3.5, 3], 'font.size':8, 'legend.fontsize':8, 'figure.dpi': 150,\n",
    "                     'legend.handlelength':1, 'legend.frameon':False,\n",
    "                     'xtick.major.size':6,'ytick.major.size':6,\n",
    "                     'xtick.minor.size':3,'ytick.minor.size':3,\n",
    "                     'xtick.direction':'out','ytick.direction':'out',\n",
    "                     'xtick.labelsize':8,'ytick.labelsize':8,\n",
    "                     'xtick.major.pad':2,'ytick.major.pad':2,\n",
    "                     'axes.linewidth':1,'axes.labelsize':10,})\n",
    "from cryptography.fernet import Fernet\n",
    "import base64\n",
    "def encrypt(string, key):\n",
    "    keygen = lambda x : base64.urlsafe_b64encode(x.encode() + b' '*(32 - len(x)))\n",
    "    cipher = Fernet(keygen(key))\n",
    "    return cipher.encrypt(string.encode())\n",
    "def decrypt(string, key):\n",
    "    keygen = lambda x : base64.urlsafe_b64encode(x.encode() + b' '*(32 - len(x)))\n",
    "    cipher = Fernet(keygen(key))\n",
    "    return print(cipher.decrypt(string.encode()).decode())"
   ]
  },
  {
   "cell_type": "markdown",
   "metadata": {
    "slideshow": {
     "slide_type": "slide"
    }
   },
   "source": [
    "## Case Study: Time-Resolved Fluorescence Spectroscopy\n",
    "\n",
    "### SDS Micelles in the Presence of a Hydrophobic Fluorophore and a Fluorescence Quencher\n",
    "\n",
    "- **The micelle:**<br>\n",
    "    Sodium dodecyl sulfate (SDS) is an anionic surfactant with a hydrophobic tail of 12 carbon atoms and a hydrophilic sulphate head group. Due to its amphipatic nature, SDS self-assembles into micelles in aqueous solution. Micelle formation is a cooperative process which occurs in a narrow range of surfactant concentrations around the critical micellar concentration (CMC).<br>At concentrations below the CMC., surfactant molecules are mostly in the monomer state.<br>At the  (CMC), surfactant molecules form micelles with a well-defined aggregation number. The size distribution of the aggregates is rather narrow and depends on the relative dimensions of the head and tail groups.<br>Above the CMC, the number of micelles increases while the size of the micelles stays the same.  \n",
    "<table><tr><td><img src=\"https://upload.wikimedia.org/wikipedia/commons/thumb/4/4c/Sodium_dodecyl_sulfate.svg/2880px-Sodium_dodecyl_sulfate.svg.png\" width=\"300\"></td><td><img src=\"https://marcello-sega.github.io/pytim/_images/micelle2.png\" width=\"150\"></td></tr><table>    \n",
    " \n",
    "- **The fluorophore:**<br>Pyrene is a hydrophobic fluorescent molecule.<br>In an aqueous SDS solution at [SDS]>CMC, pyrene tends to partition into the hydrophobic interior of the micelles.\n",
    "<img src=\"https://upload.wikimedia.org/wikipedia/commons/thumb/0/0a/Pyrene.svg/190px-Pyrene.svg.png\" width=\"150\" align=\"center\">\n",
    "\n",
    "- **The quencher:**<br>Benzophenone is a hydrophobic compound which also tend to be in the micelles where it quenches the fluorescence of pyrene (it makes it decay faster). \n",
    "<img src=\"https://upload.wikimedia.org/wikipedia/commons/thumb/b/b0/Benzophenon.svg/1200px-Benzophenon.svg.png\" width=\"150\" align=\"center\">\n",
    "\n",
    "- **The experiment:**\n",
    "We measure the number of photons emitted by pyrene molecules in SDS micelles for increasing time intervals after the excitation pulse. The fluorescence intensity decay of pyrene following an excitation pulse is given by<br><br>\n",
    "\\begin{equation}\n",
    "F(t)=F(0)\\exp(-t/\\tau_0)\n",
    "\\end{equation}<br>\n",
    "where $\\tau_0$ is the lifetime of the fluorophore.\n",
    "In the presence of $j$ benzophenone molecules per micelle, the lifetime of pyrene decreases to\n",
    "\\begin{equation}\n",
    "\\tau_j = \\frac{\\tau_0}{1 + j k_q \\tau_0}.\n",
    "\\end{equation}\n",
    "where $k_q$ is the quenching constant.<br>\n",
    "The distribution of quenchers in the micelles follows Poisson's statistics, therefore the fraction of micelles containing $j$ benzophenone molecules is given by\n",
    "\\begin{equation}\n",
    "P(j) = \\frac{m^j}{j!}\\exp{(-m)}\n",
    "\\end{equation}\n",
    "where $m$ is the average number of benzophenone molecules per micelle.<br>\n",
    "The fluorescence intensity decay of pyrene in the presence of benzophenone is given by the weighted average over the difstribution of micelles with different numbers of quenchers<br><br>\n",
    "\\begin{equation}\n",
    "F(t)=F(0)\\sum_{j=0}^{\\infty} P(j) \\exp{(-t/\\tau_j)}=F(0)\\exp\\left\\{-t/\\tau_0-m\\left [1-\\exp{(-k_qt)}\\right ]\\right\\},\n",
    "\\end{equation}<br>\n",
    "where we have used the converging series\n",
    "\\begin{equation}\n",
    "\\sum_{j=0}^{\\infty} \\frac{x^j}{j!} = \\exp{(x)}.\n",
    "\\end{equation}\n",
    "\n",
    "We used a solution 70 mM SDS and 10 $\\mu$M pyrene in 5mM phosphate buffer at pH 7.4. The emission wavelength of the spectrometer is set to 391 nm, corresponding to the maximum fluorescence intensity for pyrene.\n",
    "- First, we measure the intensity decay of the solution in the absence of quencher. A least-squares fit on this curve yields $F(0)$ and the pyrene lifetime, $\\tau_0$. \n",
    "- Then, we measure intensity decays for increasing concentrations of benzophenone, _i.e._, $[$quencher$]$ $=$ 0.1, 0.2, 0.5, 1 e 1.5 mM.\n",
    "We perform a global fit on these five curves. Each corve has a different average number of quencher molecules per micelle, $m$, and common parameters $F(0)$, $\\tau_0$, and $k_q$. \n",
    "\n",
    "Since the excitation pulse occurs in a shorter time scale compared to the decay of the fluorescence signal, we disregard the width of the excitation pulse in our analysis. In the least-squares fitting procedures, we weight each photon count, $F(t)$, by its error which is simply $\\sqrt{F(t)}$ because fluorescence counts follow Poisson's statistics.<br>"
   ]
  },
  {
   "cell_type": "markdown",
   "metadata": {
    "slideshow": {
     "slide_type": "slide"
    }
   },
   "source": [
    "### The Data\n",
    "\n",
    "The data are tab-separated values (TSV) files (collected at [Prof. L. Stella lab](http://www.stc.uniroma2.it/physchem/stella.html))"
   ]
  },
  {
   "cell_type": "code",
   "execution_count": 2,
   "metadata": {
    "slideshow": {
     "slide_type": "fragment"
    }
   },
   "outputs": [
    {
     "name": "stdout",
     "output_type": "stream",
     "text": [
      "Labels\tquencher 0.0 mM\t\r\n",
      "Type\tTime Scan\t\r\n",
      "Comment\t\t\r\n",
      "start(nm)\t0.00\t\r\n",
      "stop(nm)\t999.02340\t\r\n",
      "step(nm)\t0.976563\t\r\n",
      "fixed/offset(nm)\t \t\r\n",
      "Xaxis\tTime\t\r\n",
      "Yaxis\tCounts\t\r\n",
      "0.00\t1.000E+0\t\r\n",
      "0.976563\t1.000E+0\t\r\n",
      "1.953125\t0.000E+0\t\r\n",
      "2.929688\t0.000E+0\t\r\n",
      "3.906250\t1.000E+0\t\r\n",
      "4.882813\t0.000E+0\t\r\n",
      "5.859375\t0.000E+0\t\r\n",
      "6.835938\t0.000E+0\t\r\n",
      "7.81250\t0.000E+0\t\r\n",
      "8.789063\t2.000E+0\t\r\n",
      "9.765625\t1.000E+0\t\r\n",
      "10.742188\t0.000E+0\t\r\n",
      "11.718750\t0.000E+0\t\r\n",
      "12.695313\t0.000E+0\t\r\n",
      "13.671875\t1.000E+0\t\r\n",
      "14.648438\t0.000E+0\t\r\n",
      "15.6250\t0.000E+0\t\r\n",
      "16.601563\t0.000E+0\t\r\n",
      "17.578125\t2.000E+0\t\r\n",
      "18.554688\t1.000E+0\t\r\n",
      "19.531250\t0.000E+0\t\r\n",
      "20.507813\t0.000E+0\t\r\n",
      "21.484375\t1.000E+0\t\r\n",
      "22.460938\t3.000E+0\t\r\n",
      "23.43750\t0.000E+0\t\r\n",
      "24.414063\t0.000E+0\t\r\n",
      "25.390625\t0.000E+0\t\r\n",
      "26.367188\t0.000E+0\t\r\n",
      "27.343750\t1.000E+0\t\r\n",
      "28.320313\t0.000E+0\t\r\n",
      "29.296875\t2.000E+0\t\r\n",
      "30.273438\t1.000E+0\t\r\n",
      "31.250\t0.000E+0\t\r\n",
      "32.226563\t1.000E+0\t\r\n",
      "33.203125\t0.000E+0\t\r\n",
      "34.179688\t0.000E+0\t\r\n",
      "35.156250\t0.000E+0\t\r\n",
      "36.132813\t0.000E+0\t\r\n",
      "37.109375\t1.000E+0\t\r\n",
      "38.085938\t0.000E+0\t\r\n",
      "39.06250\t0.000E+0\t\r\n",
      "40.039063\t0.000E+0\t\r\n",
      "41.015625\t0.000E+0\t\r\n",
      "41.992188\t0.000E+0\t\r\n",
      "42.968750\t1.000E+0\t\r\n",
      "43.945313\t0.000E+0\t\r\n",
      "44.921875\t0.000E+0\t\r\n",
      "45.898438\t1.000E+0\t\r\n",
      "46.8750\t0.000E+0\t\r\n",
      "47.851563\t0.000E+0\t\r\n",
      "48.828125\t1.000E+0\t\r\n",
      "49.804688\t1.000E+0\t\r\n",
      "50.781250\t1.000E+0\t\r\n",
      "51.757813\t0.000E+0\t\r\n",
      "52.734375\t1.000E+0\t\r\n",
      "53.710938\t1.000E+0\t\r\n",
      "54.68750\t0.000E+0\t\r\n",
      "55.664063\t0.000E+0\t\r\n",
      "56.640625\t1.000E+0\t\r\n",
      "57.617188\t1.000E+0\t\r\n",
      "58.593750\t1.000E+0\t\r\n",
      "59.570313\t6.000E+0\t\r\n",
      "60.546875\t7.600E+1\t\r\n",
      "61.523438\t3.560E+2\t\r\n",
      "62.50\t9.920E+2\t\r\n",
      "63.476563\t1.483E+3\t\r\n",
      "64.453125\t1.780E+3\t\r\n",
      "65.429688\t1.828E+3\t\r\n",
      "66.406250\t1.948E+3\t\r\n",
      "67.382813\t1.914E+3\t\r\n",
      "68.359375\t2.000E+3\t\r\n",
      "69.335938\t1.995E+3\t\r\n",
      "70.31250\t1.985E+3\t\r\n",
      "71.289063\t1.968E+3\t\r\n",
      "72.265625\t1.967E+3\t\r\n",
      "73.242188\t1.900E+3\t\r\n",
      "74.218750\t1.877E+3\t\r\n",
      "75.195313\t1.929E+3\t\r\n",
      "76.171875\t1.849E+3\t\r\n",
      "77.148438\t1.919E+3\t\r\n",
      "78.1250\t1.906E+3\t\r\n",
      "79.101563\t1.869E+3\t\r\n",
      "80.078125\t1.890E+3\t\r\n",
      "81.054688\t1.791E+3\t\r\n",
      "82.031250\t1.829E+3\t\r\n",
      "83.007813\t1.782E+3\t\r\n",
      "83.984375\t1.886E+3\t\r\n",
      "84.960938\t1.793E+3\t\r\n",
      "85.93750\t1.678E+3\t\r\n",
      "86.914063\t1.803E+3\t\r\n",
      "87.890625\t1.739E+3\t\r\n",
      "88.867188\t1.784E+3\t\r\n",
      "89.843750\t1.773E+3\t\r\n",
      "90.820313\t1.669E+3\t\r\n",
      "91.796875\t1.691E+3\t\r\n",
      "92.773438\t1.723E+3\t\r\n",
      "93.750\t1.693E+3\t\r\n",
      "94.726563\t1.710E+3\t\r\n",
      "95.703125\t1.629E+3\t\r\n",
      "96.679688\t1.629E+3\t\r\n",
      "97.656250\t1.671E+3\t\r\n",
      "98.632813\t1.584E+3\t\r\n",
      "99.609375\t1.663E+3\t\r\n",
      "100.58590\t1.656E+3\t\r\n",
      "101.56250\t1.644E+3\t\r\n",
      "102.53910\t1.583E+3\t\r\n",
      "103.51560\t1.563E+3\t\r\n",
      "104.49220\t1.549E+3\t\r\n",
      "105.46880\t1.602E+3\t\r\n",
      "106.44530\t1.562E+3\t\r\n",
      "107.42190\t1.515E+3\t\r\n",
      "108.39840\t1.521E+3\t\r\n",
      "109.3750\t1.517E+3\t\r\n",
      "110.35160\t1.552E+3\t\r\n",
      "111.32810\t1.497E+3\t\r\n",
      "112.30470\t1.555E+3\t\r\n",
      "113.28130\t1.489E+3\t\r\n",
      "114.25780\t1.450E+3\t\r\n",
      "115.23440\t1.492E+3\t\r\n",
      "116.21090\t1.474E+3\t\r\n",
      "117.18750\t1.460E+3\t\r\n",
      "118.16410\t1.486E+3\t\r\n",
      "119.14060\t1.400E+3\t\r\n",
      "120.11720\t1.416E+3\t\r\n",
      "121.09380\t1.342E+3\t\r\n",
      "122.07030\t1.406E+3\t\r\n",
      "123.04690\t1.375E+3\t\r\n",
      "124.02340\t1.397E+3\t\r\n",
      "125.0\t1.347E+3\t\r\n",
      "125.97660\t1.347E+3\t\r\n",
      "126.95310\t1.442E+3\t\r\n",
      "127.92970\t1.318E+3\t\r\n",
      "128.90630\t1.335E+3\t\r\n",
      "129.88280\t1.316E+3\t\r\n",
      "130.85940\t1.330E+3\t\r\n",
      "131.83590\t1.351E+3\t\r\n",
      "132.81250\t1.336E+3\t\r\n",
      "133.78910\t1.297E+3\t\r\n",
      "134.76560\t1.227E+3\t\r\n",
      "135.74220\t1.278E+3\t\r\n",
      "136.71880\t1.259E+3\t\r\n",
      "137.69530\t1.282E+3\t\r\n",
      "138.67190\t1.268E+3\t\r\n",
      "139.64840\t1.217E+3\t\r\n",
      "140.6250\t1.290E+3\t\r\n",
      "141.60160\t1.274E+3\t\r\n",
      "142.57810\t1.268E+3\t\r\n",
      "143.55470\t1.232E+3\t\r\n",
      "144.53130\t1.165E+3\t\r\n",
      "145.50780\t1.232E+3\t\r\n",
      "146.48440\t1.169E+3\t\r\n",
      "147.46090\t1.217E+3\t\r\n",
      "148.43750\t1.201E+3\t\r\n",
      "149.41410\t1.254E+3\t\r\n",
      "150.39060\t1.182E+3\t\r\n",
      "151.36720\t1.180E+3\t\r\n",
      "152.34380\t1.196E+3\t\r\n",
      "153.32030\t1.150E+3\t\r\n",
      "154.29690\t1.161E+3\t\r\n",
      "155.27340\t1.127E+3\t\r\n",
      "156.250\t1.093E+3\t\r\n",
      "157.22660\t1.103E+3\t\r\n",
      "158.20310\t1.141E+3\t\r\n",
      "159.17970\t1.105E+3\t\r\n",
      "160.15630\t1.069E+3\t\r\n",
      "161.13280\t1.112E+3\t\r\n",
      "162.10940\t1.121E+3\t\r\n",
      "163.08590\t1.157E+3\t\r\n",
      "164.06250\t1.105E+3\t\r\n",
      "165.03910\t1.056E+3\t\r\n",
      "166.01560\t1.104E+3\t\r\n",
      "166.99220\t1.071E+3\t\r\n",
      "167.96880\t1.106E+3\t\r\n",
      "168.94530\t1.013E+3\t\r\n",
      "169.92190\t1.037E+3\t\r\n",
      "170.89840\t1.011E+3\t\r\n",
      "171.8750\t9.110E+2\t\r\n",
      "172.85160\t1.066E+3\t\r\n",
      "173.82810\t1.002E+3\t\r\n",
      "174.80470\t9.880E+2\t\r\n",
      "175.78130\t1.020E+3\t\r\n",
      "176.75780\t9.710E+2\t\r\n",
      "177.73440\t1.061E+3\t\r\n",
      "178.71090\t1.010E+3\t\r\n",
      "179.68750\t1.008E+3\t\r\n",
      "180.66410\t1.007E+3\t\r\n",
      "181.64060\t1.021E+3\t\r\n",
      "182.61720\t9.340E+2\t\r\n",
      "183.59380\t9.310E+2\t\r\n",
      "184.57030\t9.910E+2\t\r\n",
      "185.54690\t9.230E+2\t\r\n",
      "186.52340\t9.470E+2\t\r\n",
      "187.50\t9.400E+2\t\r\n",
      "188.47660\t9.020E+2\t\r\n",
      "189.45310\t9.200E+2\t\r\n",
      "190.42970\t8.790E+2\t\r\n",
      "191.40630\t9.080E+2\t\r\n",
      "192.38280\t8.990E+2\t\r\n",
      "193.35940\t8.880E+2\t\r\n",
      "194.33590\t9.030E+2\t\r\n",
      "195.31250\t8.870E+2\t\r\n",
      "196.28910\t8.660E+2\t\r\n",
      "197.26560\t9.110E+2\t\r\n",
      "198.24220\t8.420E+2\t\r\n",
      "199.21880\t8.410E+2\t\r\n",
      "200.19530\t8.690E+2\t\r\n",
      "201.17190\t8.650E+2\t\r\n",
      "202.14840\t8.210E+2\t\r\n",
      "203.1250\t8.320E+2\t\r\n",
      "204.10160\t8.640E+2\t\r\n",
      "205.07810\t8.330E+2\t\r\n",
      "206.05470\t7.850E+2\t\r\n",
      "207.03130\t8.600E+2\t\r\n",
      "208.00780\t8.460E+2\t\r\n",
      "208.98440\t8.130E+2\t\r\n",
      "209.96090\t8.550E+2\t\r\n",
      "210.93750\t8.190E+2\t\r\n",
      "211.91410\t7.980E+2\t\r\n",
      "212.89060\t7.910E+2\t\r\n",
      "213.86720\t7.770E+2\t\r\n",
      "214.84380\t8.070E+2\t\r\n",
      "215.82030\t8.020E+2\t\r\n",
      "216.79690\t7.520E+2\t\r\n",
      "217.77340\t8.020E+2\t\r\n",
      "218.750\t7.960E+2\t\r\n",
      "219.72660\t7.760E+2\t\r\n",
      "220.70310\t8.250E+2\t\r\n",
      "221.67970\t7.540E+2\t\r\n",
      "222.65630\t7.790E+2\t\r\n",
      "223.63280\t7.940E+2\t\r\n",
      "224.60940\t7.540E+2\t\r\n",
      "225.58590\t7.210E+2\t\r\n",
      "226.56250\t7.490E+2\t\r\n",
      "227.53910\t7.860E+2\t\r\n",
      "228.51560\t7.030E+2\t\r\n",
      "229.49220\t7.070E+2\t\r\n",
      "230.46880\t7.520E+2\t\r\n",
      "231.44530\t7.140E+2\t\r\n",
      "232.42190\t7.160E+2\t\r\n",
      "233.39840\t7.090E+2\t\r\n",
      "234.3750\t6.760E+2\t\r\n",
      "235.35160\t6.820E+2\t\r\n",
      "236.32810\t7.200E+2\t\r\n",
      "237.30470\t7.250E+2\t\r\n",
      "238.28130\t6.660E+2\t\r\n",
      "239.25780\t6.710E+2\t\r\n",
      "240.23440\t6.890E+2\t\r\n",
      "241.21090\t6.450E+2\t\r\n",
      "242.18750\t7.050E+2\t\r\n",
      "243.16410\t6.780E+2\t\r\n",
      "244.14060\t6.210E+2\t\r\n",
      "245.11720\t6.790E+2\t\r\n",
      "246.09380\t6.850E+2\t\r\n",
      "247.07030\t6.230E+2\t\r\n",
      "248.04690\t6.500E+2\t\r\n",
      "249.02340\t6.640E+2\t\r\n",
      "250.0\t6.060E+2\t\r\n",
      "250.97660\t6.440E+2\t\r\n",
      "251.95310\t6.460E+2\t\r\n",
      "252.92970\t6.160E+2\t\r\n",
      "253.90630\t5.910E+2\t\r\n",
      "254.88280\t6.290E+2\t\r\n",
      "255.85940\t6.190E+2\t\r\n",
      "256.83590\t5.740E+2\t\r\n",
      "257.81250\t5.600E+2\t\r\n",
      "258.78910\t5.840E+2\t\r\n",
      "259.76560\t6.710E+2\t\r\n",
      "260.74220\t6.070E+2\t\r\n",
      "261.71880\t6.010E+2\t\r\n",
      "262.69530\t5.880E+2\t\r\n",
      "263.67190\t5.870E+2\t\r\n",
      "264.64840\t5.750E+2\t\r\n",
      "265.6250\t5.620E+2\t\r\n",
      "266.60160\t5.690E+2\t\r\n",
      "267.57810\t6.080E+2\t\r\n",
      "268.55470\t5.630E+2\t\r\n",
      "269.53130\t5.960E+2\t\r\n",
      "270.50780\t5.760E+2\t\r\n",
      "271.48440\t5.580E+2\t\r\n",
      "272.46090\t5.680E+2\t\r\n",
      "273.43750\t5.760E+2\t\r\n",
      "274.41410\t5.300E+2\t\r\n",
      "275.39060\t5.380E+2\t\r\n",
      "276.36720\t4.960E+2\t\r\n",
      "277.34380\t4.990E+2\t\r\n",
      "278.32030\t5.230E+2\t\r\n",
      "279.29690\t5.340E+2\t\r\n",
      "280.27340\t5.820E+2\t\r\n",
      "281.250\t5.040E+2\t\r\n",
      "282.22660\t5.190E+2\t\r\n",
      "283.20310\t5.500E+2\t\r\n",
      "284.17970\t5.320E+2\t\r\n",
      "285.15630\t5.250E+2\t\r\n",
      "286.13280\t4.840E+2\t\r\n",
      "287.10940\t5.000E+2\t\r\n",
      "288.08590\t5.280E+2\t\r\n",
      "289.06250\t4.950E+2\t\r\n",
      "290.03910\t5.090E+2\t\r\n",
      "291.01560\t4.960E+2\t\r\n",
      "291.99220\t4.700E+2\t\r\n",
      "292.96880\t5.070E+2\t\r\n",
      "293.94530\t4.930E+2\t\r\n",
      "294.92190\t4.820E+2\t\r\n",
      "295.89840\t4.550E+2\t\r\n",
      "296.8750\t4.650E+2\t\r\n",
      "297.85160\t4.600E+2\t\r\n",
      "298.82810\t4.550E+2\t\r\n",
      "299.80470\t4.960E+2\t\r\n",
      "300.78130\t4.660E+2\t\r\n",
      "301.75780\t4.530E+2\t\r\n",
      "302.73440\t4.410E+2\t\r\n",
      "303.71090\t4.530E+2\t\r\n",
      "304.68750\t4.720E+2\t\r\n",
      "305.66410\t4.470E+2\t\r\n",
      "306.64060\t4.290E+2\t\r\n",
      "307.61720\t4.530E+2\t\r\n",
      "308.59380\t4.680E+2\t\r\n",
      "309.57030\t4.520E+2\t\r\n",
      "310.54690\t4.540E+2\t\r\n",
      "311.52340\t4.410E+2\t\r\n",
      "312.50\t4.490E+2\t\r\n",
      "313.47660\t4.480E+2\t\r\n",
      "314.45310\t4.320E+2\t\r\n",
      "315.42970\t4.180E+2\t\r\n",
      "316.40630\t4.360E+2\t\r\n",
      "317.38280\t4.180E+2\t\r\n",
      "318.35940\t4.300E+2\t\r\n",
      "319.33590\t4.070E+2\t\r\n",
      "320.31250\t4.050E+2\t\r\n",
      "321.28910\t4.100E+2\t\r\n",
      "322.26560\t3.970E+2\t\r\n",
      "323.24220\t4.120E+2\t\r\n",
      "324.21880\t3.980E+2\t\r\n",
      "325.19530\t3.830E+2\t\r\n",
      "326.17190\t4.390E+2\t\r\n",
      "327.14840\t4.030E+2\t\r\n",
      "328.1250\t4.110E+2\t\r\n",
      "329.10160\t3.790E+2\t\r\n",
      "330.07810\t3.930E+2\t\r\n",
      "331.05470\t3.950E+2\t\r\n",
      "332.03130\t4.060E+2\t\r\n",
      "333.00780\t3.750E+2\t\r\n",
      "333.98440\t3.500E+2\t\r\n",
      "334.96090\t4.080E+2\t\r\n",
      "335.93750\t3.530E+2\t\r\n",
      "336.91410\t3.920E+2\t\r\n",
      "337.89060\t3.890E+2\t\r\n",
      "338.86720\t3.800E+2\t\r\n",
      "339.84380\t3.910E+2\t\r\n",
      "340.82030\t3.870E+2\t\r\n",
      "341.79690\t3.450E+2\t\r\n",
      "342.77340\t4.080E+2\t\r\n",
      "343.750\t3.480E+2\t\r\n",
      "344.72660\t3.780E+2\t\r\n",
      "345.70310\t3.800E+2\t\r\n",
      "346.67970\t3.500E+2\t\r\n",
      "347.65630\t3.980E+2\t\r\n",
      "348.63280\t3.620E+2\t\r\n",
      "349.60940\t3.460E+2\t\r\n",
      "350.58590\t3.320E+2\t\r\n",
      "351.56250\t3.470E+2\t\r\n",
      "352.53910\t3.270E+2\t\r\n",
      "353.51560\t3.460E+2\t\r\n",
      "354.49220\t3.210E+2\t\r\n",
      "355.46880\t3.230E+2\t\r\n",
      "356.44530\t3.230E+2\t\r\n",
      "357.42190\t3.600E+2\t\r\n",
      "358.39840\t3.370E+2\t\r\n",
      "359.3750\t3.110E+2\t\r\n",
      "360.35160\t3.430E+2\t\r\n",
      "361.32810\t3.490E+2\t\r\n",
      "362.30470\t3.330E+2\t\r\n",
      "363.28130\t3.100E+2\t\r\n",
      "364.25780\t3.730E+2\t\r\n",
      "365.23440\t2.910E+2\t\r\n",
      "366.21090\t3.470E+2\t\r\n",
      "367.18750\t3.180E+2\t\r\n",
      "368.16410\t3.160E+2\t\r\n",
      "369.14060\t2.860E+2\t\r\n",
      "370.11720\t3.320E+2\t\r\n",
      "371.09380\t3.130E+2\t\r\n",
      "372.07030\t2.990E+2\t\r\n",
      "373.04690\t2.950E+2\t\r\n",
      "374.02340\t3.140E+2\t\r\n",
      "375.0\t3.280E+2\t\r\n",
      "375.97660\t3.030E+2\t\r\n",
      "376.95310\t3.000E+2\t\r\n",
      "377.92970\t2.820E+2\t\r\n",
      "378.90630\t2.990E+2\t\r\n",
      "379.88280\t2.800E+2\t\r\n",
      "380.85940\t2.960E+2\t\r\n",
      "381.83590\t2.970E+2\t\r\n",
      "382.81250\t3.100E+2\t\r\n",
      "383.78910\t2.890E+2\t\r\n",
      "384.76560\t2.730E+2\t\r\n",
      "385.74220\t2.930E+2\t\r\n",
      "386.71880\t2.670E+2\t\r\n",
      "387.69530\t2.460E+2\t\r\n",
      "388.67190\t2.780E+2\t\r\n",
      "389.64840\t2.720E+2\t\r\n",
      "390.6250\t2.590E+2\t\r\n",
      "391.60160\t2.820E+2\t\r\n",
      "392.57810\t2.620E+2\t\r\n",
      "393.55470\t2.500E+2\t\r\n",
      "394.53130\t2.830E+2\t\r\n",
      "395.50780\t2.340E+2\t\r\n",
      "396.48440\t2.630E+2\t\r\n",
      "397.46090\t2.630E+2\t\r\n",
      "398.43750\t2.610E+2\t\r\n",
      "399.41410\t2.840E+2\t\r\n",
      "400.39060\t2.540E+2\t\r\n",
      "401.36720\t2.300E+2\t\r\n",
      "402.34380\t2.850E+2\t\r\n",
      "403.32030\t2.500E+2\t\r\n",
      "404.29690\t2.330E+2\t\r\n",
      "405.27340\t2.700E+2\t\r\n",
      "406.250\t2.400E+2\t\r\n",
      "407.22660\t2.690E+2\t\r\n",
      "408.20310\t2.210E+2\t\r\n",
      "409.17970\t2.580E+2\t\r\n",
      "410.15630\t2.560E+2\t\r\n",
      "411.13280\t2.190E+2\t\r\n",
      "412.10940\t2.200E+2\t\r\n",
      "413.08590\t2.510E+2\t\r\n",
      "414.06250\t2.540E+2\t\r\n",
      "415.03910\t2.420E+2\t\r\n",
      "416.01560\t2.150E+2\t\r\n",
      "416.99220\t2.180E+2\t\r\n",
      "417.96880\t2.240E+2\t\r\n",
      "418.94530\t2.230E+2\t\r\n",
      "419.92190\t2.000E+2\t\r\n",
      "420.89840\t2.170E+2\t\r\n",
      "421.8750\t2.480E+2\t\r\n",
      "422.85160\t2.310E+2\t\r\n",
      "423.82810\t2.270E+2\t\r\n",
      "424.80470\t2.250E+2\t\r\n",
      "425.78130\t2.050E+2\t\r\n",
      "426.75780\t2.060E+2\t\r\n",
      "427.73440\t2.210E+2\t\r\n",
      "428.71090\t2.050E+2\t\r\n",
      "429.68750\t2.040E+2\t\r\n",
      "430.66410\t2.030E+2\t\r\n",
      "431.64060\t1.870E+2\t\r\n",
      "432.61720\t2.040E+2\t\r\n",
      "433.59380\t2.110E+2\t\r\n",
      "434.57030\t2.150E+2\t\r\n",
      "435.54690\t1.890E+2\t\r\n",
      "436.52340\t2.240E+2\t\r\n",
      "437.50\t1.990E+2\t\r\n",
      "438.47660\t2.110E+2\t\r\n",
      "439.45310\t1.890E+2\t\r\n",
      "440.42970\t1.950E+2\t\r\n",
      "441.40630\t1.980E+2\t\r\n",
      "442.38280\t2.080E+2\t\r\n",
      "443.35940\t1.910E+2\t\r\n",
      "444.33590\t2.010E+2\t\r\n",
      "445.31250\t1.760E+2\t\r\n",
      "446.28910\t1.950E+2\t\r\n",
      "447.26560\t1.970E+2\t\r\n",
      "448.24220\t1.870E+2\t\r\n",
      "449.21880\t1.890E+2\t\r\n",
      "450.19530\t1.930E+2\t\r\n",
      "451.17190\t2.120E+2\t\r\n",
      "452.14840\t1.990E+2\t\r\n",
      "453.1250\t1.930E+2\t\r\n",
      "454.10160\t2.080E+2\t\r\n",
      "455.07810\t1.850E+2\t\r\n",
      "456.05470\t1.800E+2\t\r\n",
      "457.03130\t1.940E+2\t\r\n",
      "458.00780\t1.820E+2\t\r\n",
      "458.98440\t1.840E+2\t\r\n",
      "459.96090\t1.720E+2\t\r\n",
      "460.93750\t1.780E+2\t\r\n",
      "461.91410\t1.910E+2\t\r\n",
      "462.89060\t1.880E+2\t\r\n",
      "463.86720\t1.850E+2\t\r\n",
      "464.84380\t1.710E+2\t\r\n",
      "465.82030\t1.900E+2\t\r\n",
      "466.79690\t1.710E+2\t\r\n",
      "467.77340\t1.840E+2\t\r\n",
      "468.750\t1.690E+2\t\r\n",
      "469.72660\t1.830E+2\t\r\n",
      "470.70310\t1.400E+2\t\r\n",
      "471.67970\t1.760E+2\t\r\n",
      "472.65630\t1.670E+2\t\r\n",
      "473.63280\t1.870E+2\t\r\n",
      "474.60940\t1.880E+2\t\r\n",
      "475.58590\t1.610E+2\t\r\n",
      "476.56250\t1.720E+2\t\r\n",
      "477.53910\t1.690E+2\t\r\n",
      "478.51560\t1.630E+2\t\r\n",
      "479.49220\t1.830E+2\t\r\n",
      "480.46880\t1.450E+2\t\r\n",
      "481.44530\t1.580E+2\t\r\n",
      "482.42190\t1.730E+2\t\r\n",
      "483.39840\t1.580E+2\t\r\n",
      "484.3750\t1.530E+2\t\r\n",
      "485.35160\t1.620E+2\t\r\n",
      "486.32810\t1.390E+2\t\r\n",
      "487.30470\t1.620E+2\t\r\n",
      "488.28130\t1.500E+2\t\r\n",
      "489.25780\t1.550E+2\t\r\n",
      "490.23440\t1.360E+2\t\r\n",
      "491.21090\t1.420E+2\t\r\n",
      "492.18750\t1.700E+2\t\r\n",
      "493.16410\t1.640E+2\t\r\n",
      "494.14060\t1.390E+2\t\r\n",
      "495.11720\t1.310E+2\t\r\n",
      "496.09380\t1.590E+2\t\r\n",
      "497.07030\t1.500E+2\t\r\n",
      "498.04690\t1.220E+2\t\r\n",
      "499.02340\t1.380E+2\t\r\n",
      "500.0\t1.380E+2\t\r\n",
      "500.97660\t1.390E+2\t\r\n",
      "501.95310\t1.450E+2\t\r\n",
      "502.92970\t1.370E+2\t\r\n",
      "503.90630\t1.460E+2\t\r\n",
      "504.88280\t1.340E+2\t\r\n",
      "505.85940\t1.470E+2\t\r\n",
      "506.83590\t1.340E+2\t\r\n",
      "507.81250\t1.220E+2\t\r\n",
      "508.78910\t1.270E+2\t\r\n",
      "509.76560\t1.260E+2\t\r\n",
      "510.74220\t1.210E+2\t\r\n",
      "511.71880\t1.330E+2\t\r\n",
      "512.69530\t1.360E+2\t\r\n",
      "513.67190\t1.330E+2\t\r\n",
      "514.64840\t1.380E+2\t\r\n",
      "515.6250\t1.470E+2\t\r\n",
      "516.60160\t1.370E+2\t\r\n",
      "517.57810\t1.500E+2\t\r\n",
      "518.55470\t1.190E+2\t\r\n",
      "519.53130\t1.340E+2\t\r",
      "\r\n",
      "520.50780\t1.380E+2\t\r\n",
      "521.48440\t1.440E+2\t\r\n",
      "522.46090\t1.190E+2\t\r\n",
      "523.43750\t1.230E+2\t\r\n",
      "524.41410\t1.290E+2\t\r\n",
      "525.39060\t1.160E+2\t\r\n",
      "526.36720\t1.240E+2\t\r\n",
      "527.34380\t1.270E+2\t\r\n",
      "528.32030\t1.360E+2\t\r\n",
      "529.29690\t1.180E+2\t\r\n",
      "530.27340\t1.260E+2\t\r\n",
      "531.250\t1.430E+2\t\r\n",
      "532.22660\t1.410E+2\t\r\n",
      "533.20310\t1.060E+2\t\r\n",
      "534.17970\t1.170E+2\t\r\n",
      "535.15630\t1.130E+2\t\r\n",
      "536.13280\t1.080E+2\t\r\n",
      "537.10940\t1.190E+2\t\r\n",
      "538.08590\t1.160E+2\t\r\n",
      "539.06250\t1.330E+2\t\r\n",
      "540.03910\t9.600E+1\t\r\n",
      "541.01560\t1.120E+2\t\r\n",
      "541.99220\t1.240E+2\t\r\n",
      "542.96880\t1.030E+2\t\r\n",
      "543.94530\t1.040E+2\t\r\n",
      "544.92190\t1.040E+2\t\r\n",
      "545.89840\t1.160E+2\t\r\n",
      "546.8750\t1.020E+2\t\r\n",
      "547.85160\t9.400E+1\t\r\n",
      "548.82810\t9.700E+1\t\r\n",
      "549.80470\t1.200E+2\t\r\n",
      "550.78130\t1.000E+2\t\r\n",
      "551.75780\t1.060E+2\t\r\n",
      "552.73440\t1.070E+2\t\r\n",
      "553.71090\t9.800E+1\t\r\n",
      "554.68750\t1.010E+2\t\r\n",
      "555.66410\t8.600E+1\t\r\n",
      "556.64060\t8.700E+1\t\r\n",
      "557.61720\t1.140E+2\t\r\n",
      "558.59380\t1.030E+2\t\r\n",
      "559.57030\t1.010E+2\t\r\n",
      "560.54690\t1.090E+2\t\r\n",
      "561.52340\t9.600E+1\t\r\n",
      "562.50\t9.100E+1\t\r\n",
      "563.47660\t9.000E+1\t\r\n",
      "564.45310\t1.070E+2\t\r\n",
      "565.42970\t8.900E+1\t\r\n",
      "566.40630\t9.400E+1\t\r\n",
      "567.38280\t9.200E+1\t\r",
      "\r\n",
      "568.35940\t9.200E+1\t\r\n",
      "569.33590\t1.000E+2\t\r\n",
      "570.31250\t1.070E+2\t\r\n",
      "571.28910\t8.900E+1\t\r\n",
      "572.26560\t9.300E+1\t\r\n",
      "573.24220\t9.700E+1\t\r\n",
      "574.21880\t8.300E+1\t\r\n",
      "575.19530\t8.400E+1\t\r\n",
      "576.17190\t9.700E+1\t\r\n",
      "577.14840\t1.020E+2\t\r\n",
      "578.1250\t8.400E+1\t\r\n",
      "579.10160\t8.900E+1\t\r\n",
      "580.07810\t9.800E+1\t\r\n",
      "581.05470\t9.300E+1\t\r\n",
      "582.03130\t9.500E+1\t\r\n",
      "583.00780\t8.700E+1\t\r\n",
      "583.98440\t9.200E+1\t\r\n",
      "584.96090\t7.500E+1\t\r\n",
      "585.93750\t9.800E+1\t\r\n",
      "586.91410\t1.090E+2\t\r\n",
      "587.89060\t9.300E+1\t\r\n",
      "588.86720\t9.100E+1\t\r\n",
      "589.84380\t9.100E+1\t\r\n",
      "590.82030\t7.800E+1\t\r\n",
      "591.79690\t8.300E+1\t\r\n",
      "592.77340\t8.100E+1\t\r\n",
      "593.750\t6.800E+1\t\r\n",
      "594.72660\t9.800E+1\t\r\n",
      "595.70310\t9.300E+1\t\r\n",
      "596.67970\t8.000E+1\t\r\n",
      "597.65630\t5.900E+1\t\r\n",
      "598.63280\t8.500E+1\t\r\n",
      "599.60940\t8.400E+1\t\r\n",
      "600.58590\t6.800E+1\t\r\n",
      "601.56250\t7.700E+1\t\r\n",
      "602.53910\t8.500E+1\t\r\n",
      "603.51560\t6.100E+1\t\r\n",
      "604.49220\t8.500E+1\t\r\n",
      "605.46880\t7.000E+1\t\r\n",
      "606.44530\t8.100E+1\t\r\n",
      "607.42190\t8.200E+1\t\r\n",
      "608.39840\t6.500E+1\t\r\n",
      "609.3750\t7.900E+1\t\r\n",
      "610.35160\t7.600E+1\t\r\n",
      "611.32810\t6.800E+1\t\r\n",
      "612.30470\t8.100E+1\t\r\n",
      "613.28130\t8.800E+1\t\r\n",
      "614.25780\t6.600E+1\t\r\n",
      "615.23440\t7.500E+1\t\r\n",
      "616.21090\t7.000E+1\t\r\n",
      "617.18750\t6.000E+1\t\r\n",
      "618.16410\t7.700E+1\t\r\n",
      "619.14060\t8.100E+1\t\r\n",
      "620.11720\t6.600E+1\t\r\n",
      "621.09380\t7.800E+1\t\r\n",
      "622.07030\t7.100E+1\t\r\n",
      "623.04690\t8.300E+1\t\r\n",
      "624.02340\t6.800E+1\t\r\n",
      "625.0\t6.300E+1\t\r\n",
      "625.97660\t7.500E+1\t\r\n",
      "626.95310\t5.000E+1\t\r\n",
      "627.92970\t6.700E+1\t\r\n",
      "628.90630\t7.000E+1\t\r\n",
      "629.88280\t6.100E+1\t\r\n",
      "630.85940\t5.700E+1\t\r\n",
      "631.83590\t7.500E+1\t\r\n",
      "632.81250\t6.000E+1\t\r\n",
      "633.78910\t7.400E+1\t\r\n",
      "634.76560\t7.600E+1\t\r\n",
      "635.74220\t6.400E+1\t\r\n",
      "636.71880\t7.200E+1\t\r\n",
      "637.69530\t6.300E+1\t\r\n",
      "638.67190\t6.300E+1\t\r\n",
      "639.64840\t6.200E+1\t\r\n",
      "640.6250\t7.000E+1\t\r\n",
      "641.60160\t5.700E+1\t\r\n",
      "642.57810\t6.100E+1\t\r\n",
      "643.55470\t5.400E+1\t\r\n",
      "644.53130\t6.100E+1\t\r\n",
      "645.50780\t5.600E+1\t\r\n",
      "646.48440\t6.600E+1\t\r\n",
      "647.46090\t5.500E+1\t\r\n",
      "648.43750\t6.100E+1\t\r\n",
      "649.41410\t5.900E+1\t\r\n",
      "650.39060\t5.000E+1\t\r\n",
      "651.36720\t6.100E+1\t\r\n",
      "652.34380\t5.900E+1\t\r\n",
      "653.32030\t4.900E+1\t\r\n",
      "654.29690\t6.300E+1\t\r\n",
      "655.27340\t5.900E+1\t\r\n",
      "656.250\t6.200E+1\t\r\n",
      "657.22660\t6.700E+1\t\r\n",
      "658.20310\t5.000E+1\t\r\n",
      "659.17970\t6.000E+1\t\r\n",
      "660.15630\t5.200E+1\t\r\n",
      "661.13280\t6.600E+1\t\r\n",
      "662.10940\t5.700E+1\t\r\n",
      "663.08590\t6.100E+1\t\r",
      "\r\n",
      "664.06250\t5.200E+1\t\r\n",
      "665.03910\t4.500E+1\t\r\n",
      "666.01560\t5.600E+1\t\r\n",
      "666.99220\t5.200E+1\t\r\n",
      "667.96880\t4.700E+1\t\r\n",
      "668.94530\t5.500E+1\t\r\n",
      "669.92190\t6.300E+1\t\r\n",
      "670.89840\t5.000E+1\t\r\n",
      "671.8750\t5.000E+1\t\r\n",
      "672.85160\t4.200E+1\t\r\n",
      "673.82810\t5.500E+1\t\r\n",
      "674.80470\t5.500E+1\t\r\n",
      "675.78130\t4.500E+1\t\r\n",
      "676.75780\t4.800E+1\t\r\n",
      "677.73440\t4.400E+1\t\r\n",
      "678.71090\t4.800E+1\t\r\n",
      "679.68750\t6.000E+1\t\r\n",
      "680.66410\t4.600E+1\t\r\n",
      "681.64060\t4.700E+1\t\r\n",
      "682.61720\t5.500E+1\t\r\n",
      "683.59380\t5.000E+1\t\r\n",
      "684.57030\t3.700E+1\t\r\n",
      "685.54690\t3.900E+1\t\r\n",
      "686.52340\t4.400E+1\t\r\n",
      "687.50\t5.400E+1\t\r\n",
      "688.47660\t5.000E+1\t\r\n",
      "689.45310\t3.800E+1\t\r\n",
      "690.42970\t5.000E+1\t\r\n",
      "691.40630\t5.200E+1\t\r\n",
      "692.38280\t4.800E+1\t\r\n",
      "693.35940\t4.900E+1\t\r\n",
      "694.33590\t4.900E+1\t\r\n",
      "695.31250\t6.500E+1\t\r\n",
      "696.28910\t5.800E+1\t\r\n",
      "697.26560\t4.000E+1\t\r\n",
      "698.24220\t6.100E+1\t\r\n",
      "699.21880\t5.300E+1\t\r\n",
      "700.19530\t4.700E+1\t\r\n",
      "701.17190\t5.800E+1\t\r\n",
      "702.14840\t4.000E+1\t\r\n",
      "703.1250\t4.100E+1\t\r\n",
      "704.10160\t5.300E+1\t\r\n",
      "705.07810\t3.500E+1\t\r\n",
      "706.05470\t5.800E+1\t\r\n",
      "707.03130\t4.300E+1\t\r\n",
      "708.00780\t4.800E+1\t\r\n",
      "708.98440\t4.700E+1\t\r\n",
      "709.96090\t4.100E+1\t\r\n",
      "710.93750\t5.200E+1\t\r\n",
      "711.91410\t3.700E+1\t\r\n",
      "712.89060\t4.600E+1\t\r\n",
      "713.86720\t4.600E+1\t\r\n",
      "714.84380\t4.900E+1\t\r\n",
      "715.82030\t4.600E+1\t\r\n",
      "716.79690\t3.800E+1\t\r\n",
      "717.77340\t4.100E+1\t\r\n",
      "718.750\t4.400E+1\t\r\n",
      "719.72660\t3.900E+1\t\r\n",
      "720.70310\t3.300E+1\t\r\n",
      "721.67970\t4.000E+1\t\r\n",
      "722.65630\t4.100E+1\t\r\n",
      "723.63280\t3.500E+1\t\r\n",
      "724.60940\t3.500E+1\t\r\n",
      "725.58590\t4.000E+1\t\r\n",
      "726.56250\t5.000E+1\t\r\n",
      "727.53910\t3.500E+1\t\r\n",
      "728.51560\t3.400E+1\t\r\n",
      "729.49220\t4.500E+1\t\r\n",
      "730.46880\t5.100E+1\t\r\n",
      "731.44530\t3.700E+1\t\r\n",
      "732.42190\t4.800E+1\t\r\n",
      "733.39840\t5.500E+1\t\r\n",
      "734.3750\t4.200E+1\t\r\n",
      "735.35160\t5.400E+1\t\r\n",
      "736.32810\t4.000E+1\t\r\n",
      "737.30470\t4.700E+1\t\r\n",
      "738.28130\t3.400E+1\t\r\n",
      "739.25780\t5.200E+1\t\r\n",
      "740.23440\t4.400E+1\t\r\n",
      "741.21090\t4.700E+1\t\r\n",
      "742.18750\t4.800E+1\t\r\n",
      "743.16410\t4.900E+1\t\r\n",
      "744.14060\t2.800E+1\t\r\n",
      "745.11720\t4.000E+1\t\r\n",
      "746.09380\t3.500E+1\t\r\n",
      "747.07030\t3.500E+1\t\r\n",
      "748.04690\t4.000E+1\t\r\n",
      "749.02340\t4.100E+1\t\r\n",
      "750.0\t3.400E+1\t\r\n",
      "750.97660\t3.800E+1\t\r\n",
      "751.95310\t3.600E+1\t\r\n",
      "752.92970\t3.300E+1\t\r\n",
      "753.90630\t4.500E+1\t\r\n",
      "754.88280\t3.200E+1\t\r\n",
      "755.85940\t4.000E+1\t\r\n",
      "756.83590\t4.000E+1\t\r\n",
      "757.81250\t3.600E+1\t\r\n",
      "758.78910\t3.900E+1\t\r\n",
      "759.76560\t2.800E+1\t\r\n",
      "760.74220\t4.100E+1\t\r\n",
      "761.71880\t3.300E+1\t\r\n",
      "762.69530\t3.600E+1\t\r\n",
      "763.67190\t4.800E+1\t\r\n",
      "764.64840\t4.700E+1\t\r\n",
      "765.6250\t3.300E+1\t\r\n",
      "766.60160\t4.100E+1\t\r\n",
      "767.57810\t2.700E+1\t\r\n",
      "768.55470\t2.900E+1\t\r\n",
      "769.53130\t3.500E+1\t\r\n",
      "770.50780\t3.400E+1\t\r\n",
      "771.48440\t3.500E+1\t\r\n",
      "772.46090\t4.000E+1\t\r\n",
      "773.43750\t2.400E+1\t\r\n",
      "774.41410\t3.000E+1\t\r\n",
      "775.39060\t3.700E+1\t\r\n",
      "776.36720\t3.500E+1\t\r\n",
      "777.34380\t3.600E+1\t\r\n",
      "778.32030\t4.300E+1\t\r\n",
      "779.29690\t3.100E+1\t\r\n",
      "780.27340\t4.800E+1\t\r\n",
      "781.250\t3.100E+1\t\r\n",
      "782.22660\t3.000E+1\t\r\n",
      "783.20310\t4.100E+1\t\r\n",
      "784.17970\t4.400E+1\t\r\n",
      "785.15630\t3.700E+1\t\r\n",
      "786.13280\t3.100E+1\t\r\n",
      "787.10940\t2.800E+1\t\r\n",
      "788.08590\t3.200E+1\t\r\n",
      "789.06250\t2.900E+1\t\r\n",
      "790.03910\t3.700E+1\t\r\n",
      "791.01560\t3.800E+1\t\r\n",
      "791.99220\t3.200E+1\t\r\n",
      "792.96880\t3.000E+1\t\r\n",
      "793.94530\t3.300E+1\t\r\n",
      "794.92190\t2.600E+1\t\r\n",
      "795.89840\t2.300E+1\t\r\n",
      "796.8750\t3.800E+1\t\r\n",
      "797.85160\t2.800E+1\t\r\n",
      "798.82810\t2.800E+1\t\r\n",
      "799.80470\t2.900E+1\t\r\n",
      "800.78130\t3.400E+1\t\r\n",
      "801.75780\t2.800E+1\t\r\n",
      "802.73440\t3.300E+1\t\r\n",
      "803.71090\t4.100E+1\t\r\n",
      "804.68750\t2.700E+1\t\r\n",
      "805.66410\t3.000E+1\t\r\n",
      "806.64060\t3.900E+1\t\r",
      "\r\n",
      "807.61720\t3.400E+1\t\r\n",
      "808.59380\t2.800E+1\t\r\n",
      "809.57030\t3.900E+1\t\r\n",
      "810.54690\t2.500E+1\t\r\n",
      "811.52340\t2.900E+1\t\r\n",
      "812.50\t3.000E+1\t\r\n",
      "813.47660\t2.900E+1\t\r\n",
      "814.45310\t2.700E+1\t\r\n",
      "815.42970\t2.500E+1\t\r\n",
      "816.40630\t1.800E+1\t\r\n",
      "817.38280\t2.500E+1\t\r\n",
      "818.35940\t2.900E+1\t\r\n",
      "819.33590\t3.100E+1\t\r\n",
      "820.31250\t2.200E+1\t\r\n",
      "821.28910\t2.300E+1\t\r\n",
      "822.26560\t3.400E+1\t\r\n",
      "823.24220\t2.800E+1\t\r\n",
      "824.21880\t2.700E+1\t\r\n",
      "825.19530\t2.800E+1\t\r\n",
      "826.17190\t3.400E+1\t\r\n",
      "827.14840\t1.900E+1\t\r\n",
      "828.1250\t2.300E+1\t\r\n",
      "829.10160\t3.000E+1\t\r\n",
      "830.07810\t1.800E+1\t\r\n",
      "831.05470\t3.200E+1\t\r\n",
      "832.03130\t2.100E+1\t\r\n",
      "833.00780\t1.900E+1\t\r\n",
      "833.98440\t2.600E+1\t\r\n",
      "834.96090\t2.800E+1\t\r\n",
      "835.93750\t2.500E+1\t\r\n",
      "836.91410\t3.800E+1\t\r\n",
      "837.89060\t2.100E+1\t\r\n",
      "838.86720\t2.500E+1\t\r\n",
      "839.84380\t2.900E+1\t\r\n",
      "840.82030\t2.500E+1\t\r\n",
      "841.79690\t2.400E+1\t\r\n",
      "842.77340\t3.100E+1\t\r\n",
      "843.750\t2.600E+1\t\r\n",
      "844.72660\t2.900E+1\t\r\n",
      "845.70310\t1.900E+1\t\r\n",
      "846.67970\t3.200E+1\t\r\n",
      "847.65630\t3.000E+1\t\r\n",
      "848.63280\t2.000E+1\t\r\n",
      "849.60940\t2.700E+1\t\r\n",
      "850.58590\t3.300E+1\t\r\n",
      "851.56250\t2.200E+1\t\r\n",
      "852.53910\t2.700E+1\t\r\n",
      "853.51560\t2.300E+1\t\r\n",
      "854.49220\t2.700E+1\t\r",
      "\r\n",
      "855.46880\t2.700E+1\t\r\n",
      "856.44530\t3.600E+1\t\r\n",
      "857.42190\t2.900E+1\t\r\n",
      "858.39840\t3.100E+1\t\r\n",
      "859.3750\t3.400E+1\t\r\n",
      "860.35160\t2.000E+1\t\r\n",
      "861.32810\t1.500E+1\t\r\n",
      "862.30470\t1.600E+1\t\r\n",
      "863.28130\t2.700E+1\t\r\n",
      "864.25780\t2.500E+1\t\r\n",
      "865.23440\t3.000E+1\t\r\n",
      "866.21090\t2.200E+1\t\r\n",
      "867.18750\t1.700E+1\t\r\n",
      "868.16410\t2.500E+1\t\r\n",
      "869.14060\t2.700E+1\t\r\n",
      "870.11720\t2.200E+1\t\r\n",
      "871.09380\t2.000E+1\t\r\n",
      "872.07030\t2.300E+1\t\r\n",
      "873.04690\t3.300E+1\t\r\n",
      "874.02340\t2.200E+1\t\r\n",
      "875.0\t2.500E+1\t\r\n",
      "875.97660\t1.400E+1\t\r\n",
      "876.95310\t3.000E+1\t\r\n",
      "877.92970\t2.100E+1\t\r\n",
      "878.90630\t1.900E+1\t\r\n",
      "879.88280\t2.900E+1\t\r\n",
      "880.85940\t3.100E+1\t\r\n",
      "881.83590\t2.200E+1\t\r\n",
      "882.81250\t2.500E+1\t\r\n",
      "883.78910\t2.700E+1\t\r\n",
      "884.76560\t3.000E+1\t\r\n",
      "885.74220\t1.900E+1\t\r\n",
      "886.71880\t1.500E+1\t\r\n",
      "887.69530\t2.500E+1\t\r\n",
      "888.67190\t1.700E+1\t\r\n",
      "889.64840\t1.700E+1\t\r\n",
      "890.6250\t2.800E+1\t\r\n",
      "891.60160\t1.800E+1\t\r\n",
      "892.57810\t2.500E+1\t\r\n",
      "893.55470\t1.900E+1\t\r\n",
      "894.53130\t2.300E+1\t\r\n",
      "895.50780\t2.600E+1\t\r\n",
      "896.48440\t3.000E+1\t\r\n",
      "897.46090\t3.000E+1\t\r\n",
      "898.43750\t3.000E+1\t\r\n",
      "899.41410\t1.700E+1\t\r\n",
      "900.39060\t2.800E+1\t\r\n",
      "901.36720\t2.400E+1\t\r\n",
      "902.34380\t1.400E+1\t\r",
      "\r\n",
      "903.32030\t2.700E+1\t\r\n",
      "904.29690\t1.900E+1\t\r\n",
      "905.27340\t2.100E+1\t\r\n",
      "906.250\t1.800E+1\t\r\n",
      "907.22660\t2.000E+1\t\r\n",
      "908.20310\t2.600E+1\t\r\n",
      "909.17970\t1.900E+1\t\r\n",
      "910.15630\t1.900E+1\t\r\n",
      "911.13280\t2.000E+1\t\r\n",
      "912.10940\t2.700E+1\t\r\n",
      "913.08590\t1.000E+1\t\r\n",
      "914.06250\t1.500E+1\t\r\n",
      "915.03910\t1.900E+1\t\r\n",
      "916.01560\t1.200E+1\t\r\n",
      "916.99220\t1.900E+1\t\r\n",
      "917.96880\t2.100E+1\t\r\n",
      "918.94530\t1.400E+1\t\r\n",
      "919.92190\t2.700E+1\t\r\n",
      "920.89840\t2.100E+1\t\r\n",
      "921.8750\t2.300E+1\t\r\n",
      "922.85160\t2.000E+1\t\r\n",
      "923.82810\t2.800E+1\t\r\n",
      "924.80470\t2.600E+1\t\r\n",
      "925.78130\t1.700E+1\t\r\n",
      "926.75780\t2.300E+1\t\r\n",
      "927.73440\t2.300E+1\t\r\n",
      "928.71090\t1.900E+1\t\r\n",
      "929.68750\t2.300E+1\t\r\n",
      "930.66410\t2.100E+1\t\r\n",
      "931.64060\t2.000E+1\t\r\n",
      "932.61720\t1.600E+1\t\r\n",
      "933.59380\t1.600E+1\t\r\n",
      "934.57030\t1.800E+1\t\r\n",
      "935.54690\t2.100E+1\t\r\n",
      "936.52340\t1.700E+1\t\r\n",
      "937.50\t1.300E+1\t\r\n",
      "938.47660\t2.300E+1\t\r\n",
      "939.45310\t1.400E+1\t\r\n",
      "940.42970\t2.700E+1\t\r\n",
      "941.40630\t1.800E+1\t\r\n",
      "942.38280\t1.800E+1\t\r\n",
      "943.35940\t2.100E+1\t\r\n",
      "944.33590\t2.000E+1\t\r\n",
      "945.31250\t1.600E+1\t\r\n",
      "946.28910\t1.800E+1\t\r\n",
      "947.26560\t2.000E+1\t\r\n",
      "948.24220\t2.300E+1\t\r\n",
      "949.21880\t1.000E+1\t\r\n",
      "950.19530\t2.300E+1\t\r",
      "\r\n",
      "951.17190\t2.100E+1\t\r\n",
      "952.14840\t1.900E+1\t\r\n",
      "953.1250\t1.200E+1\t\r\n",
      "954.10160\t1.300E+1\t\r\n",
      "955.07810\t3.100E+1\t\r\n",
      "956.05470\t2.500E+1\t\r\n",
      "957.03130\t1.700E+1\t\r\n",
      "958.00780\t1.900E+1\t\r\n",
      "958.98440\t2.600E+1\t\r\n",
      "959.96090\t2.000E+1\t\r\n",
      "960.93750\t1.800E+1\t\r\n",
      "961.91410\t1.600E+1\t\r\n",
      "962.89060\t1.700E+1\t\r\n",
      "963.86720\t2.000E+1\t\r\n",
      "964.84380\t1.600E+1\t\r\n",
      "965.82030\t1.700E+1\t\r\n",
      "966.79690\t1.900E+1\t\r\n",
      "967.77340\t1.800E+1\t\r\n",
      "968.750\t2.500E+1\t\r\n",
      "969.72660\t2.100E+1\t\r\n",
      "970.70310\t1.600E+1\t\r\n",
      "971.67970\t2.100E+1\t\r\n",
      "972.65630\t1.100E+1\t\r\n",
      "973.63280\t1.400E+1\t\r\n",
      "974.60940\t1.600E+1\t\r\n",
      "975.58590\t1.600E+1\t\r\n",
      "976.56250\t1.400E+1\t\r\n",
      "977.53910\t1.500E+1\t\r\n",
      "978.51560\t1.800E+1\t\r\n",
      "979.49220\t1.700E+1\t\r\n",
      "980.46880\t1.100E+1\t\r\n",
      "981.44530\t1.300E+1\t\r\n",
      "982.42190\t1.500E+1\t\r\n",
      "983.39840\t1.500E+1\t\r\n",
      "984.3750\t2.100E+1\t\r\n",
      "985.35160\t2.900E+1\t\r\n",
      "986.32810\t1.600E+1\t\r\n",
      "987.30470\t1.800E+1\t\r\n",
      "988.28130\t1.300E+1\t\r\n",
      "989.25780\t1.900E+1\t\r\n",
      "990.23440\t1.600E+1\t\r\n",
      "991.21090\t1.800E+1\t\r\n",
      "992.18750\t1.100E+1\t\r\n",
      "993.16410\t2.100E+1\t\r\n",
      "994.14060\t1.000E+1\t\r\n",
      "995.11720\t1.300E+1\t\r\n",
      "996.09380\t2.800E+1\t\r\n",
      "997.07030\t1.800E+1\t\r\n",
      "998.04690\t1.700E+1\t\r\n",
      "999.02340\t1.400E+1\t\r\n"
     ]
    }
   ],
   "source": [
    "%cat 'data/fluorescence/quencher_0.0.txt'"
   ]
  },
  {
   "cell_type": "code",
   "execution_count": 3,
   "metadata": {
    "slideshow": {
     "slide_type": "slide"
    }
   },
   "outputs": [
    {
     "name": "stdout",
     "output_type": "stream",
     "text": [
      "quencher_0.0.txt  quencher_0.5.txt  quencher_1.5.txt\r\n",
      "quencher_0.2.txt  quencher_1.0.txt\r\n"
     ]
    }
   ],
   "source": [
    "%ls 'data/fluorescence'"
   ]
  },
  {
   "cell_type": "markdown",
   "metadata": {},
   "source": [
    "Let's plot the intensity decays for increasing concentrations of quencher.<br>\n",
    "The intensity signal decays faster with increasing concentration of benzophenone."
   ]
  },
  {
   "cell_type": "code",
   "execution_count": 4,
   "metadata": {
    "slideshow": {
     "slide_type": "fragment"
    }
   },
   "outputs": [
    {
     "data": {
      "image/png": "[encoded data removed]",
      "text/plain": [
       "<Figure size 432x288 with 1 Axes>"
      ]
     },
     "metadata": {
      "needs_background": "light"
     },
     "output_type": "display_data"
    }
   ],
   "source": [
    "concs = [0.0,0.2,0.5,1.0,1.5]\n",
    "for conc in concs:\n",
    "    t,F = np.loadtxt('data/fluorescence/quencher_{:1.1f}.txt'.format(conc), unpack=True, skiprows=9)\n",
    "    plt.errorbar(t, F, np.sqrt(F), lw=0, marker='o', label='{:1.1f}'.format(conc)+' mM',\n",
    "                 ms=2, elinewidth=1., capsize=2, capthick=1., mfc='w')\n",
    "plt.legend(title='[quencher]',labelspacing=.7,loc=1)\n",
    "plt.ylabel('$F(t)$  /  counts'); plt.xlabel('$t$  /  ns'); "
   ]
  },
  {
   "cell_type": "markdown",
   "metadata": {},
   "source": [
    "Here, we use boolean masking to select the data points after the excitation pulse and we shift the x values so that they measure the time intervals from the excitation pulse."
   ]
  },
  {
   "cell_type": "code",
   "execution_count": 5,
   "metadata": {
    "slideshow": {
     "slide_type": "slide"
    }
   },
   "outputs": [
    {
     "data": {
      "image/png": "[encoded data removed]",
      "text/plain": [
       "<Figure size 432x288 with 1 Axes>"
      ]
     },
     "metadata": {
      "needs_background": "light"
     },
     "output_type": "display_data"
    }
   ],
   "source": [
    "for conc in concs:\n",
    "    d = np.loadtxt('data/fluorescence/quencher_{:1.1f}.txt'.format(conc), unpack=False, skiprows=9)\n",
    "    d = d[ d[:,0] > d[d[:,1]==d[:,1].max(), 0] ] # points before the intesity max are discarded\n",
    "    plt.errorbar(d[:,0]-d[0,0], d[:,1], np.sqrt(d[:,1]), lw=0, marker='o', label='{:1.1f}'.format(conc)+' mM',\n",
    "                 ms=2, elinewidth=1., capsize=2, capthick=1., mfc='w')\n",
    "plt.legend(title='[quencher]',labelspacing=.7)\n",
    "plt.ylabel('$F(t)$ / counts'); plt.xlabel('$t$ / ns'); plt.show()"
   ]
  },
  {
   "cell_type": "markdown",
   "metadata": {
    "slideshow": {
     "slide_type": "slide"
    }
   },
   "source": [
    "A convenient way to save data sets to file is to use [pickling](https://docs.python.org/3/library/pickle.html). We create a  `pandas` DataFrame and we save it as a binary file and also as a csv file."
   ]
  },
  {
   "cell_type": "code",
   "execution_count": 6,
   "metadata": {
    "slideshow": {
     "slide_type": "fragment"
    }
   },
   "outputs": [
    {
     "data": {
      "text/html": [
       "<div>\n",
       "<style scoped>\n",
       "    .dataframe tbody tr th:only-of-type {\n",
       "        vertical-align: middle;\n",
       "    }\n",
       "\n",
       "    .dataframe tbody tr th {\n",
       "        vertical-align: top;\n",
       "    }\n",
       "\n",
       "    .dataframe thead th {\n",
       "        text-align: right;\n",
       "    }\n",
       "</style>\n",
       "<table border=\"1\" class=\"dataframe\">\n",
       "  <thead>\n",
       "    <tr style=\"text-align: right;\">\n",
       "      <th></th>\n",
       "      <th>t</th>\n",
       "      <th>F</th>\n",
       "      <th>errF</th>\n",
       "    </tr>\n",
       "    <tr>\n",
       "      <th>conc</th>\n",
       "      <th></th>\n",
       "      <th></th>\n",
       "      <th></th>\n",
       "    </tr>\n",
       "  </thead>\n",
       "  <tbody>\n",
       "    <tr>\n",
       "      <th>0.0</th>\n",
       "      <td>0.000000</td>\n",
       "      <td>2000.0</td>\n",
       "      <td>44.721360</td>\n",
       "    </tr>\n",
       "    <tr>\n",
       "      <th>0.0</th>\n",
       "      <td>0.976563</td>\n",
       "      <td>1995.0</td>\n",
       "      <td>44.665423</td>\n",
       "    </tr>\n",
       "    <tr>\n",
       "      <th>0.0</th>\n",
       "      <td>1.953125</td>\n",
       "      <td>1985.0</td>\n",
       "      <td>44.553339</td>\n",
       "    </tr>\n",
       "    <tr>\n",
       "      <th>0.0</th>\n",
       "      <td>2.929688</td>\n",
       "      <td>1968.0</td>\n",
       "      <td>44.362146</td>\n",
       "    </tr>\n",
       "    <tr>\n",
       "      <th>0.0</th>\n",
       "      <td>3.906250</td>\n",
       "      <td>1967.0</td>\n",
       "      <td>44.350874</td>\n",
       "    </tr>\n",
       "  </tbody>\n",
       "</table>\n",
       "</div>"
      ],
      "text/plain": [
       "             t       F       errF\n",
       "conc                             \n",
       "0.0   0.000000  2000.0  44.721360\n",
       "0.0   0.976563  1995.0  44.665423\n",
       "0.0   1.953125  1985.0  44.553339\n",
       "0.0   2.929688  1968.0  44.362146\n",
       "0.0   3.906250  1967.0  44.350874"
      ]
     },
     "execution_count": 6,
     "metadata": {},
     "output_type": "execute_result"
    }
   ],
   "source": [
    "data = pd.DataFrame()\n",
    "for conc in concs:\n",
    "    t,F = np.loadtxt('data/fluorescence/quencher_{:1.1f}.txt'.format(conc), unpack=True, skiprows=9)\n",
    "    # points before the intesity max are discarded\n",
    "    t = t[F.argmax():]\n",
    "    F = F[F.argmax():]\n",
    "    t = t - t[0] # t at the intesity max is t zero\n",
    "    d = pd.DataFrame(data=np.c_[t,F,np.sqrt(F)],columns=['t','F','errF'])\n",
    "    d['conc'] = conc\n",
    "    d.set_index('conc',inplace=True)\n",
    "    data = data.append(d)\n",
    "data.to_pickle('data/fluorescence.p')\n",
    "data.to_csv('data/fluorescence.csv')\n",
    "data.head()"
   ]
  },
  {
   "cell_type": "markdown",
   "metadata": {
    "slideshow": {
     "slide_type": "slide"
    }
   },
   "source": [
    "The curve for $[$quencher$]$=0 mM is fitted to a single exponential decay function using [`optimize.least_square`](https://docs.scipy.org/doc/scipy/reference/generated/scipy.optimize.least_squares.html) which requires the following arguments:\n",
    "- the function which computes the vector of residuals\n",
    "- the initial parameters\n",
    "- the data\n",
    "- the lower and the upper bounds of the fitting parameters<br>\n",
    "\n",
    "`\n",
    "least_squares(function_to_minimize, initial_params, \n",
    "    [x, y, yerr], bounds=[(lower_bounds),(upper_bounds)])\n",
    "`\n",
    "\n",
    "`least_squares` returns an OptimizeResult object containig the best-fit parameters (`x`), the residuals calculated for the best-fit parameters (`fun`), RSS/2 (`cost`), and the modified Jacobian matrix, $J$, at the solution (`jac`), $J^T J$ is a [Gauss-Newton approximation of the Hessian](https://reference.wolfram.com/language/tutorial/UnconstrainedOptimizationGaussNewtonMethods.html) of the residual function.\n",
    "\n",
    "Since we know that the error on the counts follows Poisson's distribution, we use the following [nonlinear regression model](https://link.springer.com/book/10.1007%2F978-0-387-09616-2)\n",
    "\\begin{equation}\n",
    "y_i = f(x_i,\\beta) + \\frac{\\epsilon_i}{\\sqrt{w_i}},\n",
    "\\end{equation}\n",
    "where the weight is the inverse of the error on the counts, $1 / \\sqrt{y_i}$.<br>\n",
    "We minimize, with respect to $\\beta$, the residual sums of squares (RSS) weighted by $y_i$:\n",
    "\\begin{equation}\n",
    "\\mathrm{RSS}(\\beta) = \\sum_{n=1}^{\\infty} \\frac{\\left[ y_i - f(x_i,\\beta) \\right ] ^2}{y_i}.\n",
    "\\end{equation}\n",
    "For further details read chapter 6 of [Nonlinear Regression with R](https://link.springer.com/book/10.1007%2F978-0-387-09616-2) by Christian Ritz and Jens Carl Streibig."
   ]
  },
  {
   "cell_type": "code",
   "execution_count": 7,
   "metadata": {
    "slideshow": {
     "slide_type": "fragment"
    }
   },
   "outputs": [],
   "source": [
    "# we define the exponential decay\n",
    "def exp_decay(x, param):\n",
    "    return param[0] * np.exp( - x / param[1] ) \n",
    "\n",
    "# we define the function that calculates the residuals\n",
    "def residuals(param, *args):\n",
    "    return ( args[1] - exp_decay(args[0], param) ) / args[2] # residuals weighted by the error on y"
   ]
  },
  {
   "cell_type": "code",
   "execution_count": 8,
   "metadata": {
    "slideshow": {
     "slide_type": "slide"
    }
   },
   "outputs": [
    {
     "data": {
      "image/png": "[encoded data removed]",
      "text/plain": [
       "<Figure size 432x288 with 1 Axes>"
      ]
     },
     "metadata": {
      "needs_background": "light"
     },
     "output_type": "display_data"
    }
   ],
   "source": [
    "# we create a list with the data\n",
    "args = [data.loc[0.0][col] for col in ['t','F','errF']]\n",
    "\n",
    "# we fit the data\n",
    "res = least_squares(residuals, x0=[3000,150], args=args, bounds=[(6,150),(3500,200)])\n",
    "\n",
    "# we plot the data\n",
    "plt.errorbar(args[0],args[1],args[2],lw=0,marker='o',ms=1,elinewidth=1.,capsize=3,capthick=1.,\n",
    "             color='k',alpha=0.3)\n",
    "\n",
    "# we plot the fitting curve\n",
    "plt.plot(args[0],exp_decay(args[0],res['x']),lw=3,color='r')\n",
    "\n",
    "# we set the log scale for the y-axis\n",
    "plt.yscale('log')\n",
    "plt.ylabel('$\\ln [F(t)]$  /  counts'); plt.xlabel('$t$  /  ns'); "
   ]
  },
  {
   "cell_type": "code",
   "execution_count": 9,
   "metadata": {
    "slideshow": {
     "slide_type": "fragment"
    }
   },
   "outputs": [
    {
     "name": "stdout",
     "output_type": "stream",
     "text": [
      "Is one of the convergence criteria satisfied? True\n"
     ]
    }
   ],
   "source": [
    "print('Is one of the convergence criteria satisfied?', res.success) "
   ]
  },
  {
   "cell_type": "code",
   "execution_count": 10,
   "metadata": {},
   "outputs": [
    {
     "name": "stdout",
     "output_type": "stream",
     "text": [
      "The best-fit parameters are 1915.416799350097 and 168.13658721264096\n"
     ]
    }
   ],
   "source": [
    "print('The best-fit parameters are',res.x[0],'and',res.x[1])"
   ]
  },
  {
   "cell_type": "code",
   "execution_count": 11,
   "metadata": {
    "slideshow": {
     "slide_type": "slide"
    }
   },
   "outputs": [
    {
     "data": {
      "text/markdown": [
       "| Parameter     | Value         | Error |\n",
       "| :---------------- |:-------------:| :----:|\n",
       "| $F(0)$ (counts)   | 1915.42          | ?     |\n",
       "| $\\tau_0$ (ns)     | 168.14          | ?     |"
      ],
      "text/plain": [
       "<IPython.core.display.Markdown object>"
      ]
     },
     "execution_count": 11,
     "metadata": {},
     "output_type": "execute_result"
    }
   ],
   "source": [
    "from IPython import display\n",
    "\n",
    "table = r\"\"\"| Parameter     | Value         | Error |\n",
    "| :---------------- |:-------------:| :----:|\n",
    "| $F(0)$ (counts)   | %.2f          | ?     |\n",
    "| $\\tau_0$ (ns)     | %.2f          | ?     |\"\"\"\n",
    "\n",
    "display.Markdown(table % tuple(res.x) )"
   ]
  },
  {
   "cell_type": "markdown",
   "metadata": {},
   "source": [
    "\\begin{equation}\n",
    "\\chi_R^2 = \\frac{\\mathrm{RSS}(\\hat{\\beta})}{n-p}\n",
    "\\end{equation}"
   ]
  },
  {
   "cell_type": "code",
   "execution_count": 12,
   "metadata": {},
   "outputs": [
    {
     "name": "stdout",
     "output_type": "stream",
     "text": [
      "The residual variance is 1.705759745226174\n"
     ]
    }
   ],
   "source": [
    "print('The residual variance is', 2 * res.cost / (res.fun.size - res.x.size))"
   ]
  },
  {
   "cell_type": "markdown",
   "metadata": {
    "slideshow": {
     "slide_type": "slide"
    }
   },
   "source": [
    "We can check whether the model is appropriate and we have obtained a good fit by comparing the Gaussian with $\\sigma=1$ and $\\mu=0$ with the histogram of the residuals at solution.<br>\n",
    "We can see that the distribution of the residuals is compatible with a normal distribution. Would the comparison be this favorable if we didn't weight the error by the square root of the counts?"
   ]
  },
  {
   "cell_type": "code",
   "execution_count": 13,
   "metadata": {
    "slideshow": {
     "slide_type": "fragment"
    }
   },
   "outputs": [
    {
     "data": {
      "image/png": "[encoded data removed]",
      "text/plain": [
       "<Figure size 432x288 with 1 Axes>"
      ]
     },
     "metadata": {
      "needs_background": "light"
     },
     "output_type": "display_data"
    }
   ],
   "source": [
    "bins = np.linspace(res.fun.min(),res.fun.max()+1,100)\n",
    "plt.plot(bins, np.exp(-bins*bins/2)/np.sqrt(2*np.pi), label='Gaussian', color='k')\n",
    "plt.hist(res.fun, bins, lw=2, histtype='step', density=True, label='residuals', color='r')\n",
    "plt.xlabel('Residuals'); plt.ylabel('Probability Distribution'); plt.legend();"
   ]
  },
  {
   "cell_type": "markdown",
   "metadata": {
    "collapsed": true,
    "slideshow": {
     "slide_type": "slide"
    }
   },
   "source": [
    "The uncertainties on the best-fit parameters are estimated from the variance-covariance matrix.<br>\n",
    "Here is the implementation in the function [`optimize.curve_fit`)](https://github.com/scipy/scipy/blob/2526df72e5d4ca8bad6e2f4b3cbdfbc33e805865/scipy/optimize/minpack.py#L739) which uses `least_squares` under the hood.\n",
    "Further information [here](https://docs.scipy.org/doc/scipy/reference/generated/scipy.optimize.curve_fit.html#scipy.optimize.curve_fit) and [here](http://scipy-cookbook.readthedocs.io/items/FittingData.html)."
   ]
  },
  {
   "cell_type": "code",
   "execution_count": 14,
   "metadata": {
    "slideshow": {
     "slide_type": "slide"
    }
   },
   "outputs": [],
   "source": [
    "from scipy.linalg import svd\n",
    "# copied from curve_fit \n",
    "def error_analysis(res):\n",
    "    rss = 2 * res.cost  # res.cost is half sum of squares!\n",
    "    s_sq = rss / (res.fun.size - res.x.size) # residual variance or reduced chi squared\n",
    "    # Do Moore-Penrose inverse discarding zero singular values.\n",
    "    _, s, VT = svd(res.jac, full_matrices=False)\n",
    "    threshold = np.finfo(float).eps * max(res.jac.shape) * s[0]\n",
    "    s = s[s > threshold]\n",
    "    VT = VT[:s.size]\n",
    "    pcov = np.dot(VT.T / s**2, VT) * s_sq # variance-covariance matrix\n",
    "    return np.sqrt(np.diag(pcov)), s_sq # errors on the params are the diagonal elements of pcov"
   ]
  },
  {
   "cell_type": "code",
   "execution_count": 15,
   "metadata": {
    "slideshow": {
     "slide_type": "skip"
    }
   },
   "outputs": [],
   "source": [
    "table = r\"\"\"| Parameter     | Value         | Error |\n",
    "| :---------------- |:-------------:| :----:|\n",
    "| $F(0)$ (counts)   | %.0f          | %.0f  |\n",
    "| $\\tau_0$ (ns)     | %.1f          | %.1f  |\"\"\""
   ]
  },
  {
   "cell_type": "code",
   "execution_count": 16,
   "metadata": {
    "scrolled": true,
    "slideshow": {
     "slide_type": "slide"
    }
   },
   "outputs": [
    {
     "name": "stdout",
     "output_type": "stream",
     "text": [
      "Reduced chi squared: 1.705759745226174\n"
     ]
    },
    {
     "data": {
      "text/markdown": [
       "| Parameter     | Value         | Error |\n",
       "| :---------------- |:-------------:| :----:|\n",
       "| $F(0)$ (counts)   | 1915          | 6  |\n",
       "| $\\tau_0$ (ns)     | 168.1          | 0.4  |"
      ],
      "text/plain": [
       "<IPython.core.display.Markdown object>"
      ]
     },
     "execution_count": 16,
     "metadata": {},
     "output_type": "execute_result"
    }
   ],
   "source": [
    "p_and_err = np.repeat(res.x, 2)\n",
    "p_and_err[1::2] = error_analysis(res)[0]\n",
    "print('Reduced chi squared:',error_analysis(res)[1])\n",
    "display.Markdown(table % tuple(p_and_err) )"
   ]
  },
  {
   "cell_type": "markdown",
   "metadata": {
    "slideshow": {
     "slide_type": "slide"
    },
    "solution2": "hidden",
    "solution2_first": true
   },
   "source": [
    "##  Task 1\n",
    "- Fit the data for $[$quencher$]$ $=$ 0 using [`optimize.curve_fit`)](https://github.com/scipy/scipy/blob/2526df72e5d4ca8bad6e2f4b3cbdfbc33e805865/scipy/optimize/minpack.py#L739).\n",
    "- Plot the data and the function with the best-fit parameters.\n",
    "- View a markdown table with the best-fit parameters and their uncertainties."
   ]
  },
  {
   "cell_type": "code",
   "execution_count": 17,
   "metadata": {},
   "outputs": [],
   "source": [
    "answer = 'gAAAAABcBDlaRCOfnjUcmToYnEdOciuqiLV8TVxoLmyI1YiwAU8Ux_kcXVgFb-AZ87LV3DggpValGCTdAZ3kfijtjcB-271i1d5gF-7tQzM_XqQpLoChhrOE31dym4nOheTkkMafgMtu5JTS2Xg2WD4ziYF1H4ri2E0zlV_yIdmbJ5X14f6caG3NFES5Y8FLuKBpJpuSYDoCOg3DsRH-_Lo3ZHpLHOe2iKNMyroVgdQ-W44SzRqucnkRv4bK0L3EUcBUHrW-fFhj6veqYTi464yVkNuLGQza0QzEGFvQu8QuBQMaggNw97dllsHpfSCoLh4sCwS6oe9IJLfxHBgusgwQnNcpahJcINmnFMQnRNsQn7bujSnRpEUeORZeQq2S_7OuKKZl2tpJrWtpyRrIophfTmf7fV7daORiXU2W9KAS0Ym0Kft10BfIp_XK7MsbDWHjc4CCj-U6SEx4Mn091ds8Qy-wHsTGxlAAnCLOY2irqVQYuYljzh7oq7iRWYk_sxGCddwSxMX2AsotclVz677gQWZHSHn-2lRVcL8xGQiattT2MicC0Gk2ukG2WdXs_cZHB3J7iBU2ZmMv00ZvYK7QWdEW-CCUhxKPb9daAhCURpXyatMKuZnP8KtCO8nJ9ITluNGFy-6dZ0FdplO9Y7wG7MHoXWJKoSlbXzMMZto5LK1AC_DLEM0ImzLyiQThwBFBpU0DuD1QRyEs4AzF1k3BS_ifpSZ-NXaF2j_pJneJkt7k64tEH7D1Ea9NsD1tLYmU2itKQwHh9BVdFRBJwYgBEoQ-oJAvh91gQxgJLi9gzU4I_kVEZnvnH-THrQ2xOAWdKsfCxXE5gBYNG5thCCsBllUUcB9h4jlVsuBCnx2u1hbrLq7glmWZOrfxUgMjvsYMi_6o5S0qW0XdFz0CjdPJ_E44CDSG30i-4XUE4z4AyrXsZP-8ViBY2vJmiGPNzLhiEv3c6URuS6Qns_EPvGwZQEnLDTeAtLY2owHeEva_gIGkT1U2-KK4CZXESBf9v0yv5ABptx3l_WhxqPIEzCbWvv9j_AU8f6-QT8eQR7a-akKrEaEqR9s_2LAAEN09nAmDHBcIJaKlfp-Zw00MG5UGBKERA4v1V74QoRNHunD3Cq-ZS8ckAiq9F3Tt4Hs0hLghSeujwLgsiQ95G8ktYKIyhnUxgXbwNdMcH5ulCEEgeeUVa6U3XadtVli3KUtKd3AaDGtlpoOZ9LqH6NSkI_mOk2BXiL9ZlVSM4hE_fz3gEt7fCJWd0VnxKGLiKuBNWsj7yc6dSZG6sdHwmVhGHmeY1pMXCN8lN-D3D1yOyzY5eYDtpkhGeJeNSC1Qbklx__ZuHUSbgX94g4tBL9XFnj4m6uSmfntk9KupnX3FWXV_oPVEyBbhEzU='\n"
   ]
  },
  {
   "cell_type": "code",
   "execution_count": 18,
   "metadata": {},
   "outputs": [
    {
     "ename": "TypeError",
     "evalue": "decrypt() missing 1 required positional argument: 'key'",
     "output_type": "error",
     "traceback": [
      "\u001b[0;31m---------------------------------------------------------------------------\u001b[0m",
      "\u001b[0;31mTypeError\u001b[0m                                 Traceback (most recent call last)",
      "\u001b[0;32m<ipython-input-18-aaf621f038fc>\u001b[0m in \u001b[0;36m<module>\u001b[0;34m\u001b[0m\n\u001b[0;32m----> 1\u001b[0;31m \u001b[0mdecrypt\u001b[0m\u001b[0;34m(\u001b[0m\u001b[0manswer\u001b[0m\u001b[0;34m,\u001b[0m\u001b[0;34m)\u001b[0m\u001b[0;34m\u001b[0m\u001b[0;34m\u001b[0m\u001b[0m\n\u001b[0m",
      "\u001b[0;31mTypeError\u001b[0m: decrypt() missing 1 required positional argument: 'key'"
     ]
    }
   ],
   "source": [
    "decrypt(answer,)"
   ]
  },
  {
   "cell_type": "markdown",
   "metadata": {},
   "source": [
    "## Interfacing Python and [R](https://www.r-project.org/about.html)\n",
    "We load the extension [rpy2](https://rpy2.readthedocs.io/en/version_2.8.x/)"
   ]
  },
  {
   "cell_type": "code",
   "execution_count": 19,
   "metadata": {},
   "outputs": [
    {
     "name": "stderr",
     "output_type": "stream",
     "text": [
      "/Users/giulio/miniconda3/envs/LUcompute2/lib/python3.7/site-packages/rpy2/rinterface/__init__.py:146: RRuntimeWarning: During startup - \n",
      "  warnings.warn(x, RRuntimeWarning)\n",
      "/Users/giulio/miniconda3/envs/LUcompute2/lib/python3.7/site-packages/rpy2/rinterface/__init__.py:146: RRuntimeWarning: Warning messages:\n",
      "\n",
      "  warnings.warn(x, RRuntimeWarning)\n",
      "/Users/giulio/miniconda3/envs/LUcompute2/lib/python3.7/site-packages/rpy2/rinterface/__init__.py:146: RRuntimeWarning: 1: Setting LC_COLLATE failed, using \"C\" \n",
      "\n",
      "  warnings.warn(x, RRuntimeWarning)\n",
      "/Users/giulio/miniconda3/envs/LUcompute2/lib/python3.7/site-packages/rpy2/rinterface/__init__.py:146: RRuntimeWarning: 2: Setting LC_TIME failed, using \"C\" \n",
      "\n",
      "  warnings.warn(x, RRuntimeWarning)\n",
      "/Users/giulio/miniconda3/envs/LUcompute2/lib/python3.7/site-packages/rpy2/rinterface/__init__.py:146: RRuntimeWarning: 3: Setting LC_MESSAGES failed, using \"C\" \n",
      "\n",
      "  warnings.warn(x, RRuntimeWarning)\n",
      "/Users/giulio/miniconda3/envs/LUcompute2/lib/python3.7/site-packages/rpy2/rinterface/__init__.py:146: RRuntimeWarning: 4: Setting LC_MONETARY failed, using \"C\" \n",
      "\n",
      "  warnings.warn(x, RRuntimeWarning)\n"
     ]
    }
   ],
   "source": [
    "%load_ext rpy2.ipython"
   ]
  },
  {
   "cell_type": "code",
   "execution_count": 20,
   "metadata": {},
   "outputs": [],
   "source": [
    "X = args[0]\n",
    "Y = args[1]\n",
    "errY = args[2]"
   ]
  },
  {
   "cell_type": "markdown",
   "metadata": {},
   "source": [
    "We send the data from Python to R"
   ]
  },
  {
   "cell_type": "code",
   "execution_count": 21,
   "metadata": {},
   "outputs": [],
   "source": [
    "%Rpush X Y errY"
   ]
  },
  {
   "cell_type": "markdown",
   "metadata": {},
   "source": [
    "We plot the data in R"
   ]
  },
  {
   "cell_type": "code",
   "execution_count": 22,
   "metadata": {},
   "outputs": [
    {
     "data": {
      "image/png": "[encoded data removed]"
     },
     "metadata": {},
     "output_type": "display_data"
    }
   ],
   "source": [
    "%%R\n",
    "plot(X, Y, ylim = range(c(Y-errY, Y+errY)), xlab='t  /  ns', ylab='ln [F(t)]  /  counts', log='y')\n",
    "arrows(X, Y-errY, X, Y+errY, length=0.05, angle=90, code=3)"
   ]
  },
  {
   "cell_type": "markdown",
   "metadata": {},
   "source": [
    "We create a data frame in R"
   ]
  },
  {
   "cell_type": "code",
   "execution_count": 23,
   "metadata": {},
   "outputs": [],
   "source": [
    "%%R\n",
    "df <- data.frame('X' = X, 'Y' = Y)"
   ]
  },
  {
   "cell_type": "markdown",
   "metadata": {},
   "source": [
    "We fit the data without weighting by the error"
   ]
  },
  {
   "cell_type": "code",
   "execution_count": 24,
   "metadata": {},
   "outputs": [
    {
     "data": {
      "text/plain": [
       "\n",
       "Formula: Y ~ F0 * exp(-X/tau0)\n",
       "\n",
       "Parameters:\n",
       "      Estimate Std. Error t value Pr(>|t|)    \n",
       "F0   1967.0350     2.9489   667.0   <2e-16 ***\n",
       "tau0  162.5185     0.3457   470.1   <2e-16 ***\n",
       "---\n",
       "Signif. codes:  0 ‘***’ 0.001 ‘**’ 0.01 ‘*’ 0.05 ‘.’ 0.1 ‘ ’ 1\n",
       "\n",
       "Residual standard error: 19.13 on 952 degrees of freedom\n",
       "\n",
       "Number of iterations to convergence: 4 \n",
       "Achieved convergence tolerance: 7.61e-06\n",
       "\n"
      ]
     },
     "metadata": {},
     "output_type": "display_data"
    }
   ],
   "source": [
    "%%R\n",
    "fit1 <- nls(Y ~ F0 * exp( - X / tau0 ), data=df, start = list(F0 = 2000, tau0 = 100))\n",
    "summary(fit1)"
   ]
  },
  {
   "cell_type": "markdown",
   "metadata": {},
   "source": [
    "We weight by the error and we compare the results of the two approaches"
   ]
  },
  {
   "cell_type": "code",
   "execution_count": 25,
   "metadata": {},
   "outputs": [
    {
     "data": {
      "text/plain": [
       "\n",
       "Formula: Y ~ F0 * exp(-X/tau0)\n",
       "\n",
       "Parameters:\n",
       "      Estimate Std. Error t value Pr(>|t|)    \n",
       "F0   1915.4171     6.3860   299.9   <2e-16 ***\n",
       "tau0  168.1366     0.4201   400.2   <2e-16 ***\n",
       "---\n",
       "Signif. codes:  0 ‘***’ 0.001 ‘**’ 0.01 ‘*’ 0.05 ‘.’ 0.1 ‘ ’ 1\n",
       "\n",
       "Residual standard error: 1.306 on 952 degrees of freedom\n",
       "\n",
       "Number of iterations to convergence: 5 \n",
       "Achieved convergence tolerance: 3.486e-06\n",
       "\n"
      ]
     },
     "metadata": {},
     "output_type": "display_data"
    },
    {
     "data": {
      "image/png": "[encoded data removed]"
     },
     "metadata": {},
     "output_type": "display_data"
    }
   ],
   "source": [
    "%%R\n",
    "plot(Y ~ X, data=df, xlab='t  /  ns', ylab='ln [F(t)]  /  counts', log='y' )\n",
    "\n",
    "fit2 <- nls(Y ~ F0 * exp( - X / tau0 ), data=df, start = list(F0 = 2000, tau0 = 100), weights=1/Y)\n",
    "\n",
    "curve(predict(fit2, newdata = data.frame(X=x)), add=TRUE, lwd=4, col='red')\n",
    "\n",
    "curve(predict(fit1, newdata = data.frame(X=x)), add=TRUE, lwd=4, col='blue')\n",
    "\n",
    "legend(400, 1500, legend=c('weighting','w/o weighting'),\n",
    "       col=c(\"red\", \"blue\"), lwd=4, cex=1.5)\n",
    "\n",
    "summary(fit2)"
   ]
  },
  {
   "cell_type": "markdown",
   "metadata": {},
   "source": [
    "We calculate the residual variance"
   ]
  },
  {
   "cell_type": "code",
   "execution_count": 40,
   "metadata": {},
   "outputs": [
    {
     "data": {
      "text/plain": [
       "[1] 1.70576\n"
      ]
     },
     "metadata": {},
     "output_type": "display_data"
    }
   ],
   "source": [
    "%%R\n",
    "sum(residuals(fit2))/952"
   ]
  },
  {
   "cell_type": "markdown",
   "metadata": {
    "slideshow": {
     "slide_type": "slide"
    }
   },
   "source": [
    "## Global Least-Squares Fit\n",
    "\n",
    "Now we performa a global fit of the 5 curves with increasing [quencher]: $F(0)$, $\\tau_0$, and $k_q$ are global parameters whereas $m$ depends on [quencher].\n",
    "* We create 3 lists (for x, y, and yerr) each containing 5 `NumPy` arrays (for the 5 curves).\n",
    "* We create a list called args containing the 3 lists (allx, ally, allyerr)"
   ]
  },
  {
   "cell_type": "code",
   "execution_count": null,
   "metadata": {
    "slideshow": {
     "slide_type": "fragment"
    }
   },
   "outputs": [],
   "source": [
    "# args is a list of three lists containing 5 numpy arrays\n",
    "args = [ [data.loc[conc][col] for conc in concs] for col in ['t','F','errF'] ] \n",
    "param0 = [3000, 160, 0.04, 0] + [0.5]*4 # initial parameters\n",
    "lbound = [0, 0, 0] + [0]*5              # lower bound\n",
    "ubound = [4000, 200, 1, 1e-5] + [3]*4   # upper bound"
   ]
  },
  {
   "cell_type": "markdown",
   "metadata": {
    "slideshow": {
     "slide_type": "slide"
    }
   },
   "source": [
    "In the residuals function, we calculate the vector of residuals for each curve which appended to a single 1D `NumPy` array."
   ]
  },
  {
   "cell_type": "code",
   "execution_count": null,
   "metadata": {
    "slideshow": {
     "slide_type": "fragment"
    }
   },
   "outputs": [],
   "source": [
    "# we define the function for the intensity decay\n",
    "def decay(x, param):\n",
    "    return param[0]*np.exp( - x/param[1] + param[3]*np.expm1(-param[2]*x) ) \n",
    "# we define the function that calculates the least squares\n",
    "def residuals(p, *args):\n",
    "    residuals = np.empty(0)\n",
    "    for i,m in enumerate(p[3:]):\n",
    "        param = p[0], p[1], p[2], m\n",
    "        r = ( args[1][i] - decay(args[0][i], param) ) / args[2][i]\n",
    "        residuals = np.append(residuals, r)\n",
    "    return residuals"
   ]
  },
  {
   "cell_type": "code",
   "execution_count": null,
   "metadata": {
    "slideshow": {
     "slide_type": "slide"
    }
   },
   "outputs": [],
   "source": [
    "res = least_squares(residuals, x0=param0, args=args, bounds=[lbound,ubound])\n",
    "c = plt.rcParams['axes.prop_cycle'].by_key()['color']\n",
    "p = res['x']\n",
    "for i,m in enumerate(p[3:]):\n",
    "        param = p[0], p[1], p[2], m\n",
    "        plt.fill_between(args[0][i],args[1][i]-args[2][i],args[1][i]+args[2][i],alpha=.7)\n",
    "        plt.plot(args[0][i],decay(args[0][i],param),lw=1,color=c[i],label='{:1.1f}'.format(concs[i])+' mM')\n",
    "plt.yscale('log'); plt.legend(title='[quencher]',labelspacing=.7)\n",
    "plt.ylabel('$\\ln F(t)$ / counts'); plt.xlabel('$t$ / ns'); \n",
    "print('Reduced chi squared:',error_analysis(res)[1])"
   ]
  },
  {
   "cell_type": "markdown",
   "metadata": {},
   "source": [
    "Instead of using markdown to view the results in a table, we create a `pandas` DataFrame."
   ]
  },
  {
   "cell_type": "code",
   "execution_count": null,
   "metadata": {},
   "outputs": [],
   "source": [
    "table = pd.DataFrame({'Value':res.x,'Error':error_analysis(res)[0]},\n",
    "             index=['$F(0)$ (counts)','$\\tau_0$ (ns)','$k_q$ (ns$^{-1}$)','$m_0$','$m_1$','$m_2$','$m_3$','$m_4$'],\n",
    "            columns=['Value','Error'])\n",
    "table"
   ]
  },
  {
   "cell_type": "code",
   "execution_count": null,
   "metadata": {},
   "outputs": [],
   "source": [
    "print(table.to_latex())"
   ]
  },
  {
   "cell_type": "markdown",
   "metadata": {
    "slideshow": {
     "slide_type": "slide"
    },
    "solution2": "hidden",
    "solution2_first": true
   },
   "source": [
    "## Task 2 \n",
    "Take the logarithm of each curve and perform a global fit to $\\ln F(t) = \\ln F(0) - t/\\tau_0 + m [\\exp(-k_q t) -1]$ using `least_square`.\n",
    "1. Modify the `NumPy` arrays in args[1] by taking the `np.log`.\n",
    "```.py\n",
    "data = pd.read_pickle('data/fluorescence.p')\n",
    "allx = []; ally = []; allyerr = [] # three empty lists\n",
    "for conc in data.columns:\n",
    "    allx.append(data[conc]['t']); ally.append(data[conc]['F']); allyerr.append(data[conc]['Ferr'])\n",
    "args = allx, ally, allyerr # args is a list of three lists containing 5 numpy arrays\n",
    "for i in range( data.columns.size ):\n",
    "    args[1][i] = ?\n",
    "    args[2][i] = ? \n",
    "```\n",
    "2. Modify the `NumPy` arrays in args[2] according to the error propagation rule: error$(\\ln F)$ = error($F$) / $F$.\n",
    "3. Define a new fitting function for the linearized equation. \n",
    "4. Fitting and plotting can be carried out exactly as in the previous cell."
   ]
  },
  {
   "cell_type": "code",
   "execution_count": null,
   "metadata": {},
   "outputs": [],
   "source": [
    "answer = 'gAAAAABcBbngbWGpiSxC5RJ77Vi6yfGEXVT93gqOhJFIYQOPDYiy5ygTjDywMIFhjBoc40NOdmF7_xxNU8ZueTjXVWgNa-du0iBv0jp-gt0xP0a-CD9L4cDzi1UDCQvuS7koOuZu103K68ycdjrLP36WW-JmHGZL06hx0VqQ8DfwQ-BfKMTvk55QXER-o2_bGxqGZYlKvcRAvN6FDBqxWSj0PUxq-YGros566TcIrf45EHvxJiB3FrDoUlLDBGvi_7mOMzvnM4zTH8hgLL7CZam9vx-atRkuGQ29y9iTh7MQDhNdtMmJPLv9xMgzRqJ9hP5-X_cySV2tlG21pNcEvTJqYIC7UfWvdfSS430x40aY5unGeNEKUgBAhHWlnHxl6mf8oewmsLnGSYgDnd8MO0VvEpl7VY1IXFTghbUVbG2wfdA18bLQBMEzgf6uK21iMo60DLwJFfci6SwC2fQsQGcNSHJiPhNdyzCIRmKgSkFQDw-CXKF8hHpiAkX0SdcOpegPMuFlSvbfNR_teoTyJemwYosvtGShvSSsbtJj0juSP6fsuGpJ1iRkio8rm8VfdISbXstnFw8ZCiigMDd0DXJL9bfJxYSko2BRAYrzax2nkRGZjGuxsuo20Im_0_4zacxL-pX_VdaLvwsifqOrDQKW7QHLKK4bTEZ-iRoLKI0hd_2JYcrASNTcSE_hmnIDHke4ki2YYpfOU-F-KAHDpefJ2tNH2USCEzuW6Wx9khxquCMgB637Z3up_RSzNdONCyFyX69878CpYR6bRT6kP25MpiUidhYf3WFRTleCIdmx6vdU_G2ug7mbrKQvCW2lmVxlrY-HmkEepqDqJydmpv_4D7pXr28Kwv_EDk-MLbjzrunG5NmfoDPxqMgoXT8mT5Yf23a0bF2qkm1ZhUYdk-0BeIcQ4JZgv_xTCwcWOilQ7oUjAHJa1BpoJI02HAUVOPO643r744w2FNOypIGQRkw3lQoQt176aAbOc9k_MkPErdin5YqZBsK6kppqlAwx_K0mjuh-6uodl_LfVv4UnsE0OvA2uazrPx0qKwp2YSKJO6pUtROEF12K5vHbu_ydVLOaxE8miPshxZm4uVAZelKE1Z5rhKaqmmUNKTjZ9PdeiFns63O6vW2BtPsHJrQQabkXHNfDBeQXPwE-a7wiV3IaT6IXTSZIgWLMWft8QduMabUruM5brgN-bnoAA7AR1ezaLMGvlV7nppyX2F8Lnr8XMtGy2MTDGzchfwxjpf-p4ZEYdsy-R1yHPZXnWoUJv34N4F33heiqwsmzFELx0CPo5DO8X9TM3VRPWRKF2k2UYkwMVI6nKTJe5v2tHY2tJ4JC79zurCAVp7KXtvxcABeuBTAqReaRi7gqy9ASIWnsfribaK683FXes2sVTcX7WJQ9GAN1UOVBLzuBekkeuxi7nlPSg0CXEoofxhpLeautHhx_EMsn2D_lLJjKVlNOrUL_g-7gPj419sOKejraRMtho9Foa2xE-fN7FNww20T4UlVyNBjqQHy4sH9mTYHp4TMBPgvU_OLit6T0tdf_Npc89ns4Oz9Tv-oXqJYnJhfT22VdbHvrZnWPikoAjguOroUrW3zgLaYeJL-vVcbZBIyV6RZu8LKuIq2hEXbaFODdlLhP1q5jt8bEzBTml_VpyxjuVMxNiQSU9DemOuS0A-Q4SO-_w9EboghUOb7_OmNBRXIKYMO-szKcOoDzx2EQemFngHbZTunXpR5pszWBtIvMj1F7g-SGYT2N5FJeNLJmiiA7w3TK70iI7vreadGgrg3k0sGsdzuW7fAHXr4oNnxSLgUYjX-yGPezC3tvKaYZe34d8uilTUrU3JbHZdPjfxuDCbM8I000pA233pa9Lui6yOZxFjdBJXtNSagxLBXf77YAy7WCYjvzS83FfpjyMO4bDN3PVhYbKRy_A2MzCBHpvAgxtR-xHBkI8D-LqpDADwYbUtwEKoOatEnBrjvzpFgFQMPImoiYxDGRHoQQyAOhu59u4hf7jmTunUF_AgGfwT-tUno-Yq94cyg9qdrY1_WK732IrpD-Nud5Kz4EEL5cKw4As7fumVQtiLwgNETgakjswQu3J2budl61VUmaBIe490ZaClZn18Y5IQmm2L7mo94q8mU8mmY1FH3rLooJSMBSfSfDT5mUc5T_iibyEjFov499nEu1XowTEMw2wkT0AzoUXqNCLbMfTmLDOjCWSTeLNQYvIk4S8Uf9D-K-bs7kL5h8aGMQlVszl13HGnt5SlHNqxOVgF016ryD6zMHQPY6Zobu-0x1JvjDbYfJAFXd1yrcSvLDtOGgGd8bEG5D1EPmVnLYVX4G6I4v2bW4NQ1vO44_G3qG74to1NOTral8ONcXNym6EOWqShyYcFZBbJupAwDMyclYF2eUJWsRpzWxhCwKkDQCbdVFJRRlAbphltKqbMaBRO8lDvlkMsGdbdaumPhO-Bs8auANK5UktYjLfe362yvDGNPlceClQT3x_3tUe4I0pkphY-GSccfDcS0uhIZDGYtFDg9V5DOv6nA6Eh5h96NsiZkY2J0pRdKaLEJIcEobhpvOFQQUgMZGebHLsMXxp0kfCSdLakydSvxeud_Cxu6zU18OnuFIledn1MtjWwJbwui7O2OBR7_GxA5qtAWVfpdycrM1njr2FYip2wbR18eI9CJg7iRILo2UMcryPZFgF86ex6TB_rH1-A9pWrryGrJ70-FriNuklt6YI1VhCPbG9qCm79yembK_3zZ2tetPZBgh1dPyYSA4LAThcoEByTF0iUqx3mcjgROlKtjNkez0ZQCTddIMojR4BKkfg4Uc7JQcba3WY2xNiwsUy38l6KzOSDWHIjO_YDG13M_2KUWWDuckebG15KZUJJeKZi94'\n"
   ]
  },
  {
   "cell_type": "code",
   "execution_count": null,
   "metadata": {},
   "outputs": [],
   "source": [
    "decrypt(answer,)"
   ]
  }
 ],
 "metadata": {
  "kernelspec": {
   "display_name": "Python 3",
   "language": "python",
   "name": "python3"
  },
  "language_info": {
   "codemirror_mode": {
    "name": "ipython",
    "version": 3
   },
   "file_extension": ".py",
   "mimetype": "text/x-python",
   "name": "python",
   "nbconvert_exporter": "python",
   "pygments_lexer": "ipython3",
   "version": "3.7.1"
  }
 },
 "nbformat": 4,
 "nbformat_minor": 2
}
