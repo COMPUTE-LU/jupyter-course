{
 "cells": [
  {
   "cell_type": "markdown",
   "metadata": {
    "slideshow": {
     "slide_type": "slide"
    }
   },
   "source": [
    "## Publication-Ready Plots with Matplotlib\n",
    "<img src=\"https://matplotlib.org/_static/logo2.svg\" width=\"300\" align=\"left\"/>"
   ]
  },
  {
   "cell_type": "code",
   "execution_count": null,
   "metadata": {
    "collapsed": true,
    "slideshow": {
     "slide_type": "fragment"
    }
   },
   "outputs": [],
   "source": [
    "import numpy as np\n",
    "import matplotlib as mpl\n",
    "import matplotlib.pyplot as plt"
   ]
  },
  {
   "cell_type": "markdown",
   "metadata": {
    "slideshow": {
     "slide_type": "slide"
    }
   },
   "source": [
    "### Runtime configuration parameters\n",
    "The default `Matplotlib` parameters can be checked and modified"
   ]
  },
  {
   "cell_type": "code",
   "execution_count": null,
   "metadata": {
    "collapsed": true,
    "slideshow": {
     "slide_type": "fragment"
    }
   },
   "outputs": [],
   "source": [
    "print(plt.rcParams)"
   ]
  },
  {
   "cell_type": "markdown",
   "metadata": {
    "slideshow": {
     "slide_type": "slide"
    }
   },
   "source": [
    "#### Let's plot a Poisson distribution of mean 9 and standard deviation $\\sqrt{9}$"
   ]
  },
  {
   "cell_type": "code",
   "execution_count": null,
   "metadata": {
    "collapsed": true,
    "slideshow": {
     "slide_type": "fragment"
    }
   },
   "outputs": [],
   "source": [
    "s = np.random.poisson(9,int(1e6))\n",
    "print('mean:',s.mean())\n",
    "print('standard deviation:',s.std())\n",
    "counts, bins = np.histogram(s,range(20))\n",
    "plt.plot(bins[:-1],counts)\n",
    "plt.xlabel('$n$')\n",
    "plt.ylabel('$P(n)$'); plt.show()"
   ]
  },
  {
   "cell_type": "markdown",
   "metadata": {
    "slideshow": {
     "slide_type": "slide"
    },
    "solution2": "hidden",
    "solution2_first": true
   },
   "source": [
    "#### Task: Change colors, line widths, and line styles to generate the plot below\n",
    "* Common colors are 'black' ('k'), 'white' ('w'), 'red' ('r'), 'green' ('g'), 'blue' ('b')\n",
    "* Common line styles are 'solid' ('-'), 'dashed' ('--'), 'dotted' (':'), 'dashdot' ('-:')<br>\n",
    "<img src=\"figs/colorsls.png\" width=\"600\" align=\"left\"/>"
   ]
  },
  {
   "cell_type": "code",
   "execution_count": null,
   "metadata": {
    "collapsed": true,
    "slideshow": {
     "slide_type": "slide"
    },
    "solution2": "hidden"
   },
   "outputs": [],
   "source": [
    "plt.plot(bins[:-1],counts,lw=4,color='k',ls='-')\n",
    "plt.plot(bins[:-1],-counts,lw=4,color='g',ls='--')\n",
    "plt.plot(bins[:-1]+5,counts,lw=4,color='b',ls='-.')\n",
    "plt.plot(bins[:-1]+5,-counts,lw=4,color='r',ls=':')\n",
    "plt.xlabel('$n$'); plt.ylabel('$P(n)$'); plt.savefig('figs/colorsls.png',dpi=300); plt.show()"
   ]
  },
  {
   "cell_type": "markdown",
   "metadata": {
    "slideshow": {
     "slide_type": "slide"
    }
   },
   "source": [
    "#### Changing figure size (3.25 inches is generally the [maximum width of a single column illustration](http://pubs.acs.org/page/4authors/submission/graphics_prep.html)), font sizes, line widths, and tick length"
   ]
  },
  {
   "cell_type": "code",
   "execution_count": null,
   "metadata": {
    "collapsed": true,
    "slideshow": {
     "slide_type": "fragment"
    }
   },
   "outputs": [],
   "source": [
    "plt.rcParams.update({'figure.figsize': [3.25, 3.25], \n",
    "                     'xtick.major.size':4,'ytick.major.size':4,\n",
    "                     'xtick.direction':'in','ytick.direction':'in',\n",
    "                     'xtick.labelsize':8,'ytick.labelsize':8,\n",
    "                     'xtick.major.pad':5,'ytick.major.pad':5,\n",
    "                     'axes.linewidth':1.1,'axes.labelsize':12,})\n",
    "plt.plot(bins[:-1],counts,lw=3)\n",
    "plt.xlabel('$n$'); plt.ylabel('$P(n)$')\n",
    "plt.tight_layout(); plt.show()"
   ]
  },
  {
   "cell_type": "markdown",
   "metadata": {
    "slideshow": {
     "slide_type": "slide"
    }
   },
   "source": [
    "#### Saving the plot as a .png figure without using `plt.tight_layout()`\n",
    "When we save the figure, we set the dpi (dots per inch) to 300 or 600 (good resolution)"
   ]
  },
  {
   "cell_type": "code",
   "execution_count": null,
   "metadata": {
    "collapsed": true,
    "slideshow": {
     "slide_type": "fragment"
    }
   },
   "outputs": [],
   "source": [
    "plt.plot(bins[:-1],counts,lw=3)\n",
    "plt.xlabel('$n$'); plt.ylabel('$P(n)$')\n",
    "plt.savefig('figs/figure1.png',dpi=300)\n",
    "plt.show()"
   ]
  },
  {
   "cell_type": "markdown",
   "metadata": {
    "slideshow": {
     "slide_type": "slide"
    }
   },
   "source": [
    "#### Loading and plotting an image as a 2D array\n",
    "We load figure1.png: it contains 975x975 pixels; color described by 4 numbers.<br>"
   ]
  },
  {
   "cell_type": "code",
   "execution_count": null,
   "metadata": {
    "collapsed": true,
    "slideshow": {
     "slide_type": "fragment"
    }
   },
   "outputs": [],
   "source": [
    "img = mpl.image.imread('figs/figure1.png',format='png') # image is a method of matplotlib\n",
    "print(type(img), img.shape)\n",
    "plt.imshow(img,interpolation='quadric') # plots a 2D array as a color-map\n",
    "plt.axis('off'); plt.show()"
   ]
  },
  {
   "cell_type": "markdown",
   "metadata": {
    "slideshow": {
     "slide_type": "slide"
    }
   },
   "source": [
    "#### To automatically adjust the figure parameters (font sizes are maintained) so that the whole plots fits in the canvas, we use `plt.tight_layout()`"
   ]
  },
  {
   "cell_type": "code",
   "execution_count": null,
   "metadata": {
    "collapsed": true,
    "slideshow": {
     "slide_type": "fragment"
    }
   },
   "outputs": [],
   "source": [
    "plt.plot(bins[:-1],counts,lw=3)\n",
    "plt.xlabel('$n$'); plt.ylabel('$P(n)$')\n",
    "plt.tight_layout()\n",
    "plt.savefig('figs/figure2.png',dpi=300)\n",
    "plt.show()"
   ]
  },
  {
   "cell_type": "code",
   "execution_count": null,
   "metadata": {
    "collapsed": true,
    "slideshow": {
     "slide_type": "slide"
    }
   },
   "outputs": [],
   "source": [
    "img = mpl.image.imread('figs/figure2.png')\n",
    "print(type(img), img.shape)\n",
    "plt.imshow(img,interpolation='quadric')\n",
    "plt.axis('off'); plt.savefig('figs/figure3.png',dpi=300); plt.show()"
   ]
  },
  {
   "cell_type": "markdown",
   "metadata": {
    "slideshow": {
     "slide_type": "slide"
    },
    "solution2": "hidden",
    "solution2_first": true
   },
   "source": [
    "#### Task: Divide the y-values by 10$^5$ and change x- and y-labels to $\\xi$ and $P(\\xi)$ $\\times$ 10$^{-5}$, respectively.\n",
    "When using LaTeX math mode (_e.g._ '\\$\\alpha\\$', '\\$\\times\\$', '\\$\\sum_0^\\infty\\$') it is reccommended to write the letter r before the quotes. This way the backslash is not interpreted as the beginning of an escape sequence (_e.g._ '\\t' tab, '\\n' new line). "
   ]
  },
  {
   "cell_type": "code",
   "execution_count": null,
   "metadata": {
    "collapsed": true,
    "slideshow": {
     "slide_type": "fragment"
    },
    "solution2": "hidden"
   },
   "outputs": [],
   "source": [
    "plt.plot(bins[:-1],counts/1e5,lw=3)\n",
    "plt.xlabel(r'$\\xi$'); plt.ylabel(r'$P(\\xi)$ $\\times$ 10$^{-5}$')\n",
    "plt.tight_layout(); plt.show()"
   ]
  },
  {
   "cell_type": "markdown",
   "metadata": {
    "slideshow": {
     "slide_type": "slide"
    },
    "solution2": "hidden"
   },
   "source": [
    "It is also possible to use unicode characters by writing u before the string. In the following we are writing Å using unicode in the x-label and LaTeX in the y-label"
   ]
  },
  {
   "cell_type": "code",
   "execution_count": null,
   "metadata": {
    "collapsed": true,
    "slideshow": {
     "slide_type": "fragment"
    },
    "solution2": "hidden"
   },
   "outputs": [],
   "source": [
    "plt.plot(np.arange(10),np.arange(10)**2,lw=3)\n",
    "plt.xlabel(u'$x$ (Å)'); plt.ylabel(r'x$^2$  ($\\rm{\\AA}^2$)')\n",
    "plt.tight_layout(); plt.show()"
   ]
  },
  {
   "cell_type": "markdown",
   "metadata": {
    "slideshow": {
     "slide_type": "slide"
    },
    "solution2": "hidden"
   },
   "source": [
    "#### Available Styles"
   ]
  },
  {
   "cell_type": "code",
   "execution_count": null,
   "metadata": {
    "collapsed": true,
    "slideshow": {
     "slide_type": "fragment"
    },
    "solution2": "hidden"
   },
   "outputs": [],
   "source": [
    "plt.style.available"
   ]
  },
  {
   "cell_type": "markdown",
   "metadata": {
    "slideshow": {
     "slide_type": "slide"
    },
    "solution2": "hidden"
   },
   "source": [
    "#### Restoring the default rcParams, changing the style, and assigning custom labels to axis ticks"
   ]
  },
  {
   "cell_type": "code",
   "execution_count": null,
   "metadata": {
    "collapsed": true,
    "slideshow": {
     "slide_type": "fragment"
    },
    "solution2": "hidden"
   },
   "outputs": [],
   "source": [
    "plt.rcdefaults()\n",
    "mpl.style.use('seaborn-darkgrid')\n",
    "plt.figure(figsize=[4,2]) # alternative to changing rcParams\n",
    "yticks_labels = ['{:1.1e}'.format(y) for y in range(25000,125100,25000)]\n",
    "xticks_labels = ['$n={:1d}$'.format(y) for y in range(0,19,4)]\n",
    "plt.plot(bins[:-1],counts,lw=3)\n",
    "plt.yticks(range(25000,125100,25000),yticks_labels)\n",
    "plt.xticks(range(0,19,4),xticks_labels)\n",
    "plt.ylabel('$P(n)$',fontsize=14) # alternative to changing rcParams\n",
    "plt.show()"
   ]
  },
  {
   "cell_type": "markdown",
   "metadata": {
    "slideshow": {
     "slide_type": "slide"
    },
    "solution2": "hidden",
    "solution2_first": true
   },
   "source": [
    "#### Task: change the style to 'seaborn-white' and show only horizontal grid lines using `plt.grid()`"
   ]
  },
  {
   "cell_type": "code",
   "execution_count": null,
   "metadata": {
    "collapsed": true,
    "slideshow": {
     "slide_type": "fragment"
    },
    "solution2": "hidden"
   },
   "outputs": [],
   "source": [
    "mpl.style.use('seaborn-white')\n",
    "plt.figure(figsize=[4,2]) # alternative to changing rcParams\n",
    "plt.plot(bins[:-1],counts,lw=3)\n",
    "plt.yticks(range(25000,125100,25000),yticks_labels)\n",
    "plt.xticks(range(0,19,4),xticks_labels)\n",
    "plt.grid(axis='y')\n",
    "plt.ylabel('$P(n)$') # alternative to changing rcParams\n",
    "plt.show()"
   ]
  },
  {
   "cell_type": "markdown",
   "metadata": {
    "slideshow": {
     "slide_type": "slide"
    },
    "solution2": "hidden",
    "solution2_first": true
   },
   "source": [
    "#### Task: \n",
    "* plot $\\exp(-x)$ in $x\\in[-10, 10]$\n",
    "* assign a log-scale for the y-axis using `plt.yscale()`\n",
    "* change the length of major and minor ticks to 6 and 3"
   ]
  },
  {
   "cell_type": "code",
   "execution_count": null,
   "metadata": {
    "collapsed": true,
    "slideshow": {
     "slide_type": "slide"
    },
    "solution2": "hidden"
   },
   "outputs": [],
   "source": [
    "plt.rcParams.update({'xtick.major.size':6,'ytick.major.size':6,\n",
    "                     'xtick.minor.size':3,'ytick.minor.size':3})\n",
    "x = np.linspace(-10,10,1001)\n",
    "plt.plot(x,np.exp(-x),lw=3)\n",
    "plt.yscale('log'); plt.xlabel('$x$',fontsize=16); plt.ylabel('$f(x)$',fontsize=16); plt.show()"
   ]
  },
  {
   "cell_type": "markdown",
   "metadata": {
    "slideshow": {
     "slide_type": "slide"
    },
    "solution2": "hidden"
   },
   "source": [
    "#### Adding a legend"
   ]
  },
  {
   "cell_type": "code",
   "execution_count": null,
   "metadata": {
    "collapsed": true,
    "slideshow": {
     "slide_type": "fragment"
    },
    "solution2": "hidden"
   },
   "outputs": [],
   "source": [
    "plt.plot(x, np.exp(-x/5), lw=3, label=r'$\\tau=5$ s'); plt.plot(x, np.exp(-x/2), lw=3, label=r'$\\tau=2$ s')\n",
    "plt.yscale('log'); plt.xlabel('$t$ (s)',fontsize=16); plt.ylabel('$f(t)$',fontsize=16)\n",
    "plt.legend(loc='upper right',markerfirst=False,title='Legend',frameon=True,shadow=True,fancybox=True)\n",
    "plt.show()"
   ]
  },
  {
   "cell_type": "markdown",
   "metadata": {
    "slideshow": {
     "slide_type": "slide"
    },
    "solution2": "hidden"
   },
   "source": [
    "#### The default colors are determined by the `cycler` object"
   ]
  },
  {
   "cell_type": "code",
   "execution_count": null,
   "metadata": {
    "collapsed": true,
    "slideshow": {
     "slide_type": "fragment"
    },
    "solution2": "hidden"
   },
   "outputs": [],
   "source": [
    "plt.rcdefaults(); colors = plt.rcParams['axes.prop_cycle'].by_key()['color']; print(colors)"
   ]
  },
  {
   "cell_type": "code",
   "execution_count": null,
   "metadata": {
    "collapsed": true,
    "slideshow": {
     "slide_type": "slide"
    },
    "solution2": "hidden"
   },
   "outputs": [],
   "source": [
    "plt.rcParams.update({'figure.figsize':[8,3],'legend.handlelength':1, 'legend.frameon':False})                 \n",
    "for n in range(3,13):\n",
    "    s = np.random.poisson(n,int(1e6)); counts, bins = np.histogram(s,range(26))\n",
    "    plt.plot(bins[:-1],counts,label='mean = '+str(n),lw=4)\n",
    "    plt.xlabel('$n$'); plt.ylabel('$P(n)$'); plt.legend(ncol=2)\n",
    "plt.show()"
   ]
  },
  {
   "cell_type": "markdown",
   "metadata": {
    "slideshow": {
     "slide_type": "slide"
    },
    "solution2": "hidden"
   },
   "source": [
    "#### Annotate a point with text or arrows"
   ]
  },
  {
   "cell_type": "code",
   "execution_count": null,
   "metadata": {
    "collapsed": true,
    "slideshow": {
     "slide_type": "fragment"
    },
    "solution2": "hidden"
   },
   "outputs": [],
   "source": [
    "plt.plot(np.arange(10),np.arange(10)*2+1)\n",
    "plt.xlim(2,4.5); plt.ylim(5,10)\n",
    "plt.xlabel('x-axis'); plt.ylabel('y-axis')\n",
    "plt.title('A Plot')\n",
    "plt.annotate('a',(4,6),xycoords='data',fontsize=22)\n",
    "plt.annotate('',xy=(2.5,9),xytext=(4,6),xycoords='data',textcoords='data',\n",
    "            arrowprops=dict(arrowstyle=\"<-\",connectionstyle=\"arc3\"))\n",
    "plt.show()"
   ]
  },
  {
   "cell_type": "markdown",
   "metadata": {
    "slideshow": {
     "slide_type": "slide"
    },
    "solution2": "hidden",
    "solution2_first": true
   },
   "source": [
    "#### Task: annotate the middle point  of the plot above with text 'here' using 'axes fraction' as the coordinate system"
   ]
  },
  {
   "cell_type": "code",
   "execution_count": null,
   "metadata": {
    "collapsed": true,
    "slideshow": {
     "slide_type": "fragment"
    },
    "solution2": "hidden"
   },
   "outputs": [],
   "source": [
    "plt.plot(np.arange(10),np.arange(10)*2+1)\n",
    "plt.xlim(2,4.5); plt.ylim(5,10)\n",
    "plt.xlabel('x-axis'); plt.ylabel('y-axis')\n",
    "plt.title('A Plot')\n",
    "plt.annotate('here',(.5,.5),xycoords='axes fraction',fontsize=22)\n",
    "plt.show()"
   ]
  },
  {
   "cell_type": "markdown",
   "metadata": {
    "slideshow": {
     "slide_type": "slide"
    },
    "solution2": "hidden"
   },
   "source": [
    "### Compositing several plots in one figure\n",
    "So far, we have been generating single plots using the $pyplot$ (`plt`) interface. For more complex figures, we are going to use the $object-oriented$ interface where we declare explicity both `Figure` and `Axes` objects (_i.e._ the canvas and the subplots).<br>\n",
    "The methods of the `Axes` object differ slightly from those of `pyplot`. For instance, `ylabel` -> `set_ylabel` or `axis('off')` -> `set_axis_off()`.<br>"
   ]
  },
  {
   "cell_type": "code",
   "execution_count": null,
   "metadata": {
    "collapsed": true,
    "slideshow": {
     "slide_type": "slide"
    },
    "solution2": "hidden"
   },
   "outputs": [],
   "source": [
    "fig = plt.figure()\n",
    "ax = plt.axes()\n",
    "ax.plot(np.arange(10),np.arange(10)*2+1)\n",
    "ax.set_xlim(2,4.5); ax.set_ylim(5,10)\n",
    "ax.set_xlabel('x-axis'); ax.set_ylabel('y-axis')\n",
    "ax.set_title('A Plot')\n",
    "ax.annotate('a',(4,6),xycoords='data',fontsize=22)\n",
    "ax.annotate('',xy=(2.5,9),xytext=(4,6),xycoords='data',textcoords='data',\n",
    "            arrowprops=dict(arrowstyle=\"<-\",connectionstyle=\"arc3\"))\n",
    "plt.show()"
   ]
  },
  {
   "cell_type": "markdown",
   "metadata": {
    "slideshow": {
     "slide_type": "slide"
    },
    "solution2": "hidden"
   },
   "source": [
    "#### Creating regular grids of subplots in one go"
   ]
  },
  {
   "cell_type": "code",
   "execution_count": null,
   "metadata": {
    "collapsed": true,
    "slideshow": {
     "slide_type": "slide"
    },
    "solution2": "hidden"
   },
   "outputs": [],
   "source": [
    "# we specify the number of rows, columns and where subplots share the x- or y-axis\n",
    "f, (ax1, ax2, ax3) = plt.subplots(1, 3, sharex=True, sharey=True)\n",
    "letters = ['A','B','C']\n",
    "for i,ax in enumerate(f.axes):\n",
    "    ax.plot(x,np.sinc(x),color=colors[i])\n",
    "    ax.annotate(letters[i],xy=(0.75,.8), fontsize=24, xycoords='axes fraction', color='k')\n",
    "    ax.set_yticks(np.arange(0,1.2,.25))\n",
    "ax2.set_yticks(np.arange(0,1.2,.25),['']*5)\n",
    "ax2.yaxis.set_ticks_position('both')\n",
    "ax3.yaxis.set_label_position(\"right\")\n",
    "ax3.yaxis.set_ticks_position('right')\n",
    "plt.show()"
   ]
  },
  {
   "cell_type": "markdown",
   "metadata": {
    "slideshow": {
     "slide_type": "slide"
    },
    "solution2": "hidden",
    "solution2_first": true
   },
   "source": [
    "#### Task: generate the plot shown below using `subplots()`\n",
    "<img src=\"figs/subplots.png\" width=\"600\" align=\"left\"/>"
   ]
  },
  {
   "cell_type": "code",
   "execution_count": null,
   "metadata": {
    "collapsed": true,
    "slideshow": {
     "slide_type": "slide"
    },
    "solution2": "hidden",
    "solution2_first": true
   },
   "outputs": [],
   "source": [
    "f, ((ax1, ax2)) = plt.subplots(2, 1, sharex=False, sharey=False)\n",
    "ax1.plot(np.arange(0,np.pi*4,.1),np.cos(np.arange(0,np.pi*4,.1)),color='r',lw=2,ls='--')\n",
    "ax2.plot(np.arange(0,np.pi*10,.1),np.sin(np.arange(0,np.pi*10,.1)),color='k',lw=2,ls='--')\n",
    "ax1.set_ylabel('cosine'); ax2.set_ylabel('sine'); ax1.set_xlim(0,13.5); ax2.set_xlim(0,32) \n",
    "ax1.set_xlabel(r'$\\alpha$ / rad'); ax2.set_xlabel(r'$\\theta$ / rad')\n",
    "ax1.annotate('a',xy=(0.95,.7), fontsize=18, xycoords='axes fraction')\n",
    "ax2.annotate('b',xy=(0.95,.7), fontsize=18, xycoords='axes fraction')\n",
    "ax1.xaxis.set_label_position('top'); ax1.xaxis.set_ticks_position('top'); ax1.tick_params('x',pad=0)\n",
    "f.tight_layout(); f.savefig('figs/subplots.png',dpi=300); plt.show()"
   ]
  },
  {
   "cell_type": "markdown",
   "metadata": {
    "slideshow": {
     "slide_type": "slide"
    },
    "solution2": "hidden"
   },
   "source": [
    "#### Single plot with 2 y-axes for 2 data sets using `twinx()` "
   ]
  },
  {
   "cell_type": "code",
   "execution_count": null,
   "metadata": {
    "collapsed": true,
    "slideshow": {
     "slide_type": "fragment"
    },
    "solution2": "hidden"
   },
   "outputs": [],
   "source": [
    "fig, ax1 = plt.subplots()\n",
    "ax1.set_xlabel('$t$ (min)')\n",
    "ax1.tick_params(axis='y',colors='b')\n",
    "ax1.set_ylabel(r'$\\cos(t)$',color='blue')\n",
    "ax1.plot(np.arange(0,10,.1), np.cos(np.arange(0,10,.1)), color='b')\n",
    "ax2 = ax1.twinx() # creates a new subplot identical to x1, with invisible x-axis and y-axis at right\n",
    "ax2.tick_params(axis='y',colors='r')\n",
    "ax2.set_ylabel(r'$4\\sin(4t)$',color='red')\n",
    "ax2.plot(np.arange(0,10,.1), 4*np.sin(4*np.arange(0,10,.1)), color='r'); plt.show()"
   ]
  },
  {
   "cell_type": "markdown",
   "metadata": {
    "slideshow": {
     "slide_type": "slide"
    },
    "solution2": "hidden"
   },
   "source": [
    "#### Arranging subplots of different sizes on a grid using `subplot2grid()`"
   ]
  },
  {
   "cell_type": "code",
   "execution_count": null,
   "metadata": {
    "collapsed": true,
    "slideshow": {
     "slide_type": "fragment"
    },
    "solution2": "hidden"
   },
   "outputs": [],
   "source": [
    "# first tuple: number of rows and columns in the grid\n",
    "# second tuple: coordinate of the upper left corner of the subplot ax\n",
    "ax = plt.subplot2grid((2, 8), (0, 0), rowspan=2, colspan=4)\n",
    "x = np.arange(1,20,.1)\n",
    "ax.plot(x, np.sinc(x))\n",
    "for i in range(8):\n",
    "    row = 0\n",
    "    col = i + 4\n",
    "    if i > 3:\n",
    "        row = 1\n",
    "        col = i \n",
    "    ax = plt.subplot2grid((2, 8), (row, col), rowspan=1, colspan=1)\n",
    "    ax.plot(x, np.sinc(x),color=colors[i+1],lw=.7)\n",
    "    ax.set_xticks([]); ax.set_yticks([])\n",
    "plt.tight_layout(w_pad=.2,h_pad=.2);"
   ]
  },
  {
   "cell_type": "code",
   "execution_count": null,
   "metadata": {
    "collapsed": true,
    "slideshow": {
     "slide_type": "slide"
    },
    "solution2": "hidden"
   },
   "outputs": [],
   "source": [
    "plt.show()"
   ]
  },
  {
   "cell_type": "markdown",
   "metadata": {
    "slideshow": {
     "slide_type": "slide"
    },
    "solution2": "hidden",
    "solution2_first": true
   },
   "source": [
    "#### Task: generate the composite plot shown below using `subplot2grid()`\n",
    "<img src=\"figs/grid.png\" width=\"600\" align=\"left\"/>"
   ]
  },
  {
   "cell_type": "code",
   "execution_count": null,
   "metadata": {
    "collapsed": true,
    "slideshow": {
     "slide_type": "slide"
    },
    "solution2": "hidden"
   },
   "outputs": [],
   "source": [
    "ax1 = plt.subplot2grid((2, 3), (0, 0), rowspan=1, colspan=2)\n",
    "ax2 = plt.subplot2grid((2, 3), (1, 1), rowspan=1, colspan=2)\n",
    "ax3 = plt.subplot2grid((2, 3), (0, 2), rowspan=1, colspan=1)\n",
    "ax4 = plt.subplot2grid((2, 3), (1, 0), rowspan=1, colspan=1)\n",
    "x = np.arange(1,20,.1)\n",
    "ax1.plot(x, np.cos(x)); ax2.plot(x, np.cos(x)); ax3.plot(x, np.cos(x)); ax4.plot(x, np.cos(x))\n",
    "plt.tight_layout(w_pad=.2,h_pad=.2)\n",
    "plt.savefig('figs/grid.png', dpi=300); plt.show()"
   ]
  },
  {
   "cell_type": "markdown",
   "metadata": {
    "slideshow": {
     "slide_type": "slide"
    }
   },
   "source": [
    "### Example of usage of `subplot2grid()`"
   ]
  },
  {
   "cell_type": "code",
   "execution_count": null,
   "metadata": {
    "collapsed": true,
    "slideshow": {
     "slide_type": "fragment"
    }
   },
   "outputs": [],
   "source": [
    "plt.rcdefaults() # we are going to use the font Arial\n",
    "plt.rcParams.update({'figure.figsize': [6, 3],'font.family':'Arial','font.weight':'bold',\n",
    "                     'savefig.dpi': 300,'legend.labelspacing':0.5,'axes.labelpad':5,\n",
    "                     'xtick.major.width':1.5, 'xtick.major.size':5, \n",
    "                     'ytick.major.width':1.5, 'ytick.major.size':5,\n",
    "                     'xtick.direction':'out','ytick.direction':'out',\n",
    "                     'axes.linewidth':1.5,'xtick.labelsize':10,'ytick.labelsize':10,\n",
    "                     'axes.labelsize':14,'xtick.major.pad':2, 'ytick.major.pad':2})\n",
    "# the figure is divided into 16 rows and 9 columns: a subplot spans 16 rows and 4 columns\n",
    "ax = plt.subplot2grid((16, 9), (0, 0), rowspan=16, colspan=4) \n",
    "x = np.arange(20,450,1)\n",
    "ax.plot(x, np.sinc(x/20), color=colors[0], lw=2, label='curve A')\n",
    "ax.plot(x, np.cos(x/30)*.1, color=colors[3], lw=2, label='curve B')\n",
    "ax.set_ylabel('$A_{tot}$')\n",
    "ax.set_xlabel('$s$')\n",
    "ax.legend(loc='lower right',fontsize=12,frameon=False,handlelength=1,handletextpad=0.5,markerfirst=True)\n",
    "ax.spines['right'].set_visible(False)\n",
    "ax.spines['top'].set_visible(False); plt.show()"
   ]
  },
  {
   "cell_type": "code",
   "execution_count": null,
   "metadata": {
    "collapsed": true,
    "slideshow": {
     "slide_type": "slide"
    }
   },
   "outputs": [],
   "source": [
    "x = np.linspace(-2, 2, 100)\n",
    "z = x*x[:,np.newaxis]*np.exp( - np.add( x**2, x[:,np.newaxis]**2) )\n",
    "abcdefghij = ['A','B','C','D','E','F','G','H','I','J']\n",
    "# we generate 10 subplots spanning 7 rows and 1 column\n",
    "for i in range(10):\n",
    "    row = 0 # the first five subplots span rows 0-6\n",
    "    col = i + 4\n",
    "    if i > 4:\n",
    "        row = 7 # the last five span rows 7-13\n",
    "        col = i - 1\n",
    "    ax = plt.subplot2grid((16, 9), (row, col), rowspan=7, colspan=1)\n",
    "    im = ax.imshow(z*(i+1),cmap=plt.cm.RdBu,extent=[-2,2,-2,2],origin='lower',aspect='equal',vmin=-1,vmax=1) \n",
    "    ax.spines['right'].set_visible(False)\n",
    "    ax.spines['top'].set_visible(False)\n",
    "    ax.spines['left'].set_visible(False)\n",
    "    ax.set_xticks([-2,2])\n",
    "    ax.set_yticks([])\n",
    "    ax.tick_params(labelbottom='off')  \n",
    "    ax.annotate(abcdefghij[i], (.1,1.1), xycoords='axes fraction',fontsize=12)\n",
    "    ax.set_xlabel(str(i)+u' π',{'fontname':'Arial','weight':'bold','size':10},labelpad=4)\n",
    "ax = plt.subplot2grid((16, 9), (15, 4), colspan=5,rowspan=1) # this subplot occupies row 15 and spans 5 columns \n",
    "cb = plt.colorbar(im, cax=ax, orientation='horizontal',ticks=[-1,-.5,0,.5,1])\n",
    "cb.set_label('Counts',labelpad=5,linespacing=1.5,weight='bold',fontsize=14)\n",
    "cb.ax.tick_params(length=5, width=1.5,labelsize=10)\n",
    "plt.tight_layout(w_pad=-.5,h_pad=0); plt.show()"
   ]
  },
  {
   "cell_type": "code",
   "execution_count": null,
   "metadata": {
    "collapsed": true,
    "slideshow": {
     "slide_type": "slide"
    }
   },
   "outputs": [],
   "source": [
    "def plotGrid():\n",
    "    # the figure is divided into 16 rows and 9 columns: a subplot spans 16 rows and 4 columns\n",
    "    ax = plt.subplot2grid((16, 9), (0, 0), rowspan=16, colspan=4) \n",
    "    x = np.arange(20,450,1)\n",
    "    ax.plot(x, np.sinc(x/20), color=colors[0], lw=2, label='curve A')\n",
    "    ax.plot(x, np.cos(x/30)*.1, color=colors[3], lw=2, label='curve B')\n",
    "    ax.set_ylabel('$A_{tot}$')\n",
    "    ax.set_xlabel('$s$')\n",
    "    ax.legend(loc='lower right',fontsize=12,frameon=False,handlelength=1,handletextpad=0.5,markerfirst=True)\n",
    "    ax.spines['right'].set_visible(False)\n",
    "    ax.spines['top'].set_visible(False)\n",
    "    x = np.linspace(-2, 2, 100)\n",
    "    z = x*x[:,np.newaxis]*np.exp( - np.add( x**2, x[:,np.newaxis]**2) )\n",
    "    abcdefghij = ['A','B','C','D','E','F','G','H','I','J']\n",
    "    # we generate 10 subplots spanning 7 rows and 1 column\n",
    "    for i in range(10):\n",
    "        row = 0 # the first five subplots span rows 0-6\n",
    "        col = i + 4\n",
    "        if i > 4:\n",
    "            row = 7 # the last five span rows 7-13\n",
    "            col = i - 1\n",
    "        ax = plt.subplot2grid((16, 9), (row, col), rowspan=7, colspan=1)\n",
    "        im = ax.imshow(z*(i+1),cmap=plt.cm.RdBu,extent=[-2,2,-2,2],origin='lower',aspect='equal',vmin=-1,vmax=1) \n",
    "        ax.spines['right'].set_visible(False)\n",
    "        ax.spines['top'].set_visible(False)\n",
    "        ax.spines['left'].set_visible(False)\n",
    "        ax.set_xticks([-2,2])\n",
    "        ax.set_yticks([])\n",
    "        ax.tick_params(labelbottom='off')  \n",
    "        ax.annotate(abcdefghij[i], (.1,1.1), xycoords='axes fraction',fontsize=12)\n",
    "        ax.set_xlabel(str(i)+u' π',{'fontname':'Arial','weight':'bold','size':10},labelpad=4)\n",
    "    ax = plt.subplot2grid((16, 9), (15, 4), colspan=5,rowspan=1) # this subplot occupies row 15 and spans 5 columns \n",
    "    cb = plt.colorbar(im, cax=ax, orientation='horizontal',ticks=[-1,-.5,0,.5,1])\n",
    "    cb.set_label('Counts',labelpad=5,linespacing=1.5,weight='bold',fontsize=14)\n",
    "    cb.ax.tick_params(length=5, width=1.5,labelsize=10)\n",
    "    plt.tight_layout(w_pad=-.5,h_pad=0)"
   ]
  },
  {
   "cell_type": "markdown",
   "metadata": {
    "slideshow": {
     "slide_type": "slide"
    }
   },
   "source": [
    "#### Saving as (scalable) [vector image](https://en.wikipedia.org/wiki/Vector_graphics) vs. [raster image](https://en.wikipedia.org/wiki/Raster_graphics)"
   ]
  },
  {
   "cell_type": "code",
   "execution_count": null,
   "metadata": {
    "collapsed": true,
    "slideshow": {
     "slide_type": "fragment"
    }
   },
   "outputs": [],
   "source": [
    "plotGrid()\n",
    "plt.savefig('figs/examplegrid.pdf',format='pdf') # vector image \n",
    "plt.savefig('figs/examplegrid.png',format='png') # rasterized image\n",
    "plt.show()"
   ]
  },
  {
   "cell_type": "markdown",
   "metadata": {
    "collapsed": true,
    "slideshow": {
     "slide_type": "slide"
    }
   },
   "source": [
    "### Visualizing Errors"
   ]
  },
  {
   "cell_type": "code",
   "execution_count": null,
   "metadata": {
    "collapsed": true,
    "slideshow": {
     "slide_type": "fragment"
    }
   },
   "outputs": [],
   "source": [
    "x = np.arange(0,6,.5)\n",
    "plt.errorbar(x=x, y=np.exp(-x), yerr=np.sqrt(np.exp(-x)), xerr=np.ones(x.size)*.1,\n",
    "             lw=0, marker='o', ms=4, elinewidth=1., capsize=3, capthick=1., markerfacecolor='w')\n",
    "plt.show()"
   ]
  },
  {
   "cell_type": "markdown",
   "metadata": {
    "slideshow": {
     "slide_type": "slide"
    },
    "solution2": "hidden",
    "solution2_first": true
   },
   "source": [
    "#### Task: generate the plot shown below (tip: we can change the frequency of markers and errorbars with markevery and errorevery)\n",
    "<img src=\"figs/errorbars.png\" width=\"600\" align=\"left\"/>"
   ]
  },
  {
   "cell_type": "code",
   "execution_count": null,
   "metadata": {
    "collapsed": true,
    "slideshow": {
     "slide_type": "slide"
    },
    "solution2": "hidden"
   },
   "outputs": [],
   "source": [
    "x = np.arange(0,6,.5)\n",
    "plt.errorbar(x=x, y=np.exp(-x), yerr=np.sqrt(np.exp(-x)), ecolor=colors[9], color='k',\n",
    "             lw=0, marker='o', ms=7, elinewidth=3., capsize=0, errorevery=2)\n",
    "plt.savefig('figs/errorbars.png'); plt.show()"
   ]
  },
  {
   "cell_type": "markdown",
   "metadata": {
    "slideshow": {
     "slide_type": "slide"
    }
   },
   "source": [
    "#### Visualizing continuous errors with `fill_between()`"
   ]
  },
  {
   "cell_type": "code",
   "execution_count": null,
   "metadata": {
    "collapsed": true,
    "slideshow": {
     "slide_type": "fragment"
    }
   },
   "outputs": [],
   "source": [
    "x = np.arange(0,6,.05); y = y=np.exp(-x); yerr=np.sqrt(np.exp(-x))\n",
    "plt.plot(x, y, color=colors[9],lw=4)\n",
    "plt.fill_between(x, y-yerr, y+yerr, color=colors[9], alpha=.2, lw=0)\n",
    "plt.show()"
   ]
  },
  {
   "cell_type": "markdown",
   "metadata": {
    "slideshow": {
     "slide_type": "slide"
    }
   },
   "source": [
    "#### Smoothening Curves using the LOWESS Method"
   ]
  },
  {
   "cell_type": "code",
   "execution_count": null,
   "metadata": {
    "collapsed": true,
    "slideshow": {
     "slide_type": "fragment"
    }
   },
   "outputs": [],
   "source": [
    "import statsmodels.api as sm\n",
    "lowess = sm.nonparametric.lowess\n",
    "f, (ax1, ax2) = plt.subplots(1, 2, sharey=True)\n",
    "q, i, ierr = np.loadtxt('data/saxs/1.93_mgml_mM60_026_sub.dat',unpack=True,skiprows=33) # load SAXS curve\n",
    "ax1.errorbar(q, i, ierr, lw=0, marker='o', ms=2, elinewidth=.5, capsize=2, capthick=.5, \n",
    "             markevery=5, errorevery=5, color='k')\n",
    "qi_low = lowess(i,q,frac=0.1) # lowess of i\n",
    "qi_lowerr = lowess(ierr,q,frac=0.02) # lowess of ierr\n",
    "ax2.plot(qi_low[:,0], qi_low[:,1], color='k',lw=2) \n",
    "ax2.fill_between(qi_low[:,0], qi_low[:,1]-qi_lowerr[:,1], qi_low[:,1]+qi_lowerr[:,1], \n",
    "                 color='grey', alpha=.6, lw=0)\n",
    "ax2.yaxis.set_ticks_position('right'); ax2.yaxis.set_label_position(\"right\")\n",
    "for ax in f.axes:\n",
    "    ax.set_xlabel('$q$   (nm$^{-1}$)'); ax.set_ylabel('$I(q)$ / $c_p$'); ax.set_ylim(-.15,1.6)\n",
    "f.tight_layout(); plt.show()"
   ]
  },
  {
   "cell_type": "code",
   "execution_count": null,
   "metadata": {
    "collapsed": true,
    "slideshow": {
     "slide_type": "slide"
    }
   },
   "outputs": [],
   "source": [
    "_"
   ]
  },
  {
   "cell_type": "markdown",
   "metadata": {
    "slideshow": {
     "slide_type": "slide"
    }
   },
   "source": [
    "#### Defining specialized plotting routines"
   ]
  },
  {
   "cell_type": "code",
   "execution_count": null,
   "metadata": {
    "collapsed": true,
    "slideshow": {
     "slide_type": "fragment"
    }
   },
   "outputs": [],
   "source": [
    "def plotSAXS(filename,sub1,sub2,color):\n",
    "    q, i, ierr = np.loadtxt(filename,unpack=True,skiprows=33) # load SAXS curve\n",
    "    # plot errorbars in subplot 1\n",
    "    sub1.errorbar(q, i, ierr, lw=0, marker='o', ms=2, elinewidth=.5, capsize=2, capthick=.5, \n",
    "             markevery=2, errorevery=2, color=color)\n",
    "    qi_low = lowess(i,q,frac=0.1) # lowess of i\n",
    "    qi_lowerr = lowess(ierr,q,frac=0.02) # lowess of ierr\n",
    "    # plot lowess in subplot 2\n",
    "    sub2.plot(qi_low[:,0], qi_low[:,1], color=color,lw=2) \n",
    "    sub2.fill_between(qi_low[:,0], qi_low[:,1]-qi_lowerr[:,1], qi_low[:,1]+qi_lowerr[:,1], \n",
    "                 color=color, alpha=.6, lw=0)"
   ]
  },
  {
   "cell_type": "code",
   "execution_count": null,
   "metadata": {
    "collapsed": true,
    "slideshow": {
     "slide_type": "slide"
    }
   },
   "outputs": [],
   "source": [
    "# we use os.listdir to loop over the files in the directory 'data/saxs'\n",
    "from os import listdir\n",
    "\n",
    "f, (ax1, ax2) = plt.subplots(1, 2, sharey=True)\n",
    "\n",
    "for i,filename in enumerate(listdir('data/saxs/')):\n",
    "    plotSAXS('data/saxs/'+filename,ax1,ax2,colors[i])\n",
    "\n",
    "ax2.yaxis.set_ticks_position('right'); ax2.yaxis.set_label_position(\"right\")\n",
    "for ax in f.axes:\n",
    "    ax.set_xlabel('$q$  (nm$^{-1}$)'); ax.set_ylabel('$I(q)$ / $c_p$'); ax.set_ylim(-.15,1.6)\n",
    "f.tight_layout(); plt.show()"
   ]
  },
  {
   "cell_type": "markdown",
   "metadata": {
    "slideshow": {
     "slide_type": "slide"
    }
   },
   "source": [
    "#### `imshow()` example: plotting AFM data"
   ]
  },
  {
   "cell_type": "code",
   "execution_count": null,
   "metadata": {
    "collapsed": true,
    "slideshow": {
     "slide_type": "fragment"
    }
   },
   "outputs": [],
   "source": [
    "def plotAFM(path,subplot,cm,l='',r=(-10,30)):\n",
    "    um = int(path.split('um')[0][-1])\n",
    "    x,y,z = np.loadtxt(path,unpack=True,skiprows=7,usecols=(0,2,4))\n",
    "    img = z.reshape((256,256))\n",
    "    vmin, vmax = r\n",
    "    pixels = img.shape[0]+1\n",
    "    subplot.set_xticks(np.linspace(0,pixels,um+1))\n",
    "    subplot.set_xticklabels(list(map(str, range(um+1))))\n",
    "    subplot.set_yticks(np.linspace(0,pixels,um+1))\n",
    "    subplot.set_yticklabels(list(map(str, range(um+1))))\n",
    "    subplot.set_ylabel(u'µm')\n",
    "    subplot.set_xlabel(u'µm',labelpad=-1)\n",
    "    imgplot = subplot.imshow(img,aspect=1,cmap=cm,vmax=vmax,vmin=vmin,extent=[0,pixels,0,pixels],origin='lower')\n",
    "    cb = plt.colorbar(imgplot,ax=subplot,ticks=np.linspace(vmin,vmax,6),fraction=.045,label=l)\n",
    "    cb.ax.set_yticklabels(['{:1.0f}'.format(i) for i in np.linspace(vmin,vmax,6)]) \n",
    "    return cb;"
   ]
  },
  {
   "cell_type": "code",
   "execution_count": null,
   "metadata": {
    "collapsed": true,
    "slideshow": {
     "slide_type": "slide"
    }
   },
   "outputs": [],
   "source": [
    "plt.rcParams.update({'font.size': 10, 'figure.figsize': [8, 5], \n",
    "                     'xtick.major.size':4, 'ytick.major.size':4})\n",
    "\n",
    "f, ((ax1, ax2, ax3), (ax4, ax5, ax6)) = plt.subplots(2, 3)\n",
    "r1=(-100,150); r2=(-20,30); cm = plt.cm.afmhot\n",
    "cb1 = plotAFM('data/afm/nonsonicated_10uMab40_50mM_5x5um_amplitude.txt',ax1,cm,r=r1)\n",
    "cb2 = plotAFM('data/afm/sonicated_10uMab40_50mM_3x3um_amplitude.txt',ax2,cm,r=r1)\n",
    "cb3 = plotAFM('data/afm/sonicated_10uMab40_200mM_5x5um_amplitude.txt',ax3,cm,l='Amplitude (mV)',r=r1)\n",
    "cb4 = plotAFM('data/afm/nonsonicated_10uMab40_50mM_5x5um_topography.txt',ax4,cm,r=r2)\n",
    "cb5 = plotAFM('data/afm/sonicated_10uMab40_50mM_3x3um_topography.txt',ax5,cm,r=r2)\n",
    "cb6 = plotAFM('data/afm/sonicated_10uMab40_200mM_5x5um_topography.txt',ax6,cm,l='Height (nm)',r=r2)\n",
    "\n",
    "for ax,letter in zip(f.axes[:-2],['A','B','C','D','E','F']):\n",
    "    ax.annotate(letter,xy=(0.08,.83), fontsize=20, xycoords='axes fraction', color='k')\n",
    "cb1.remove(); cb2.remove(); cb4.remove(); cb5.remove();"
   ]
  },
  {
   "cell_type": "code",
   "execution_count": null,
   "metadata": {
    "collapsed": true,
    "slideshow": {
     "slide_type": "slide"
    }
   },
   "outputs": [],
   "source": [
    "plt.show()"
   ]
  },
  {
   "cell_type": "markdown",
   "metadata": {
    "slideshow": {
     "slide_type": "slide"
    }
   },
   "source": [
    "#### Changing the colormap"
   ]
  },
  {
   "cell_type": "code",
   "execution_count": null,
   "metadata": {
    "collapsed": true
   },
   "outputs": [],
   "source": [
    "f, ((ax1, ax2, ax3), (ax4, ax5, ax6)) = plt.subplots(2, 3)\n",
    "r1=(-100,150); r2=(-20,30); cm = plt.cm.viridis\n",
    "cb1 = plotAFM('data/afm/nonsonicated_10uMab40_50mM_5x5um_amplitude.txt',ax1,cm,r=r1)\n",
    "cb2 = plotAFM('data/afm/sonicated_10uMab40_50mM_3x3um_amplitude.txt',ax2,cm,r=r1)\n",
    "cb3 = plotAFM('data/afm/sonicated_10uMab40_200mM_5x5um_amplitude.txt',ax3,cm,l='Amplitude (mV)',r=r1)\n",
    "cb4 = plotAFM('data/afm/nonsonicated_10uMab40_50mM_5x5um_topography.txt',ax4,cm,r=r2)\n",
    "cb5 = plotAFM('data/afm/sonicated_10uMab40_50mM_3x3um_topography.txt',ax5,cm,r=r2)\n",
    "cb6 = plotAFM('data/afm/sonicated_10uMab40_200mM_5x5um_topography.txt',ax6,cm,l='Height (nm)',r=r2)\n",
    "\n",
    "for ax,letter in zip(f.axes[:-2],['A','B','C','D','E','F']):\n",
    "    ax.annotate(letter,xy=(0.08,.83), fontsize=20, xycoords='axes fraction', color='k')\n",
    "cb1.remove(); cb2.remove(); cb4.remove(); cb5.remove();"
   ]
  },
  {
   "cell_type": "code",
   "execution_count": null,
   "metadata": {
    "collapsed": true,
    "slideshow": {
     "slide_type": "slide"
    }
   },
   "outputs": [],
   "source": [
    "plt.show()"
   ]
  },
  {
   "cell_type": "markdown",
   "metadata": {
    "slideshow": {
     "slide_type": "slide"
    }
   },
   "source": [
    "### Simple Example of [`ipywidgets`](http://ipywidgets.readthedocs.io/en/stable/index.html)"
   ]
  },
  {
   "cell_type": "code",
   "execution_count": null,
   "metadata": {
    "collapsed": true,
    "slideshow": {
     "slide_type": "fragment"
    }
   },
   "outputs": [],
   "source": [
    "def E(T, g1, g2, de):\n",
    "    return 8.3145*g2*de*np.exp(-de/T)/(g1+g2*np.exp(-de/T))\n",
    "\n",
    "def Cv(T, g1, g2, de):\n",
    "    return 8.3145*de*de*g1*g2*np.exp(-de/T)/(g1+g2*np.exp(-de/T))/(g1+g2*np.exp(-de/T))/T/T\n",
    "\n",
    "temp = np.linspace(1e-9, 10, 100)"
   ]
  },
  {
   "cell_type": "code",
   "execution_count": null,
   "metadata": {
    "collapsed": true,
    "slideshow": {
     "slide_type": "slide"
    }
   },
   "outputs": [],
   "source": [
    "def plot_TLS( g1=1, g2=3, de=2 ):\n",
    "    fig, ax1 = plt.subplots(figsize=(6,4))\n",
    "    ax1.set_title('Two-Level System', fontsize=18)\n",
    "    ax1.tick_params(axis='y',colors=colors[0])\n",
    "    ax1.set_xlabel(r'Temperature, $T$ (K)', fontsize='x-large')\n",
    "    ax1.set_ylabel(r'Energy per Particle, $<\\epsilon>$ (J mol$^{-1}$)',color=colors[0], fontsize='x-large')\n",
    "    ax1.yaxis.tick_left()\n",
    "    ax1.yaxis.set_ticks_position('left')\n",
    "    ax1.plot(temp, E(temp, g1, g2, de), color=colors[0], lw=4)\n",
    "    ax2 = ax1.twinx()\n",
    "    ax2.tick_params(axis='y',colors=colors[3])\n",
    "    ax2.set_ylabel(r'Heat Capacity, $C_v$ (J K$^{-1}$ mol$^{-1}$)',color=colors[3], fontsize='x-large')\n",
    "    ax2.yaxis.set_label_position(\"right\")\n",
    "    ax2.yaxis.tick_right()\n",
    "    ax2.yaxis.set_ticks_position('right')\n",
    "    ax2.plot(temp, Cv(temp, g1, g2, de), color=colors[3], lw=4)\n",
    "    plt.show() "
   ]
  },
  {
   "cell_type": "code",
   "execution_count": null,
   "metadata": {
    "collapsed": true,
    "slideshow": {
     "slide_type": "slide"
    }
   },
   "outputs": [],
   "source": [
    "plot_TLS()"
   ]
  },
  {
   "cell_type": "code",
   "execution_count": null,
   "metadata": {
    "collapsed": true,
    "slideshow": {
     "slide_type": "slide"
    }
   },
   "outputs": [],
   "source": [
    "from ipywidgets import interactive\n",
    "interactive_plot = interactive(plot_TLS, g1=(1, 20, 1), g2=(1, 20, 1), de=(1, 5, 1) )\n",
    "interactive_plot.children[0].description=r'$g_1$'\n",
    "interactive_plot.children[1].description=r'$g_2$'\n",
    "interactive_plot.children[2].description=r'$\\Delta \\epsilon / k_B$ (K)'\n",
    "interactive_plot"
   ]
  }
 ],
 "metadata": {
  "kernelspec": {
   "display_name": "Python 3",
   "language": "python",
   "name": "python3"
  },
  "language_info": {
   "codemirror_mode": {
    "name": "ipython",
    "version": 3
   },
   "file_extension": ".py",
   "mimetype": "text/x-python",
   "name": "python",
   "nbconvert_exporter": "python",
   "pygments_lexer": "ipython3",
   "version": "3.6.1"
  }
 },
 "nbformat": 4,
 "nbformat_minor": 2
}
